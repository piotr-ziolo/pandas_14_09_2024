{
 "cells": [
  {
   "cell_type": "markdown",
   "id": "76c6b741-296e-4586-a1f1-b6b3fd869b55",
   "metadata": {},
   "source": [
    "#### Jak filtrować ramki?\n",
    "\n",
    "https://builtin.com/data-science/pandas-filter"
   ]
  },
  {
   "cell_type": "markdown",
   "id": "70b718f4-8e17-4815-b54f-18607860d36f",
   "metadata": {},
   "source": [
    "Filtrowanie danych jest jednym z krytycznych kroków w efektywnej analizie danych. W bibliotece pandas wyróżniamy 8 podstawowywch metod filtrowania."
   ]
  },
  {
   "cell_type": "markdown",
   "id": "51c0ded1-58db-4f54-9ca7-eb8b2093eb9d",
   "metadata": {},
   "source": [
    "1. Operatory porównania (comparison operators)\n",
    "2. Funckja `Isin`\n",
    "3. str accessor\n",
    "4. Operatory logiczne (logical operators)\n",
    "5. Zapytanie (query)\n",
    "6. nlargest and nsmallest\n",
    "7. `loc` i `iloc`"
   ]
  },
  {
   "cell_type": "code",
   "execution_count": 1,
   "id": "1a47d398-792c-47e1-9818-8dc30e1aafa9",
   "metadata": {},
   "outputs": [],
   "source": [
    "import numpy as np\n",
    "import pandas as pd"
   ]
  },
  {
   "cell_type": "code",
   "execution_count": 2,
   "id": "638ccfa1-495e-45ff-8d5b-b9fefe21ee5d",
   "metadata": {},
   "outputs": [
    {
     "data": {
      "text/html": [
       "<div>\n",
       "<style scoped>\n",
       "    .dataframe tbody tr th:only-of-type {\n",
       "        vertical-align: middle;\n",
       "    }\n",
       "\n",
       "    .dataframe tbody tr th {\n",
       "        vertical-align: top;\n",
       "    }\n",
       "\n",
       "    .dataframe thead th {\n",
       "        text-align: right;\n",
       "    }\n",
       "</style>\n",
       "<table border=\"1\" class=\"dataframe\">\n",
       "  <thead>\n",
       "    <tr style=\"text-align: right;\">\n",
       "      <th></th>\n",
       "      <th>name</th>\n",
       "      <th>ctg</th>\n",
       "      <th>val</th>\n",
       "      <th>val2</th>\n",
       "    </tr>\n",
       "  </thead>\n",
       "  <tbody>\n",
       "    <tr>\n",
       "      <th>0</th>\n",
       "      <td>Jane</td>\n",
       "      <td>A</td>\n",
       "      <td>0.65</td>\n",
       "      <td>3</td>\n",
       "    </tr>\n",
       "    <tr>\n",
       "      <th>1</th>\n",
       "      <td>John</td>\n",
       "      <td>A</td>\n",
       "      <td>0.39</td>\n",
       "      <td>3</td>\n",
       "    </tr>\n",
       "    <tr>\n",
       "      <th>2</th>\n",
       "      <td>Ashley</td>\n",
       "      <td>C</td>\n",
       "      <td>0.42</td>\n",
       "      <td>9</td>\n",
       "    </tr>\n",
       "    <tr>\n",
       "      <th>3</th>\n",
       "      <td>Mike</td>\n",
       "      <td>B</td>\n",
       "      <td>0.70</td>\n",
       "      <td>5</td>\n",
       "    </tr>\n",
       "    <tr>\n",
       "      <th>4</th>\n",
       "      <td>Emily</td>\n",
       "      <td>B</td>\n",
       "      <td>0.15</td>\n",
       "      <td>6</td>\n",
       "    </tr>\n",
       "    <tr>\n",
       "      <th>5</th>\n",
       "      <td>Jack</td>\n",
       "      <td>C</td>\n",
       "      <td>0.92</td>\n",
       "      <td>4</td>\n",
       "    </tr>\n",
       "    <tr>\n",
       "      <th>6</th>\n",
       "      <td>Catlin</td>\n",
       "      <td>B</td>\n",
       "      <td>0.66</td>\n",
       "      <td>8</td>\n",
       "    </tr>\n",
       "  </tbody>\n",
       "</table>\n",
       "</div>"
      ],
      "text/plain": [
       "     name ctg   val  val2\n",
       "0    Jane   A  0.65     3\n",
       "1    John   A  0.39     3\n",
       "2  Ashley   C  0.42     9\n",
       "3    Mike   B  0.70     5\n",
       "4   Emily   B  0.15     6\n",
       "5    Jack   C  0.92     4\n",
       "6  Catlin   B  0.66     8"
      ]
     },
     "execution_count": 2,
     "metadata": {},
     "output_type": "execute_result"
    }
   ],
   "source": [
    "df = pd.DataFrame({\n",
    "    'name': ['Jane', 'John', 'Ashley', 'Mike', 'Emily', 'Jack', 'Catlin'],\n",
    "    'ctg': ['A', 'A', 'C', 'B', 'B', 'C', 'B'],\n",
    "    'val': np.random.random(7).round(2),\n",
    "    'val2': np.random.randint(1, 10, size=7)\n",
    "})\n",
    "df"
   ]
  },
  {
   "cell_type": "markdown",
   "id": "a25699db-1440-44f8-8fa6-34476bcd387d",
   "metadata": {},
   "source": [
    "### 1. Operatory porównania"
   ]
  },
  {
   "cell_type": "code",
   "execution_count": 3,
   "id": "307fc348-540f-499d-81b9-c28335231a3c",
   "metadata": {},
   "outputs": [
    {
     "data": {
      "text/html": [
       "<div>\n",
       "<style scoped>\n",
       "    .dataframe tbody tr th:only-of-type {\n",
       "        vertical-align: middle;\n",
       "    }\n",
       "\n",
       "    .dataframe tbody tr th {\n",
       "        vertical-align: top;\n",
       "    }\n",
       "\n",
       "    .dataframe thead th {\n",
       "        text-align: right;\n",
       "    }\n",
       "</style>\n",
       "<table border=\"1\" class=\"dataframe\">\n",
       "  <thead>\n",
       "    <tr style=\"text-align: right;\">\n",
       "      <th></th>\n",
       "      <th>name</th>\n",
       "      <th>ctg</th>\n",
       "      <th>val</th>\n",
       "      <th>val2</th>\n",
       "    </tr>\n",
       "  </thead>\n",
       "  <tbody>\n",
       "    <tr>\n",
       "      <th>0</th>\n",
       "      <td>Jane</td>\n",
       "      <td>A</td>\n",
       "      <td>0.65</td>\n",
       "      <td>3</td>\n",
       "    </tr>\n",
       "    <tr>\n",
       "      <th>3</th>\n",
       "      <td>Mike</td>\n",
       "      <td>B</td>\n",
       "      <td>0.70</td>\n",
       "      <td>5</td>\n",
       "    </tr>\n",
       "    <tr>\n",
       "      <th>5</th>\n",
       "      <td>Jack</td>\n",
       "      <td>C</td>\n",
       "      <td>0.92</td>\n",
       "      <td>4</td>\n",
       "    </tr>\n",
       "    <tr>\n",
       "      <th>6</th>\n",
       "      <td>Catlin</td>\n",
       "      <td>B</td>\n",
       "      <td>0.66</td>\n",
       "      <td>8</td>\n",
       "    </tr>\n",
       "  </tbody>\n",
       "</table>\n",
       "</div>"
      ],
      "text/plain": [
       "     name ctg   val  val2\n",
       "0    Jane   A  0.65     3\n",
       "3    Mike   B  0.70     5\n",
       "5    Jack   C  0.92     4\n",
       "6  Catlin   B  0.66     8"
      ]
     },
     "execution_count": 3,
     "metadata": {},
     "output_type": "execute_result"
    }
   ],
   "source": [
    "df[ df.val > 0.5 ]"
   ]
  },
  {
   "cell_type": "markdown",
   "id": "95926cd7-b4ed-4591-8e6d-60295b0fdc86",
   "metadata": {},
   "source": [
    "Jak to działa ?"
   ]
  },
  {
   "cell_type": "markdown",
   "id": "42133fb0-be9b-4c53-93e9-ca5a3fd9ff37",
   "metadata": {},
   "source": [
    "#### Maskowanie"
   ]
  },
  {
   "cell_type": "markdown",
   "id": "a942b4c5-fd0b-4992-9be5-483c28e714a8",
   "metadata": {},
   "source": [
    "Ramki potrafią filtrować dane na podstawie wartości logicznych. Wyciągnijmy pierwsze dwa wiersze i przedostatni wiersz z ramki."
   ]
  },
  {
   "cell_type": "code",
   "execution_count": 4,
   "id": "4157274d-795c-40a3-b491-74bdf60332c2",
   "metadata": {},
   "outputs": [
    {
     "data": {
      "text/html": [
       "<div>\n",
       "<style scoped>\n",
       "    .dataframe tbody tr th:only-of-type {\n",
       "        vertical-align: middle;\n",
       "    }\n",
       "\n",
       "    .dataframe tbody tr th {\n",
       "        vertical-align: top;\n",
       "    }\n",
       "\n",
       "    .dataframe thead th {\n",
       "        text-align: right;\n",
       "    }\n",
       "</style>\n",
       "<table border=\"1\" class=\"dataframe\">\n",
       "  <thead>\n",
       "    <tr style=\"text-align: right;\">\n",
       "      <th></th>\n",
       "      <th>name</th>\n",
       "      <th>ctg</th>\n",
       "      <th>val</th>\n",
       "      <th>val2</th>\n",
       "    </tr>\n",
       "  </thead>\n",
       "  <tbody>\n",
       "    <tr>\n",
       "      <th>0</th>\n",
       "      <td>Jane</td>\n",
       "      <td>A</td>\n",
       "      <td>0.65</td>\n",
       "      <td>3</td>\n",
       "    </tr>\n",
       "    <tr>\n",
       "      <th>1</th>\n",
       "      <td>John</td>\n",
       "      <td>A</td>\n",
       "      <td>0.39</td>\n",
       "      <td>3</td>\n",
       "    </tr>\n",
       "    <tr>\n",
       "      <th>6</th>\n",
       "      <td>Catlin</td>\n",
       "      <td>B</td>\n",
       "      <td>0.66</td>\n",
       "      <td>8</td>\n",
       "    </tr>\n",
       "  </tbody>\n",
       "</table>\n",
       "</div>"
      ],
      "text/plain": [
       "     name ctg   val  val2\n",
       "0    Jane   A  0.65     3\n",
       "1    John   A  0.39     3\n",
       "6  Catlin   B  0.66     8"
      ]
     },
     "execution_count": 4,
     "metadata": {},
     "output_type": "execute_result"
    }
   ],
   "source": [
    "df.iloc[[0, 1, -1]]"
   ]
  },
  {
   "cell_type": "markdown",
   "id": "cd29801a-2308-4240-83e4-333e8529172b",
   "metadata": {},
   "source": [
    "Taki zestaw wartości logicznych w kontekście filtrowania danych nazywamy **maską**."
   ]
  },
  {
   "cell_type": "code",
   "execution_count": 5,
   "id": "cd319c84-18a2-4320-9823-ba0126903606",
   "metadata": {},
   "outputs": [
    {
     "data": {
      "text/html": [
       "<div>\n",
       "<style scoped>\n",
       "    .dataframe tbody tr th:only-of-type {\n",
       "        vertical-align: middle;\n",
       "    }\n",
       "\n",
       "    .dataframe tbody tr th {\n",
       "        vertical-align: top;\n",
       "    }\n",
       "\n",
       "    .dataframe thead th {\n",
       "        text-align: right;\n",
       "    }\n",
       "</style>\n",
       "<table border=\"1\" class=\"dataframe\">\n",
       "  <thead>\n",
       "    <tr style=\"text-align: right;\">\n",
       "      <th></th>\n",
       "      <th>name</th>\n",
       "      <th>ctg</th>\n",
       "      <th>val</th>\n",
       "      <th>val2</th>\n",
       "    </tr>\n",
       "  </thead>\n",
       "  <tbody>\n",
       "    <tr>\n",
       "      <th>0</th>\n",
       "      <td>Jane</td>\n",
       "      <td>A</td>\n",
       "      <td>0.65</td>\n",
       "      <td>3</td>\n",
       "    </tr>\n",
       "    <tr>\n",
       "      <th>1</th>\n",
       "      <td>John</td>\n",
       "      <td>A</td>\n",
       "      <td>0.39</td>\n",
       "      <td>3</td>\n",
       "    </tr>\n",
       "    <tr>\n",
       "      <th>6</th>\n",
       "      <td>Catlin</td>\n",
       "      <td>B</td>\n",
       "      <td>0.66</td>\n",
       "      <td>8</td>\n",
       "    </tr>\n",
       "  </tbody>\n",
       "</table>\n",
       "</div>"
      ],
      "text/plain": [
       "     name ctg   val  val2\n",
       "0    Jane   A  0.65     3\n",
       "1    John   A  0.39     3\n",
       "6  Catlin   B  0.66     8"
      ]
     },
     "execution_count": 5,
     "metadata": {},
     "output_type": "execute_result"
    }
   ],
   "source": [
    "mask = [True, True, False, False, False, False, True]\n",
    "df[mask]"
   ]
  },
  {
   "cell_type": "markdown",
   "id": "5a906b7c-4c02-48cf-98de-2036e08a46a1",
   "metadata": {},
   "source": [
    "Maska może być listą lub serią."
   ]
  },
  {
   "cell_type": "code",
   "execution_count": 6,
   "id": "c145df7c-950c-45e6-9ceb-b7fe9a9e00cf",
   "metadata": {},
   "outputs": [
    {
     "data": {
      "text/html": [
       "<div>\n",
       "<style scoped>\n",
       "    .dataframe tbody tr th:only-of-type {\n",
       "        vertical-align: middle;\n",
       "    }\n",
       "\n",
       "    .dataframe tbody tr th {\n",
       "        vertical-align: top;\n",
       "    }\n",
       "\n",
       "    .dataframe thead th {\n",
       "        text-align: right;\n",
       "    }\n",
       "</style>\n",
       "<table border=\"1\" class=\"dataframe\">\n",
       "  <thead>\n",
       "    <tr style=\"text-align: right;\">\n",
       "      <th></th>\n",
       "      <th>name</th>\n",
       "      <th>ctg</th>\n",
       "      <th>val</th>\n",
       "      <th>val2</th>\n",
       "    </tr>\n",
       "  </thead>\n",
       "  <tbody>\n",
       "    <tr>\n",
       "      <th>0</th>\n",
       "      <td>Jane</td>\n",
       "      <td>A</td>\n",
       "      <td>0.65</td>\n",
       "      <td>3</td>\n",
       "    </tr>\n",
       "    <tr>\n",
       "      <th>1</th>\n",
       "      <td>John</td>\n",
       "      <td>A</td>\n",
       "      <td>0.39</td>\n",
       "      <td>3</td>\n",
       "    </tr>\n",
       "    <tr>\n",
       "      <th>6</th>\n",
       "      <td>Catlin</td>\n",
       "      <td>B</td>\n",
       "      <td>0.66</td>\n",
       "      <td>8</td>\n",
       "    </tr>\n",
       "  </tbody>\n",
       "</table>\n",
       "</div>"
      ],
      "text/plain": [
       "     name ctg   val  val2\n",
       "0    Jane   A  0.65     3\n",
       "1    John   A  0.39     3\n",
       "6  Catlin   B  0.66     8"
      ]
     },
     "execution_count": 6,
     "metadata": {},
     "output_type": "execute_result"
    }
   ],
   "source": [
    "mask = pd.Series([True, True, False, False, False, False, True])\n",
    "df[mask]"
   ]
  },
  {
   "cell_type": "markdown",
   "id": "99ccca24-aab7-463d-9439-e39ce638971b",
   "metadata": {},
   "source": [
    "#### Warunki logiczne z serią"
   ]
  },
  {
   "cell_type": "code",
   "execution_count": 7,
   "id": "bbcef1e7-ba47-4f73-80f5-0e605c5ce1f9",
   "metadata": {},
   "outputs": [
    {
     "data": {
      "text/plain": [
       "0    0.65\n",
       "1    0.39\n",
       "2    0.42\n",
       "3    0.70\n",
       "4    0.15\n",
       "5    0.92\n",
       "6    0.66\n",
       "Name: val, dtype: float64"
      ]
     },
     "execution_count": 7,
     "metadata": {},
     "output_type": "execute_result"
    }
   ],
   "source": [
    "df.val"
   ]
  },
  {
   "cell_type": "markdown",
   "id": "faf7e172-4244-4bfe-b26a-aa5cfa543aa5",
   "metadata": {},
   "source": [
    "`df.val` to seria. Operator logiczny w działaniu na serie zwraca nową serię z wartościami logicznymi."
   ]
  },
  {
   "cell_type": "code",
   "execution_count": 8,
   "id": "c4fa2f83-0e6c-4655-9758-a1a43c90d48d",
   "metadata": {},
   "outputs": [
    {
     "data": {
      "text/plain": [
       "0     True\n",
       "1    False\n",
       "2    False\n",
       "3     True\n",
       "4    False\n",
       "5     True\n",
       "6     True\n",
       "Name: val, dtype: bool"
      ]
     },
     "execution_count": 8,
     "metadata": {},
     "output_type": "execute_result"
    }
   ],
   "source": [
    "df.val > 0.5"
   ]
  },
  {
   "cell_type": "markdown",
   "id": "d7d1edc2-117e-40f8-8961-aa0f98d31d9a",
   "metadata": {},
   "source": [
    "No ale przecież to jest gotowa maska. "
   ]
  },
  {
   "cell_type": "code",
   "execution_count": 9,
   "id": "6503c51b-ddc2-4984-9236-713ea3209d16",
   "metadata": {},
   "outputs": [
    {
     "data": {
      "text/html": [
       "<div>\n",
       "<style scoped>\n",
       "    .dataframe tbody tr th:only-of-type {\n",
       "        vertical-align: middle;\n",
       "    }\n",
       "\n",
       "    .dataframe tbody tr th {\n",
       "        vertical-align: top;\n",
       "    }\n",
       "\n",
       "    .dataframe thead th {\n",
       "        text-align: right;\n",
       "    }\n",
       "</style>\n",
       "<table border=\"1\" class=\"dataframe\">\n",
       "  <thead>\n",
       "    <tr style=\"text-align: right;\">\n",
       "      <th></th>\n",
       "      <th>name</th>\n",
       "      <th>ctg</th>\n",
       "      <th>val</th>\n",
       "      <th>val2</th>\n",
       "    </tr>\n",
       "  </thead>\n",
       "  <tbody>\n",
       "    <tr>\n",
       "      <th>0</th>\n",
       "      <td>Jane</td>\n",
       "      <td>A</td>\n",
       "      <td>0.65</td>\n",
       "      <td>3</td>\n",
       "    </tr>\n",
       "    <tr>\n",
       "      <th>3</th>\n",
       "      <td>Mike</td>\n",
       "      <td>B</td>\n",
       "      <td>0.70</td>\n",
       "      <td>5</td>\n",
       "    </tr>\n",
       "    <tr>\n",
       "      <th>5</th>\n",
       "      <td>Jack</td>\n",
       "      <td>C</td>\n",
       "      <td>0.92</td>\n",
       "      <td>4</td>\n",
       "    </tr>\n",
       "    <tr>\n",
       "      <th>6</th>\n",
       "      <td>Catlin</td>\n",
       "      <td>B</td>\n",
       "      <td>0.66</td>\n",
       "      <td>8</td>\n",
       "    </tr>\n",
       "  </tbody>\n",
       "</table>\n",
       "</div>"
      ],
      "text/plain": [
       "     name ctg   val  val2\n",
       "0    Jane   A  0.65     3\n",
       "3    Mike   B  0.70     5\n",
       "5    Jack   C  0.92     4\n",
       "6  Catlin   B  0.66     8"
      ]
     },
     "execution_count": 9,
     "metadata": {},
     "output_type": "execute_result"
    }
   ],
   "source": [
    "mask = df.val > 0.5\n",
    "df[mask]"
   ]
  },
  {
   "cell_type": "code",
   "execution_count": 10,
   "id": "cc768fa5-502d-4d00-8c9b-540658452916",
   "metadata": {},
   "outputs": [
    {
     "data": {
      "text/html": [
       "<div>\n",
       "<style scoped>\n",
       "    .dataframe tbody tr th:only-of-type {\n",
       "        vertical-align: middle;\n",
       "    }\n",
       "\n",
       "    .dataframe tbody tr th {\n",
       "        vertical-align: top;\n",
       "    }\n",
       "\n",
       "    .dataframe thead th {\n",
       "        text-align: right;\n",
       "    }\n",
       "</style>\n",
       "<table border=\"1\" class=\"dataframe\">\n",
       "  <thead>\n",
       "    <tr style=\"text-align: right;\">\n",
       "      <th></th>\n",
       "      <th>name</th>\n",
       "      <th>ctg</th>\n",
       "      <th>val</th>\n",
       "      <th>val2</th>\n",
       "    </tr>\n",
       "  </thead>\n",
       "  <tbody>\n",
       "    <tr>\n",
       "      <th>0</th>\n",
       "      <td>Jane</td>\n",
       "      <td>A</td>\n",
       "      <td>0.65</td>\n",
       "      <td>3</td>\n",
       "    </tr>\n",
       "    <tr>\n",
       "      <th>3</th>\n",
       "      <td>Mike</td>\n",
       "      <td>B</td>\n",
       "      <td>0.70</td>\n",
       "      <td>5</td>\n",
       "    </tr>\n",
       "    <tr>\n",
       "      <th>5</th>\n",
       "      <td>Jack</td>\n",
       "      <td>C</td>\n",
       "      <td>0.92</td>\n",
       "      <td>4</td>\n",
       "    </tr>\n",
       "    <tr>\n",
       "      <th>6</th>\n",
       "      <td>Catlin</td>\n",
       "      <td>B</td>\n",
       "      <td>0.66</td>\n",
       "      <td>8</td>\n",
       "    </tr>\n",
       "  </tbody>\n",
       "</table>\n",
       "</div>"
      ],
      "text/plain": [
       "     name ctg   val  val2\n",
       "0    Jane   A  0.65     3\n",
       "3    Mike   B  0.70     5\n",
       "5    Jack   C  0.92     4\n",
       "6  Catlin   B  0.66     8"
      ]
     },
     "execution_count": 10,
     "metadata": {},
     "output_type": "execute_result"
    }
   ],
   "source": [
    "df[df.val>=0.5]"
   ]
  },
  {
   "cell_type": "markdown",
   "id": "9d8eaa29-a31d-4703-a39e-42217a3cae9b",
   "metadata": {},
   "source": [
    "W ten sposób działa filtrowanie za pomocą operatorów logicznych."
   ]
  },
  {
   "cell_type": "markdown",
   "id": "5c0ea65f-e1aa-4382-b485-4d22963a31d9",
   "metadata": {},
   "source": [
    "### 2. Metoda `isin`"
   ]
  },
  {
   "cell_type": "markdown",
   "id": "bb36437b-e95e-46f4-8509-4b8985067e94",
   "metadata": {},
   "source": [
    "Metoda `isin` serii pozwala na sprawdzenie, czy wartość znajduje się we wskazanej kolekcji wartości."
   ]
  },
  {
   "cell_type": "code",
   "execution_count": 11,
   "id": "3abf9216-804a-4ed3-ac0a-e6ef39f288c8",
   "metadata": {},
   "outputs": [],
   "source": [
    "names = ['John', 'Catlin', 'Mike']"
   ]
  },
  {
   "cell_type": "code",
   "execution_count": 12,
   "id": "7e9943fb-3399-4585-9064-151af11eedc1",
   "metadata": {},
   "outputs": [
    {
     "data": {
      "text/html": [
       "<div>\n",
       "<style scoped>\n",
       "    .dataframe tbody tr th:only-of-type {\n",
       "        vertical-align: middle;\n",
       "    }\n",
       "\n",
       "    .dataframe tbody tr th {\n",
       "        vertical-align: top;\n",
       "    }\n",
       "\n",
       "    .dataframe thead th {\n",
       "        text-align: right;\n",
       "    }\n",
       "</style>\n",
       "<table border=\"1\" class=\"dataframe\">\n",
       "  <thead>\n",
       "    <tr style=\"text-align: right;\">\n",
       "      <th></th>\n",
       "      <th>name</th>\n",
       "      <th>ctg</th>\n",
       "      <th>val</th>\n",
       "      <th>val2</th>\n",
       "    </tr>\n",
       "  </thead>\n",
       "  <tbody>\n",
       "    <tr>\n",
       "      <th>0</th>\n",
       "      <td>Jane</td>\n",
       "      <td>A</td>\n",
       "      <td>0.65</td>\n",
       "      <td>3</td>\n",
       "    </tr>\n",
       "    <tr>\n",
       "      <th>1</th>\n",
       "      <td>John</td>\n",
       "      <td>A</td>\n",
       "      <td>0.39</td>\n",
       "      <td>3</td>\n",
       "    </tr>\n",
       "    <tr>\n",
       "      <th>2</th>\n",
       "      <td>Ashley</td>\n",
       "      <td>C</td>\n",
       "      <td>0.42</td>\n",
       "      <td>9</td>\n",
       "    </tr>\n",
       "    <tr>\n",
       "      <th>3</th>\n",
       "      <td>Mike</td>\n",
       "      <td>B</td>\n",
       "      <td>0.70</td>\n",
       "      <td>5</td>\n",
       "    </tr>\n",
       "    <tr>\n",
       "      <th>4</th>\n",
       "      <td>Emily</td>\n",
       "      <td>B</td>\n",
       "      <td>0.15</td>\n",
       "      <td>6</td>\n",
       "    </tr>\n",
       "    <tr>\n",
       "      <th>5</th>\n",
       "      <td>Jack</td>\n",
       "      <td>C</td>\n",
       "      <td>0.92</td>\n",
       "      <td>4</td>\n",
       "    </tr>\n",
       "    <tr>\n",
       "      <th>6</th>\n",
       "      <td>Catlin</td>\n",
       "      <td>B</td>\n",
       "      <td>0.66</td>\n",
       "      <td>8</td>\n",
       "    </tr>\n",
       "  </tbody>\n",
       "</table>\n",
       "</div>"
      ],
      "text/plain": [
       "     name ctg   val  val2\n",
       "0    Jane   A  0.65     3\n",
       "1    John   A  0.39     3\n",
       "2  Ashley   C  0.42     9\n",
       "3    Mike   B  0.70     5\n",
       "4   Emily   B  0.15     6\n",
       "5    Jack   C  0.92     4\n",
       "6  Catlin   B  0.66     8"
      ]
     },
     "execution_count": 12,
     "metadata": {},
     "output_type": "execute_result"
    }
   ],
   "source": [
    "df"
   ]
  },
  {
   "cell_type": "code",
   "execution_count": 13,
   "id": "296914d6-f3a4-4103-a5ce-a1dd8624016d",
   "metadata": {},
   "outputs": [
    {
     "data": {
      "text/plain": [
       "0    False\n",
       "1     True\n",
       "2    False\n",
       "3     True\n",
       "4    False\n",
       "5    False\n",
       "6     True\n",
       "Name: name, dtype: bool"
      ]
     },
     "execution_count": 13,
     "metadata": {},
     "output_type": "execute_result"
    }
   ],
   "source": [
    "df['name'].isin(names)"
   ]
  },
  {
   "cell_type": "markdown",
   "id": "d357a25d-4107-4d4a-8da0-c9ce69f1e4cb",
   "metadata": {},
   "source": [
    "Widzimy, że metoda zwraca serię, która idealnie nadaje się na maskę. Czyli:"
   ]
  },
  {
   "cell_type": "code",
   "execution_count": 14,
   "id": "6bbb2876-51ad-47e3-b256-a9ab40fcc3cc",
   "metadata": {},
   "outputs": [
    {
     "data": {
      "text/html": [
       "<div>\n",
       "<style scoped>\n",
       "    .dataframe tbody tr th:only-of-type {\n",
       "        vertical-align: middle;\n",
       "    }\n",
       "\n",
       "    .dataframe tbody tr th {\n",
       "        vertical-align: top;\n",
       "    }\n",
       "\n",
       "    .dataframe thead th {\n",
       "        text-align: right;\n",
       "    }\n",
       "</style>\n",
       "<table border=\"1\" class=\"dataframe\">\n",
       "  <thead>\n",
       "    <tr style=\"text-align: right;\">\n",
       "      <th></th>\n",
       "      <th>name</th>\n",
       "      <th>ctg</th>\n",
       "      <th>val</th>\n",
       "      <th>val2</th>\n",
       "    </tr>\n",
       "  </thead>\n",
       "  <tbody>\n",
       "    <tr>\n",
       "      <th>1</th>\n",
       "      <td>John</td>\n",
       "      <td>A</td>\n",
       "      <td>0.39</td>\n",
       "      <td>3</td>\n",
       "    </tr>\n",
       "    <tr>\n",
       "      <th>3</th>\n",
       "      <td>Mike</td>\n",
       "      <td>B</td>\n",
       "      <td>0.70</td>\n",
       "      <td>5</td>\n",
       "    </tr>\n",
       "    <tr>\n",
       "      <th>6</th>\n",
       "      <td>Catlin</td>\n",
       "      <td>B</td>\n",
       "      <td>0.66</td>\n",
       "      <td>8</td>\n",
       "    </tr>\n",
       "  </tbody>\n",
       "</table>\n",
       "</div>"
      ],
      "text/plain": [
       "     name ctg   val  val2\n",
       "1    John   A  0.39     3\n",
       "3    Mike   B  0.70     5\n",
       "6  Catlin   B  0.66     8"
      ]
     },
     "execution_count": 14,
     "metadata": {},
     "output_type": "execute_result"
    }
   ],
   "source": [
    "df[df['name'].isin(names)]"
   ]
  },
  {
   "cell_type": "markdown",
   "id": "785e51ff-9c9b-4ee7-9bab-e5aaa7ff4f79",
   "metadata": {},
   "source": [
    "### 3. str accessor"
   ]
  },
  {
   "cell_type": "code",
   "execution_count": 15,
   "id": "b0814237-e095-4b34-9e6d-ccac04897474",
   "metadata": {
    "scrolled": true
   },
   "outputs": [
    {
     "name": "stdout",
     "output_type": "stream",
     "text": [
      "\u001b[1;31mType:\u001b[0m        StringMethods\n",
      "\u001b[1;31mString form:\u001b[0m <pandas.core.strings.accessor.StringMethods object at 0x0000022C80013850>\n",
      "\u001b[1;31mFile:\u001b[0m        c:\\programdata\\anaconda3\\lib\\site-packages\\pandas\\core\\strings\\accessor.py\n",
      "\u001b[1;31mDocstring:\u001b[0m  \n",
      "Vectorized string functions for Series and Index.\n",
      "\n",
      "NAs stay NA unless handled otherwise by a particular method.\n",
      "Patterned after Python's string methods, with some inspiration from\n",
      "R's stringr package.\n",
      "\n",
      "Examples\n",
      "--------\n",
      ">>> s = pd.Series([\"A_Str_Series\"])\n",
      ">>> s\n",
      "0    A_Str_Series\n",
      "dtype: object\n",
      "\n",
      ">>> s.str.split(\"_\")\n",
      "0    [A, Str, Series]\n",
      "dtype: object\n",
      "\n",
      ">>> s.str.replace(\"_\", \"\")\n",
      "0    AStrSeries\n",
      "dtype: object"
     ]
    }
   ],
   "source": [
    "df.name.str?"
   ]
  },
  {
   "cell_type": "code",
   "execution_count": 16,
   "id": "a65d9718-f3ff-4c85-a2a8-3f70230a9050",
   "metadata": {},
   "outputs": [
    {
     "data": {
      "text/plain": [
       "pandas.core.strings.accessor.StringMethods"
      ]
     },
     "execution_count": 16,
     "metadata": {},
     "output_type": "execute_result"
    }
   ],
   "source": [
    "type(df.name.str)"
   ]
  },
  {
   "cell_type": "markdown",
   "id": "5a4bb042-f847-4ba4-b869-f6b210e6d8d9",
   "metadata": {},
   "source": [
    "Klasa `StringMethods` posiada zestaw zwektoryzowanych metod do pracy z napisami."
   ]
  },
  {
   "cell_type": "code",
   "execution_count": 17,
   "id": "9a2814e0-7b64-413b-931f-c6ddd05e67e3",
   "metadata": {},
   "outputs": [
    {
     "name": "stdout",
     "output_type": "stream",
     "text": [
      "['__annotations__', '__class__', '__delattr__', '__dict__', '__dir__', '__doc__', '__eq__', '__format__', '__frozen', '__ge__', '__getattribute__', '__getitem__', '__getstate__', '__gt__', '__hash__', '__init__', '__init_subclass__', '__iter__', '__le__', '__lt__', '__module__', '__ne__', '__new__', '__reduce__', '__reduce_ex__', '__repr__', '__setattr__', '__sizeof__', '__str__', '__subclasshook__', '__weakref__', '_data', '_doc_args', '_freeze', '_get_series_list', '_index', '_inferred_dtype', '_is_categorical', '_is_string', '_name', '_orig', '_parent', '_validate', '_wrap_result', 'capitalize', 'casefold', 'cat', 'center', 'contains', 'count', 'decode', 'encode', 'endswith', 'extract', 'extractall', 'find', 'findall', 'fullmatch', 'get', 'get_dummies', 'index', 'isalnum', 'isalpha', 'isdecimal', 'isdigit', 'islower', 'isnumeric', 'isspace', 'istitle', 'isupper', 'join', 'len', 'ljust', 'lower', 'lstrip', 'match', 'normalize', 'pad', 'partition', 'removeprefix', 'removesuffix', 'repeat', 'replace', 'rfind', 'rindex', 'rjust', 'rpartition', 'rsplit', 'rstrip', 'slice', 'slice_replace', 'split', 'startswith', 'strip', 'swapcase', 'title', 'translate', 'upper', 'wrap', 'zfill']\n"
     ]
    }
   ],
   "source": [
    "print(dir(df.name.str))"
   ]
  },
  {
   "cell_type": "markdown",
   "id": "1efaedb3-6314-4f70-a849-7bcf45cc1c04",
   "metadata": {},
   "source": [
    "Znamy te metody z podstawowej pracy na napisach w pythonie. Metody klasy `StringMethods` są ich zwektoryzowanymi odpowiednikami (czyt. działają na wszystkich elementach serii). Część z nich (te, które zwracają wartości logiczne) możemy wykorzystać do stworzenia maski."
   ]
  },
  {
   "cell_type": "code",
   "execution_count": 18,
   "id": "d5976f32-d4b9-4416-8f56-75a297fdf7e9",
   "metadata": {},
   "outputs": [
    {
     "data": {
      "text/plain": [
       "0    False\n",
       "1    False\n",
       "2    False\n",
       "3     True\n",
       "4     True\n",
       "5    False\n",
       "6     True\n",
       "Name: name, dtype: bool"
      ]
     },
     "execution_count": 18,
     "metadata": {},
     "output_type": "execute_result"
    }
   ],
   "source": [
    "df.name.str.contains('i')"
   ]
  },
  {
   "cell_type": "code",
   "execution_count": 19,
   "id": "48ff0e99-9690-4363-95f6-b7cf1de582ea",
   "metadata": {},
   "outputs": [
    {
     "data": {
      "text/plain": [
       "Ellipsis"
      ]
     },
     "execution_count": 19,
     "metadata": {},
     "output_type": "execute_result"
    }
   ],
   "source": [
    "..."
   ]
  },
  {
   "cell_type": "code",
   "execution_count": 20,
   "id": "f6747674-1f44-437d-8a13-6b03dcc98a4c",
   "metadata": {},
   "outputs": [
    {
     "data": {
      "text/html": [
       "<div>\n",
       "<style scoped>\n",
       "    .dataframe tbody tr th:only-of-type {\n",
       "        vertical-align: middle;\n",
       "    }\n",
       "\n",
       "    .dataframe tbody tr th {\n",
       "        vertical-align: top;\n",
       "    }\n",
       "\n",
       "    .dataframe thead th {\n",
       "        text-align: right;\n",
       "    }\n",
       "</style>\n",
       "<table border=\"1\" class=\"dataframe\">\n",
       "  <thead>\n",
       "    <tr style=\"text-align: right;\">\n",
       "      <th></th>\n",
       "      <th>name</th>\n",
       "      <th>ctg</th>\n",
       "      <th>val</th>\n",
       "      <th>val2</th>\n",
       "    </tr>\n",
       "  </thead>\n",
       "  <tbody>\n",
       "    <tr>\n",
       "      <th>3</th>\n",
       "      <td>Mike</td>\n",
       "      <td>B</td>\n",
       "      <td>0.70</td>\n",
       "      <td>5</td>\n",
       "    </tr>\n",
       "    <tr>\n",
       "      <th>4</th>\n",
       "      <td>Emily</td>\n",
       "      <td>B</td>\n",
       "      <td>0.15</td>\n",
       "      <td>6</td>\n",
       "    </tr>\n",
       "    <tr>\n",
       "      <th>6</th>\n",
       "      <td>Catlin</td>\n",
       "      <td>B</td>\n",
       "      <td>0.66</td>\n",
       "      <td>8</td>\n",
       "    </tr>\n",
       "  </tbody>\n",
       "</table>\n",
       "</div>"
      ],
      "text/plain": [
       "     name ctg   val  val2\n",
       "3    Mike   B  0.70     5\n",
       "4   Emily   B  0.15     6\n",
       "6  Catlin   B  0.66     8"
      ]
     },
     "execution_count": 20,
     "metadata": {},
     "output_type": "execute_result"
    }
   ],
   "source": [
    "mask = df.name.str.contains(\"i\")\n",
    "df[mask]"
   ]
  },
  {
   "cell_type": "markdown",
   "id": "3edcb35f-31e9-4743-8eb9-61dffd924421",
   "metadata": {},
   "source": [
    "### 4. Operatory logiczne"
   ]
  },
  {
   "cell_type": "markdown",
   "id": "958610f8-0f02-4892-80e1-35b564de71a5",
   "metadata": {},
   "source": [
    "Standoardowo, w połączeniu z operatorami porównania możemy użyć operatorów logicznych w postaci sumy, iloczynu i różnicy logicznej. W bibliotece Pandas posługujemy się odpowiednio operatorami:\n",
    "- `&` (and)\n",
    "- `|` (or)\n",
    "- `~` (not)\n",
    "\n",
    "Składowe warunki należy umieścić w nawiasach, w przeciwnym razie instrukcja nie zadziała."
   ]
  },
  {
   "cell_type": "markdown",
   "id": "fa102c07-aa20-45b4-8724-45b82dc24a27",
   "metadata": {},
   "source": [
    "##### AND (Iloczyn)"
   ]
  },
  {
   "cell_type": "code",
   "execution_count": 21,
   "id": "300a5f20-679d-4e1b-a3ee-9063745ce414",
   "metadata": {},
   "outputs": [
    {
     "data": {
      "text/plain": [
       "0     True\n",
       "1    False\n",
       "2    False\n",
       "3     True\n",
       "4    False\n",
       "5     True\n",
       "6     True\n",
       "dtype: bool"
      ]
     },
     "execution_count": 21,
     "metadata": {},
     "output_type": "execute_result"
    }
   ],
   "source": [
    "(df.val > 0.5) & (df.name > \"B\")"
   ]
  },
  {
   "cell_type": "code",
   "execution_count": 22,
   "id": "838868f4-21f1-4cfe-a638-8b8947d0fc8c",
   "metadata": {},
   "outputs": [
    {
     "data": {
      "text/html": [
       "<div>\n",
       "<style scoped>\n",
       "    .dataframe tbody tr th:only-of-type {\n",
       "        vertical-align: middle;\n",
       "    }\n",
       "\n",
       "    .dataframe tbody tr th {\n",
       "        vertical-align: top;\n",
       "    }\n",
       "\n",
       "    .dataframe thead th {\n",
       "        text-align: right;\n",
       "    }\n",
       "</style>\n",
       "<table border=\"1\" class=\"dataframe\">\n",
       "  <thead>\n",
       "    <tr style=\"text-align: right;\">\n",
       "      <th></th>\n",
       "      <th>name</th>\n",
       "      <th>ctg</th>\n",
       "      <th>val</th>\n",
       "      <th>val2</th>\n",
       "    </tr>\n",
       "  </thead>\n",
       "  <tbody>\n",
       "    <tr>\n",
       "      <th>0</th>\n",
       "      <td>Jane</td>\n",
       "      <td>A</td>\n",
       "      <td>0.65</td>\n",
       "      <td>3</td>\n",
       "    </tr>\n",
       "    <tr>\n",
       "      <th>3</th>\n",
       "      <td>Mike</td>\n",
       "      <td>B</td>\n",
       "      <td>0.70</td>\n",
       "      <td>5</td>\n",
       "    </tr>\n",
       "    <tr>\n",
       "      <th>5</th>\n",
       "      <td>Jack</td>\n",
       "      <td>C</td>\n",
       "      <td>0.92</td>\n",
       "      <td>4</td>\n",
       "    </tr>\n",
       "    <tr>\n",
       "      <th>6</th>\n",
       "      <td>Catlin</td>\n",
       "      <td>B</td>\n",
       "      <td>0.66</td>\n",
       "      <td>8</td>\n",
       "    </tr>\n",
       "  </tbody>\n",
       "</table>\n",
       "</div>"
      ],
      "text/plain": [
       "     name ctg   val  val2\n",
       "0    Jane   A  0.65     3\n",
       "3    Mike   B  0.70     5\n",
       "5    Jack   C  0.92     4\n",
       "6  Catlin   B  0.66     8"
      ]
     },
     "execution_count": 22,
     "metadata": {},
     "output_type": "execute_result"
    }
   ],
   "source": [
    "df[(df.val > 0.5) & (df.name > \"B\")]"
   ]
  },
  {
   "cell_type": "markdown",
   "id": "2977d2ec-34f6-40b4-bfac-fd2c6f997027",
   "metadata": {},
   "source": [
    "##### OR (Suma)"
   ]
  },
  {
   "cell_type": "code",
   "execution_count": 23,
   "id": "1ad1090d-6408-4f24-af2f-ef344f14b58a",
   "metadata": {},
   "outputs": [
    {
     "data": {
      "text/plain": [
       "0     True\n",
       "1     True\n",
       "2    False\n",
       "3     True\n",
       "4    False\n",
       "5     True\n",
       "6     True\n",
       "dtype: bool"
      ]
     },
     "execution_count": 23,
     "metadata": {},
     "output_type": "execute_result"
    }
   ],
   "source": [
    "(df.val > 0.5) | (df.name.str.startswith('J'))"
   ]
  },
  {
   "cell_type": "code",
   "execution_count": 24,
   "id": "c56b6c29-0af1-441a-ad22-73cb4eca9ee4",
   "metadata": {},
   "outputs": [
    {
     "data": {
      "text/html": [
       "<div>\n",
       "<style scoped>\n",
       "    .dataframe tbody tr th:only-of-type {\n",
       "        vertical-align: middle;\n",
       "    }\n",
       "\n",
       "    .dataframe tbody tr th {\n",
       "        vertical-align: top;\n",
       "    }\n",
       "\n",
       "    .dataframe thead th {\n",
       "        text-align: right;\n",
       "    }\n",
       "</style>\n",
       "<table border=\"1\" class=\"dataframe\">\n",
       "  <thead>\n",
       "    <tr style=\"text-align: right;\">\n",
       "      <th></th>\n",
       "      <th>name</th>\n",
       "      <th>ctg</th>\n",
       "      <th>val</th>\n",
       "      <th>val2</th>\n",
       "    </tr>\n",
       "  </thead>\n",
       "  <tbody>\n",
       "    <tr>\n",
       "      <th>0</th>\n",
       "      <td>Jane</td>\n",
       "      <td>A</td>\n",
       "      <td>0.65</td>\n",
       "      <td>3</td>\n",
       "    </tr>\n",
       "    <tr>\n",
       "      <th>1</th>\n",
       "      <td>John</td>\n",
       "      <td>A</td>\n",
       "      <td>0.39</td>\n",
       "      <td>3</td>\n",
       "    </tr>\n",
       "    <tr>\n",
       "      <th>3</th>\n",
       "      <td>Mike</td>\n",
       "      <td>B</td>\n",
       "      <td>0.70</td>\n",
       "      <td>5</td>\n",
       "    </tr>\n",
       "    <tr>\n",
       "      <th>5</th>\n",
       "      <td>Jack</td>\n",
       "      <td>C</td>\n",
       "      <td>0.92</td>\n",
       "      <td>4</td>\n",
       "    </tr>\n",
       "    <tr>\n",
       "      <th>6</th>\n",
       "      <td>Catlin</td>\n",
       "      <td>B</td>\n",
       "      <td>0.66</td>\n",
       "      <td>8</td>\n",
       "    </tr>\n",
       "  </tbody>\n",
       "</table>\n",
       "</div>"
      ],
      "text/plain": [
       "     name ctg   val  val2\n",
       "0    Jane   A  0.65     3\n",
       "1    John   A  0.39     3\n",
       "3    Mike   B  0.70     5\n",
       "5    Jack   C  0.92     4\n",
       "6  Catlin   B  0.66     8"
      ]
     },
     "execution_count": 24,
     "metadata": {},
     "output_type": "execute_result"
    }
   ],
   "source": [
    "df[(df.val > 0.5) | (df.name.str.startswith('J'))]"
   ]
  },
  {
   "cell_type": "markdown",
   "id": "4bd11a3d-6cbe-4a4f-903f-2dcdf5cd609f",
   "metadata": {},
   "source": [
    "##### NOT (Negacja)"
   ]
  },
  {
   "cell_type": "code",
   "execution_count": 25,
   "id": "cfcedb99-ed12-41a0-876c-65e0aab02181",
   "metadata": {},
   "outputs": [
    {
     "data": {
      "text/plain": [
       "0    False\n",
       "1    False\n",
       "2     True\n",
       "3    False\n",
       "4     True\n",
       "5    False\n",
       "6    False\n",
       "dtype: bool"
      ]
     },
     "execution_count": 25,
     "metadata": {},
     "output_type": "execute_result"
    }
   ],
   "source": [
    "mask1 = (df.val > 0.5)\n",
    "mask2 = (df.name.str.startswith('J'))\n",
    "mask = ~(mask1 | mask2)\n",
    "mask"
   ]
  },
  {
   "cell_type": "code",
   "execution_count": 26,
   "id": "d46a767b-5bbb-4370-9c3b-79e1ab198368",
   "metadata": {},
   "outputs": [
    {
     "data": {
      "text/html": [
       "<div>\n",
       "<style scoped>\n",
       "    .dataframe tbody tr th:only-of-type {\n",
       "        vertical-align: middle;\n",
       "    }\n",
       "\n",
       "    .dataframe tbody tr th {\n",
       "        vertical-align: top;\n",
       "    }\n",
       "\n",
       "    .dataframe thead th {\n",
       "        text-align: right;\n",
       "    }\n",
       "</style>\n",
       "<table border=\"1\" class=\"dataframe\">\n",
       "  <thead>\n",
       "    <tr style=\"text-align: right;\">\n",
       "      <th></th>\n",
       "      <th>name</th>\n",
       "      <th>ctg</th>\n",
       "      <th>val</th>\n",
       "      <th>val2</th>\n",
       "    </tr>\n",
       "  </thead>\n",
       "  <tbody>\n",
       "    <tr>\n",
       "      <th>2</th>\n",
       "      <td>Ashley</td>\n",
       "      <td>C</td>\n",
       "      <td>0.42</td>\n",
       "      <td>9</td>\n",
       "    </tr>\n",
       "    <tr>\n",
       "      <th>4</th>\n",
       "      <td>Emily</td>\n",
       "      <td>B</td>\n",
       "      <td>0.15</td>\n",
       "      <td>6</td>\n",
       "    </tr>\n",
       "  </tbody>\n",
       "</table>\n",
       "</div>"
      ],
      "text/plain": [
       "     name ctg   val  val2\n",
       "2  Ashley   C  0.42     9\n",
       "4   Emily   B  0.15     6"
      ]
     },
     "execution_count": 26,
     "metadata": {},
     "output_type": "execute_result"
    }
   ],
   "source": [
    "df[mask]"
   ]
  },
  {
   "cell_type": "markdown",
   "id": "9fb5c6c0-fe71-4764-bb4a-150971abb8ab",
   "metadata": {},
   "source": [
    "### 5. Metoda `query` ramki"
   ]
  },
  {
   "cell_type": "markdown",
   "id": "0ab3ea61-9976-46f8-960d-1f70229013bd",
   "metadata": {},
   "source": [
    "Ramka posiada metodę `query`, która udostępnia nam trochę inny interfejs do odpytywania o dane. Zapytanie (warunek) przekazujemy do metody jako napis."
   ]
  },
  {
   "cell_type": "code",
   "execution_count": 27,
   "id": "3a0dd44f-d282-40b7-b55b-03afcf43fe6f",
   "metadata": {},
   "outputs": [
    {
     "data": {
      "text/html": [
       "<div>\n",
       "<style scoped>\n",
       "    .dataframe tbody tr th:only-of-type {\n",
       "        vertical-align: middle;\n",
       "    }\n",
       "\n",
       "    .dataframe tbody tr th {\n",
       "        vertical-align: top;\n",
       "    }\n",
       "\n",
       "    .dataframe thead th {\n",
       "        text-align: right;\n",
       "    }\n",
       "</style>\n",
       "<table border=\"1\" class=\"dataframe\">\n",
       "  <thead>\n",
       "    <tr style=\"text-align: right;\">\n",
       "      <th></th>\n",
       "      <th>name</th>\n",
       "      <th>ctg</th>\n",
       "      <th>val</th>\n",
       "      <th>val2</th>\n",
       "    </tr>\n",
       "  </thead>\n",
       "  <tbody>\n",
       "    <tr>\n",
       "      <th>0</th>\n",
       "      <td>Jane</td>\n",
       "      <td>A</td>\n",
       "      <td>0.65</td>\n",
       "      <td>3</td>\n",
       "    </tr>\n",
       "    <tr>\n",
       "      <th>3</th>\n",
       "      <td>Mike</td>\n",
       "      <td>B</td>\n",
       "      <td>0.70</td>\n",
       "      <td>5</td>\n",
       "    </tr>\n",
       "    <tr>\n",
       "      <th>5</th>\n",
       "      <td>Jack</td>\n",
       "      <td>C</td>\n",
       "      <td>0.92</td>\n",
       "      <td>4</td>\n",
       "    </tr>\n",
       "    <tr>\n",
       "      <th>6</th>\n",
       "      <td>Catlin</td>\n",
       "      <td>B</td>\n",
       "      <td>0.66</td>\n",
       "      <td>8</td>\n",
       "    </tr>\n",
       "  </tbody>\n",
       "</table>\n",
       "</div>"
      ],
      "text/plain": [
       "     name ctg   val  val2\n",
       "0    Jane   A  0.65     3\n",
       "3    Mike   B  0.70     5\n",
       "5    Jack   C  0.92     4\n",
       "6  Catlin   B  0.66     8"
      ]
     },
     "execution_count": 27,
     "metadata": {},
     "output_type": "execute_result"
    }
   ],
   "source": [
    "df.query(\"val > 0.5 and name > 'B'\")"
   ]
  },
  {
   "cell_type": "code",
   "execution_count": 28,
   "id": "56c6375e-0f12-418a-8ae6-4d420121f0cd",
   "metadata": {},
   "outputs": [
    {
     "data": {
      "text/plain": [
       "Ellipsis"
      ]
     },
     "execution_count": 28,
     "metadata": {},
     "output_type": "execute_result"
    }
   ],
   "source": [
    "..."
   ]
  },
  {
   "cell_type": "markdown",
   "id": "c710c3e1-6fb2-4c3a-a8e5-806689df1879",
   "metadata": {},
   "source": [
    "Metoda zwraca wynikową ramkę."
   ]
  },
  {
   "cell_type": "markdown",
   "id": "c88653be-f117-4333-a28c-7a962cdfc984",
   "metadata": {},
   "source": [
    "Więcej o metodzie można przeczytać w dokumentacji."
   ]
  },
  {
   "cell_type": "code",
   "execution_count": 29,
   "id": "b5d95f66-b87e-43a5-bbf6-b45c98d43f1f",
   "metadata": {
    "scrolled": true
   },
   "outputs": [
    {
     "name": "stdout",
     "output_type": "stream",
     "text": [
      "\u001b[1;31mSignature:\u001b[0m \u001b[0mdf\u001b[0m\u001b[1;33m.\u001b[0m\u001b[0mquery\u001b[0m\u001b[1;33m(\u001b[0m\u001b[0mexpr\u001b[0m\u001b[1;33m:\u001b[0m \u001b[1;34m'str'\u001b[0m\u001b[1;33m,\u001b[0m \u001b[1;33m*\u001b[0m\u001b[1;33m,\u001b[0m \u001b[0minplace\u001b[0m\u001b[1;33m:\u001b[0m \u001b[1;34m'bool'\u001b[0m \u001b[1;33m=\u001b[0m \u001b[1;32mFalse\u001b[0m\u001b[1;33m,\u001b[0m \u001b[1;33m**\u001b[0m\u001b[0mkwargs\u001b[0m\u001b[1;33m)\u001b[0m \u001b[1;33m->\u001b[0m \u001b[1;34m'DataFrame | None'\u001b[0m\u001b[1;33m\u001b[0m\u001b[1;33m\u001b[0m\u001b[0m\n",
      "\u001b[1;31mDocstring:\u001b[0m\n",
      "Query the columns of a DataFrame with a boolean expression.\n",
      "\n",
      "Parameters\n",
      "----------\n",
      "expr : str\n",
      "    The query string to evaluate.\n",
      "\n",
      "    You can refer to variables\n",
      "    in the environment by prefixing them with an '@' character like\n",
      "    ``@a + b``.\n",
      "\n",
      "    You can refer to column names that are not valid Python variable names\n",
      "    by surrounding them in backticks. Thus, column names containing spaces\n",
      "    or punctuations (besides underscores) or starting with digits must be\n",
      "    surrounded by backticks. (For example, a column named \"Area (cm^2)\" would\n",
      "    be referenced as ```Area (cm^2)```). Column names which are Python keywords\n",
      "    (like \"list\", \"for\", \"import\", etc) cannot be used.\n",
      "\n",
      "    For example, if one of your columns is called ``a a`` and you want\n",
      "    to sum it with ``b``, your query should be ```a a` + b``.\n",
      "\n",
      "inplace : bool\n",
      "    Whether to modify the DataFrame rather than creating a new one.\n",
      "**kwargs\n",
      "    See the documentation for :func:`eval` for complete details\n",
      "    on the keyword arguments accepted by :meth:`DataFrame.query`.\n",
      "\n",
      "Returns\n",
      "-------\n",
      "DataFrame or None\n",
      "    DataFrame resulting from the provided query expression or\n",
      "    None if ``inplace=True``.\n",
      "\n",
      "See Also\n",
      "--------\n",
      "eval : Evaluate a string describing operations on\n",
      "    DataFrame columns.\n",
      "DataFrame.eval : Evaluate a string describing operations on\n",
      "    DataFrame columns.\n",
      "\n",
      "Notes\n",
      "-----\n",
      "The result of the evaluation of this expression is first passed to\n",
      ":attr:`DataFrame.loc` and if that fails because of a\n",
      "multidimensional key (e.g., a DataFrame) then the result will be passed\n",
      "to :meth:`DataFrame.__getitem__`.\n",
      "\n",
      "This method uses the top-level :func:`eval` function to\n",
      "evaluate the passed query.\n",
      "\n",
      "The :meth:`~pandas.DataFrame.query` method uses a slightly\n",
      "modified Python syntax by default. For example, the ``&`` and ``|``\n",
      "(bitwise) operators have the precedence of their boolean cousins,\n",
      ":keyword:`and` and :keyword:`or`. This *is* syntactically valid Python,\n",
      "however the semantics are different.\n",
      "\n",
      "You can change the semantics of the expression by passing the keyword\n",
      "argument ``parser='python'``. This enforces the same semantics as\n",
      "evaluation in Python space. Likewise, you can pass ``engine='python'``\n",
      "to evaluate an expression using Python itself as a backend. This is not\n",
      "recommended as it is inefficient compared to using ``numexpr`` as the\n",
      "engine.\n",
      "\n",
      "The :attr:`DataFrame.index` and\n",
      ":attr:`DataFrame.columns` attributes of the\n",
      ":class:`~pandas.DataFrame` instance are placed in the query namespace\n",
      "by default, which allows you to treat both the index and columns of the\n",
      "frame as a column in the frame.\n",
      "The identifier ``index`` is used for the frame index; you can also\n",
      "use the name of the index to identify it in a query. Please note that\n",
      "Python keywords may not be used as identifiers.\n",
      "\n",
      "For further details and examples see the ``query`` documentation in\n",
      ":ref:`indexing <indexing.query>`.\n",
      "\n",
      "*Backtick quoted variables*\n",
      "\n",
      "Backtick quoted variables are parsed as literal Python code and\n",
      "are converted internally to a Python valid identifier.\n",
      "This can lead to the following problems.\n",
      "\n",
      "During parsing a number of disallowed characters inside the backtick\n",
      "quoted string are replaced by strings that are allowed as a Python identifier.\n",
      "These characters include all operators in Python, the space character, the\n",
      "question mark, the exclamation mark, the dollar sign, and the euro sign.\n",
      "For other characters that fall outside the ASCII range (U+0001..U+007F)\n",
      "and those that are not further specified in PEP 3131,\n",
      "the query parser will raise an error.\n",
      "This excludes whitespace different than the space character,\n",
      "but also the hashtag (as it is used for comments) and the backtick\n",
      "itself (backtick can also not be escaped).\n",
      "\n",
      "In a special case, quotes that make a pair around a backtick can\n",
      "confuse the parser.\n",
      "For example, ```it's` > `that's``` will raise an error,\n",
      "as it forms a quoted string (``'s > `that'``) with a backtick inside.\n",
      "\n",
      "See also the Python documentation about lexical analysis\n",
      "(https://docs.python.org/3/reference/lexical_analysis.html)\n",
      "in combination with the source code in :mod:`pandas.core.computation.parsing`.\n",
      "\n",
      "Examples\n",
      "--------\n",
      ">>> df = pd.DataFrame({'A': range(1, 6),\n",
      "...                    'B': range(10, 0, -2),\n",
      "...                    'C C': range(10, 5, -1)})\n",
      ">>> df\n",
      "   A   B  C C\n",
      "0  1  10   10\n",
      "1  2   8    9\n",
      "2  3   6    8\n",
      "3  4   4    7\n",
      "4  5   2    6\n",
      ">>> df.query('A > B')\n",
      "   A  B  C C\n",
      "4  5  2    6\n",
      "\n",
      "The previous expression is equivalent to\n",
      "\n",
      ">>> df[df.A > df.B]\n",
      "   A  B  C C\n",
      "4  5  2    6\n",
      "\n",
      "For columns with spaces in their name, you can use backtick quoting.\n",
      "\n",
      ">>> df.query('B == `C C`')\n",
      "   A   B  C C\n",
      "0  1  10   10\n",
      "\n",
      "The previous expression is equivalent to\n",
      "\n",
      ">>> df[df.B == df['C C']]\n",
      "   A   B  C C\n",
      "0  1  10   10\n",
      "\u001b[1;31mFile:\u001b[0m      c:\\programdata\\anaconda3\\lib\\site-packages\\pandas\\core\\frame.py\n",
      "\u001b[1;31mType:\u001b[0m      method"
     ]
    }
   ],
   "source": [
    "df.query?"
   ]
  },
  {
   "cell_type": "markdown",
   "id": "966a2206-6ba3-4ce4-a656-4bd4a043cb8f",
   "metadata": {},
   "source": [
    "### 6. Metody `nlargest` i `nsmallest` "
   ]
  },
  {
   "cell_type": "markdown",
   "id": "d405ed5b-8a80-4236-89e0-2c5a4223320c",
   "metadata": {},
   "source": [
    "Jeżeli chcemy wyciągnąć n największych lub najmniejszych wierszy z wybranej kolumny możemy użyć metod `nlargets` lub `nsmallest` serii (lub ramki)."
   ]
  },
  {
   "cell_type": "code",
   "execution_count": 46,
   "id": "f6a1d97e-e3b6-44a6-b6a5-22b2f5abd897",
   "metadata": {},
   "outputs": [
    {
     "data": {
      "text/html": [
       "<div>\n",
       "<style scoped>\n",
       "    .dataframe tbody tr th:only-of-type {\n",
       "        vertical-align: middle;\n",
       "    }\n",
       "\n",
       "    .dataframe tbody tr th {\n",
       "        vertical-align: top;\n",
       "    }\n",
       "\n",
       "    .dataframe thead th {\n",
       "        text-align: right;\n",
       "    }\n",
       "</style>\n",
       "<table border=\"1\" class=\"dataframe\">\n",
       "  <thead>\n",
       "    <tr style=\"text-align: right;\">\n",
       "      <th></th>\n",
       "      <th>name</th>\n",
       "      <th>ctg</th>\n",
       "      <th>val</th>\n",
       "      <th>val2</th>\n",
       "    </tr>\n",
       "  </thead>\n",
       "  <tbody>\n",
       "    <tr>\n",
       "      <th>5</th>\n",
       "      <td>Jack</td>\n",
       "      <td>C</td>\n",
       "      <td>0.92</td>\n",
       "      <td>4</td>\n",
       "    </tr>\n",
       "    <tr>\n",
       "      <th>3</th>\n",
       "      <td>Mike</td>\n",
       "      <td>B</td>\n",
       "      <td>0.70</td>\n",
       "      <td>5</td>\n",
       "    </tr>\n",
       "    <tr>\n",
       "      <th>6</th>\n",
       "      <td>Catlin</td>\n",
       "      <td>B</td>\n",
       "      <td>0.66</td>\n",
       "      <td>8</td>\n",
       "    </tr>\n",
       "  </tbody>\n",
       "</table>\n",
       "</div>"
      ],
      "text/plain": [
       "     name ctg   val  val2\n",
       "5    Jack   C  0.92     4\n",
       "3    Mike   B  0.70     5\n",
       "6  Catlin   B  0.66     8"
      ]
     },
     "execution_count": 46,
     "metadata": {},
     "output_type": "execute_result"
    }
   ],
   "source": [
    "df.nlargest(3, 'val')"
   ]
  },
  {
   "cell_type": "code",
   "execution_count": 47,
   "id": "9a059db5-5054-41b9-b041-23ebf1e8c574",
   "metadata": {},
   "outputs": [
    {
     "data": {
      "text/plain": [
       "5    0.92\n",
       "3    0.70\n",
       "6    0.66\n",
       "Name: val, dtype: float64"
      ]
     },
     "execution_count": 47,
     "metadata": {},
     "output_type": "execute_result"
    }
   ],
   "source": [
    "df['val'].nlargest(3)"
   ]
  },
  {
   "cell_type": "code",
   "execution_count": 48,
   "id": "e7c4e972-089c-424d-9ef7-b92fcdc7fc12",
   "metadata": {},
   "outputs": [
    {
     "data": {
      "text/html": [
       "<div>\n",
       "<style scoped>\n",
       "    .dataframe tbody tr th:only-of-type {\n",
       "        vertical-align: middle;\n",
       "    }\n",
       "\n",
       "    .dataframe tbody tr th {\n",
       "        vertical-align: top;\n",
       "    }\n",
       "\n",
       "    .dataframe thead th {\n",
       "        text-align: right;\n",
       "    }\n",
       "</style>\n",
       "<table border=\"1\" class=\"dataframe\">\n",
       "  <thead>\n",
       "    <tr style=\"text-align: right;\">\n",
       "      <th></th>\n",
       "      <th>name</th>\n",
       "      <th>ctg</th>\n",
       "      <th>val</th>\n",
       "      <th>val2</th>\n",
       "    </tr>\n",
       "  </thead>\n",
       "  <tbody>\n",
       "    <tr>\n",
       "      <th>4</th>\n",
       "      <td>Emily</td>\n",
       "      <td>B</td>\n",
       "      <td>0.15</td>\n",
       "      <td>6</td>\n",
       "    </tr>\n",
       "    <tr>\n",
       "      <th>1</th>\n",
       "      <td>John</td>\n",
       "      <td>A</td>\n",
       "      <td>0.39</td>\n",
       "      <td>3</td>\n",
       "    </tr>\n",
       "    <tr>\n",
       "      <th>2</th>\n",
       "      <td>Ashley</td>\n",
       "      <td>C</td>\n",
       "      <td>0.42</td>\n",
       "      <td>9</td>\n",
       "    </tr>\n",
       "  </tbody>\n",
       "</table>\n",
       "</div>"
      ],
      "text/plain": [
       "     name ctg   val  val2\n",
       "4   Emily   B  0.15     6\n",
       "1    John   A  0.39     3\n",
       "2  Ashley   C  0.42     9"
      ]
     },
     "execution_count": 48,
     "metadata": {},
     "output_type": "execute_result"
    }
   ],
   "source": [
    "df.nsmallest(3, 'val')"
   ]
  },
  {
   "cell_type": "markdown",
   "id": "2a0aa52e-cfdf-4572-9aa1-0f0392a5d75c",
   "metadata": {},
   "source": [
    "Ale uwaga, te metody działa wyłącznie na typach numerycznych."
   ]
  },
  {
   "cell_type": "code",
   "execution_count": 60,
   "id": "b87e1962-fe80-4ae2-9a36-0039ecbf2af3",
   "metadata": {
    "scrolled": true
   },
   "outputs": [
    {
     "ename": "TypeError",
     "evalue": "Column 'name' has dtype object, cannot use method 'nlargest' with this dtype",
     "output_type": "error",
     "traceback": [
      "\u001b[1;31m---------------------------------------------------------------------------\u001b[0m",
      "\u001b[1;31mTypeError\u001b[0m                                 Traceback (most recent call last)",
      "Cell \u001b[1;32mIn[60], line 1\u001b[0m\n\u001b[1;32m----> 1\u001b[0m df\u001b[38;5;241m.\u001b[39mnlargest(\u001b[38;5;241m3\u001b[39m, \u001b[38;5;124m'\u001b[39m\u001b[38;5;124mname\u001b[39m\u001b[38;5;124m'\u001b[39m)\n",
      "File \u001b[1;32mc:\\ProgramData\\anaconda3\\Lib\\site-packages\\pandas\\core\\frame.py:7644\u001b[0m, in \u001b[0;36mDataFrame.nlargest\u001b[1;34m(self, n, columns, keep)\u001b[0m\n\u001b[0;32m   7525\u001b[0m \u001b[38;5;28;01mdef\u001b[39;00m \u001b[38;5;21mnlargest\u001b[39m(\n\u001b[0;32m   7526\u001b[0m     \u001b[38;5;28mself\u001b[39m, n: \u001b[38;5;28mint\u001b[39m, columns: IndexLabel, keep: NsmallestNlargestKeep \u001b[38;5;241m=\u001b[39m \u001b[38;5;124m\"\u001b[39m\u001b[38;5;124mfirst\u001b[39m\u001b[38;5;124m\"\u001b[39m\n\u001b[0;32m   7527\u001b[0m ) \u001b[38;5;241m-\u001b[39m\u001b[38;5;241m>\u001b[39m DataFrame:\n\u001b[0;32m   7528\u001b[0m \u001b[38;5;250m    \u001b[39m\u001b[38;5;124;03m\"\"\"\u001b[39;00m\n\u001b[0;32m   7529\u001b[0m \u001b[38;5;124;03m    Return the first `n` rows ordered by `columns` in descending order.\u001b[39;00m\n\u001b[0;32m   7530\u001b[0m \n\u001b[1;32m   (...)\u001b[0m\n\u001b[0;32m   7642\u001b[0m \u001b[38;5;124;03m    Brunei      434000    12128      BN\u001b[39;00m\n\u001b[0;32m   7643\u001b[0m \u001b[38;5;124;03m    \"\"\"\u001b[39;00m\n\u001b[1;32m-> 7644\u001b[0m     \u001b[38;5;28;01mreturn\u001b[39;00m selectn\u001b[38;5;241m.\u001b[39mSelectNFrame(\u001b[38;5;28mself\u001b[39m, n\u001b[38;5;241m=\u001b[39mn, keep\u001b[38;5;241m=\u001b[39mkeep, columns\u001b[38;5;241m=\u001b[39mcolumns)\u001b[38;5;241m.\u001b[39mnlargest()\n",
      "File \u001b[1;32mc:\\ProgramData\\anaconda3\\Lib\\site-packages\\pandas\\core\\methods\\selectn.py:57\u001b[0m, in \u001b[0;36mSelectN.nlargest\u001b[1;34m(self)\u001b[0m\n\u001b[0;32m     55\u001b[0m \u001b[38;5;129m@final\u001b[39m\n\u001b[0;32m     56\u001b[0m \u001b[38;5;28;01mdef\u001b[39;00m \u001b[38;5;21mnlargest\u001b[39m(\u001b[38;5;28mself\u001b[39m):\n\u001b[1;32m---> 57\u001b[0m     \u001b[38;5;28;01mreturn\u001b[39;00m \u001b[38;5;28mself\u001b[39m\u001b[38;5;241m.\u001b[39mcompute(\u001b[38;5;124m\"\u001b[39m\u001b[38;5;124mnlargest\u001b[39m\u001b[38;5;124m\"\u001b[39m)\n",
      "File \u001b[1;32mc:\\ProgramData\\anaconda3\\Lib\\site-packages\\pandas\\core\\methods\\selectn.py:201\u001b[0m, in \u001b[0;36mSelectNFrame.compute\u001b[1;34m(self, method)\u001b[0m\n\u001b[0;32m    199\u001b[0m     dtype \u001b[38;5;241m=\u001b[39m frame[column]\u001b[38;5;241m.\u001b[39mdtype\n\u001b[0;32m    200\u001b[0m     \u001b[38;5;28;01mif\u001b[39;00m \u001b[38;5;129;01mnot\u001b[39;00m \u001b[38;5;28mself\u001b[39m\u001b[38;5;241m.\u001b[39mis_valid_dtype_n_method(dtype):\n\u001b[1;32m--> 201\u001b[0m         \u001b[38;5;28;01mraise\u001b[39;00m \u001b[38;5;167;01mTypeError\u001b[39;00m(\n\u001b[0;32m    202\u001b[0m             \u001b[38;5;124mf\u001b[39m\u001b[38;5;124m\"\u001b[39m\u001b[38;5;124mColumn \u001b[39m\u001b[38;5;132;01m{\u001b[39;00m\u001b[38;5;28mrepr\u001b[39m(column)\u001b[38;5;132;01m}\u001b[39;00m\u001b[38;5;124m has dtype \u001b[39m\u001b[38;5;132;01m{\u001b[39;00mdtype\u001b[38;5;132;01m}\u001b[39;00m\u001b[38;5;124m, \u001b[39m\u001b[38;5;124m\"\u001b[39m\n\u001b[0;32m    203\u001b[0m             \u001b[38;5;124mf\u001b[39m\u001b[38;5;124m\"\u001b[39m\u001b[38;5;124mcannot use method \u001b[39m\u001b[38;5;132;01m{\u001b[39;00m\u001b[38;5;28mrepr\u001b[39m(method)\u001b[38;5;132;01m}\u001b[39;00m\u001b[38;5;124m with this dtype\u001b[39m\u001b[38;5;124m\"\u001b[39m\n\u001b[0;32m    204\u001b[0m         )\n\u001b[0;32m    206\u001b[0m \u001b[38;5;28;01mdef\u001b[39;00m \u001b[38;5;21mget_indexer\u001b[39m(current_indexer, other_indexer):\n\u001b[0;32m    207\u001b[0m \u001b[38;5;250m    \u001b[39m\u001b[38;5;124;03m\"\"\"\u001b[39;00m\n\u001b[0;32m    208\u001b[0m \u001b[38;5;124;03m    Helper function to concat `current_indexer` and `other_indexer`\u001b[39;00m\n\u001b[0;32m    209\u001b[0m \u001b[38;5;124;03m    depending on `method`\u001b[39;00m\n\u001b[0;32m    210\u001b[0m \u001b[38;5;124;03m    \"\"\"\u001b[39;00m\n",
      "\u001b[1;31mTypeError\u001b[0m: Column 'name' has dtype object, cannot use method 'nlargest' with this dtype"
     ]
    }
   ],
   "source": [
    "df.nlargest(3, 'name')"
   ]
  },
  {
   "cell_type": "markdown",
   "id": "6c4af22c-b220-4adb-868e-58496a072b99",
   "metadata": {},
   "source": [
    "### Metody `loc` i `iloc`"
   ]
  },
  {
   "cell_type": "markdown",
   "id": "d14e7a32-6ea7-4fe7-a576-8a44a33e10f8",
   "metadata": {},
   "source": [
    "Metody `loc` i `iloc` są używane filtrowania wierszy lub kolumn na podstawie indeksu lub pozycji."
   ]
  },
  {
   "cell_type": "markdown",
   "id": "f03675c6-2883-4f35-abd6-6ce146668cb3",
   "metadata": {},
   "source": [
    "- `loc` - metoda służąca do filtrowania wierszy lub kolumn na podstawie indeksu (etykiety)\n",
    "- `iloc` - metoda służąca do filtrowania wierszy lub kolumn na podstawie indeksu (pozycji)"
   ]
  },
  {
   "cell_type": "markdown",
   "id": "a6a015b8-6456-4a0d-ae06-cd0bde834afb",
   "metadata": {},
   "source": [
    "Na ten moment indeks naszej ramki ma wartość numeryczną i odpowiada pozycji wiersza w ramce. Zróbmy update indeksu, żeby widać było różnicę w stosowaniu metod `loc` i `iloc`."
   ]
  },
  {
   "cell_type": "code",
   "execution_count": 34,
   "id": "d5ced5a3-1f12-4bb5-bcdb-9212a924fa8d",
   "metadata": {},
   "outputs": [
    {
     "data": {
      "text/html": [
       "<div>\n",
       "<style scoped>\n",
       "    .dataframe tbody tr th:only-of-type {\n",
       "        vertical-align: middle;\n",
       "    }\n",
       "\n",
       "    .dataframe tbody tr th {\n",
       "        vertical-align: top;\n",
       "    }\n",
       "\n",
       "    .dataframe thead th {\n",
       "        text-align: right;\n",
       "    }\n",
       "</style>\n",
       "<table border=\"1\" class=\"dataframe\">\n",
       "  <thead>\n",
       "    <tr style=\"text-align: right;\">\n",
       "      <th></th>\n",
       "      <th>name</th>\n",
       "      <th>ctg</th>\n",
       "      <th>val</th>\n",
       "      <th>val2</th>\n",
       "    </tr>\n",
       "  </thead>\n",
       "  <tbody>\n",
       "    <tr>\n",
       "      <th>0</th>\n",
       "      <td>Jane</td>\n",
       "      <td>A</td>\n",
       "      <td>0.65</td>\n",
       "      <td>3</td>\n",
       "    </tr>\n",
       "    <tr>\n",
       "      <th>1</th>\n",
       "      <td>John</td>\n",
       "      <td>A</td>\n",
       "      <td>0.39</td>\n",
       "      <td>3</td>\n",
       "    </tr>\n",
       "    <tr>\n",
       "      <th>2</th>\n",
       "      <td>Ashley</td>\n",
       "      <td>C</td>\n",
       "      <td>0.42</td>\n",
       "      <td>9</td>\n",
       "    </tr>\n",
       "    <tr>\n",
       "      <th>3</th>\n",
       "      <td>Mike</td>\n",
       "      <td>B</td>\n",
       "      <td>0.70</td>\n",
       "      <td>5</td>\n",
       "    </tr>\n",
       "    <tr>\n",
       "      <th>4</th>\n",
       "      <td>Emily</td>\n",
       "      <td>B</td>\n",
       "      <td>0.15</td>\n",
       "      <td>6</td>\n",
       "    </tr>\n",
       "    <tr>\n",
       "      <th>5</th>\n",
       "      <td>Jack</td>\n",
       "      <td>C</td>\n",
       "      <td>0.92</td>\n",
       "      <td>4</td>\n",
       "    </tr>\n",
       "    <tr>\n",
       "      <th>6</th>\n",
       "      <td>Catlin</td>\n",
       "      <td>B</td>\n",
       "      <td>0.66</td>\n",
       "      <td>8</td>\n",
       "    </tr>\n",
       "  </tbody>\n",
       "</table>\n",
       "</div>"
      ],
      "text/plain": [
       "     name ctg   val  val2\n",
       "0    Jane   A  0.65     3\n",
       "1    John   A  0.39     3\n",
       "2  Ashley   C  0.42     9\n",
       "3    Mike   B  0.70     5\n",
       "4   Emily   B  0.15     6\n",
       "5    Jack   C  0.92     4\n",
       "6  Catlin   B  0.66     8"
      ]
     },
     "execution_count": 34,
     "metadata": {},
     "output_type": "execute_result"
    }
   ],
   "source": [
    "df"
   ]
  },
  {
   "cell_type": "code",
   "execution_count": 49,
   "id": "ead38723-d6ee-4c8c-85b6-5feb3b6a23c5",
   "metadata": {},
   "outputs": [
    {
     "data": {
      "text/html": [
       "<div>\n",
       "<style scoped>\n",
       "    .dataframe tbody tr th:only-of-type {\n",
       "        vertical-align: middle;\n",
       "    }\n",
       "\n",
       "    .dataframe tbody tr th {\n",
       "        vertical-align: top;\n",
       "    }\n",
       "\n",
       "    .dataframe thead th {\n",
       "        text-align: right;\n",
       "    }\n",
       "</style>\n",
       "<table border=\"1\" class=\"dataframe\">\n",
       "  <thead>\n",
       "    <tr style=\"text-align: right;\">\n",
       "      <th></th>\n",
       "      <th>name</th>\n",
       "      <th>ctg</th>\n",
       "      <th>val</th>\n",
       "      <th>val2</th>\n",
       "    </tr>\n",
       "  </thead>\n",
       "  <tbody>\n",
       "    <tr>\n",
       "      <th>a</th>\n",
       "      <td>Jane</td>\n",
       "      <td>A</td>\n",
       "      <td>0.65</td>\n",
       "      <td>3</td>\n",
       "    </tr>\n",
       "    <tr>\n",
       "      <th>b</th>\n",
       "      <td>John</td>\n",
       "      <td>A</td>\n",
       "      <td>0.39</td>\n",
       "      <td>3</td>\n",
       "    </tr>\n",
       "    <tr>\n",
       "      <th>c</th>\n",
       "      <td>Ashley</td>\n",
       "      <td>C</td>\n",
       "      <td>0.42</td>\n",
       "      <td>9</td>\n",
       "    </tr>\n",
       "    <tr>\n",
       "      <th>d</th>\n",
       "      <td>Mike</td>\n",
       "      <td>B</td>\n",
       "      <td>0.70</td>\n",
       "      <td>5</td>\n",
       "    </tr>\n",
       "    <tr>\n",
       "      <th>e</th>\n",
       "      <td>Emily</td>\n",
       "      <td>B</td>\n",
       "      <td>0.15</td>\n",
       "      <td>6</td>\n",
       "    </tr>\n",
       "    <tr>\n",
       "      <th>f</th>\n",
       "      <td>Jack</td>\n",
       "      <td>C</td>\n",
       "      <td>0.92</td>\n",
       "      <td>4</td>\n",
       "    </tr>\n",
       "    <tr>\n",
       "      <th>g</th>\n",
       "      <td>Catlin</td>\n",
       "      <td>B</td>\n",
       "      <td>0.66</td>\n",
       "      <td>8</td>\n",
       "    </tr>\n",
       "  </tbody>\n",
       "</table>\n",
       "</div>"
      ],
      "text/plain": [
       "     name ctg   val  val2\n",
       "a    Jane   A  0.65     3\n",
       "b    John   A  0.39     3\n",
       "c  Ashley   C  0.42     9\n",
       "d    Mike   B  0.70     5\n",
       "e   Emily   B  0.15     6\n",
       "f    Jack   C  0.92     4\n",
       "g  Catlin   B  0.66     8"
      ]
     },
     "execution_count": 49,
     "metadata": {},
     "output_type": "execute_result"
    }
   ],
   "source": [
    "df.index = ['a', 'b', 'c', 'd', 'e', 'f', 'g']\n",
    "df"
   ]
  },
  {
   "cell_type": "markdown",
   "id": "13ca8d15-f95c-4e4b-ab85-66ef72a03a42",
   "metadata": {},
   "source": [
    "##### `iloc` - wskazywanie po pozycji"
   ]
  },
  {
   "cell_type": "code",
   "execution_count": 50,
   "id": "93ad6a16-7247-40bf-91a5-943040a60039",
   "metadata": {},
   "outputs": [
    {
     "data": {
      "text/plain": [
       "name    Mike\n",
       "ctg        B\n",
       "val      0.7\n",
       "val2       5\n",
       "Name: d, dtype: object"
      ]
     },
     "execution_count": 50,
     "metadata": {},
     "output_type": "execute_result"
    }
   ],
   "source": [
    "# czwarty wiersz (indeks 3)\n",
    "df.iloc[3]"
   ]
  },
  {
   "cell_type": "code",
   "execution_count": 51,
   "id": "7df10d3b-c059-404c-9d7a-467a257b734e",
   "metadata": {},
   "outputs": [
    {
     "data": {
      "text/html": [
       "<div>\n",
       "<style scoped>\n",
       "    .dataframe tbody tr th:only-of-type {\n",
       "        vertical-align: middle;\n",
       "    }\n",
       "\n",
       "    .dataframe tbody tr th {\n",
       "        vertical-align: top;\n",
       "    }\n",
       "\n",
       "    .dataframe thead th {\n",
       "        text-align: right;\n",
       "    }\n",
       "</style>\n",
       "<table border=\"1\" class=\"dataframe\">\n",
       "  <thead>\n",
       "    <tr style=\"text-align: right;\">\n",
       "      <th></th>\n",
       "      <th>name</th>\n",
       "      <th>ctg</th>\n",
       "      <th>val</th>\n",
       "      <th>val2</th>\n",
       "    </tr>\n",
       "  </thead>\n",
       "  <tbody>\n",
       "    <tr>\n",
       "      <th>d</th>\n",
       "      <td>Mike</td>\n",
       "      <td>B</td>\n",
       "      <td>0.70</td>\n",
       "      <td>5</td>\n",
       "    </tr>\n",
       "    <tr>\n",
       "      <th>e</th>\n",
       "      <td>Emily</td>\n",
       "      <td>B</td>\n",
       "      <td>0.15</td>\n",
       "      <td>6</td>\n",
       "    </tr>\n",
       "  </tbody>\n",
       "</table>\n",
       "</div>"
      ],
      "text/plain": [
       "    name ctg   val  val2\n",
       "d   Mike   B  0.70     5\n",
       "e  Emily   B  0.15     6"
      ]
     },
     "execution_count": 51,
     "metadata": {},
     "output_type": "execute_result"
    }
   ],
   "source": [
    "# wiersze od czwartego do szóstego (bez szóstego)\n",
    "df.iloc[3:5]"
   ]
  },
  {
   "cell_type": "code",
   "execution_count": 52,
   "id": "851424be-74e8-4f45-9921-2f27e09ee424",
   "metadata": {},
   "outputs": [
    {
     "data": {
      "text/plain": [
       "e     Emily\n",
       "f      Jack\n",
       "g    Catlin\n",
       "Name: name, dtype: object"
      ]
     },
     "execution_count": 52,
     "metadata": {},
     "output_type": "execute_result"
    }
   ],
   "source": [
    "# wiersze od czwartego do szóstego, pierwsza kolumna\n",
    "df.iloc[4:7, 0]"
   ]
  },
  {
   "cell_type": "code",
   "execution_count": 53,
   "id": "8ef06309-e6e3-422f-a037-d5aa99cf45c0",
   "metadata": {},
   "outputs": [
    {
     "data": {
      "text/html": [
       "<div>\n",
       "<style scoped>\n",
       "    .dataframe tbody tr th:only-of-type {\n",
       "        vertical-align: middle;\n",
       "    }\n",
       "\n",
       "    .dataframe tbody tr th {\n",
       "        vertical-align: top;\n",
       "    }\n",
       "\n",
       "    .dataframe thead th {\n",
       "        text-align: right;\n",
       "    }\n",
       "</style>\n",
       "<table border=\"1\" class=\"dataframe\">\n",
       "  <thead>\n",
       "    <tr style=\"text-align: right;\">\n",
       "      <th></th>\n",
       "      <th>name</th>\n",
       "      <th>ctg</th>\n",
       "      <th>val</th>\n",
       "    </tr>\n",
       "  </thead>\n",
       "  <tbody>\n",
       "    <tr>\n",
       "      <th>e</th>\n",
       "      <td>Emily</td>\n",
       "      <td>B</td>\n",
       "      <td>0.15</td>\n",
       "    </tr>\n",
       "    <tr>\n",
       "      <th>f</th>\n",
       "      <td>Jack</td>\n",
       "      <td>C</td>\n",
       "      <td>0.92</td>\n",
       "    </tr>\n",
       "    <tr>\n",
       "      <th>g</th>\n",
       "      <td>Catlin</td>\n",
       "      <td>B</td>\n",
       "      <td>0.66</td>\n",
       "    </tr>\n",
       "  </tbody>\n",
       "</table>\n",
       "</div>"
      ],
      "text/plain": [
       "     name ctg   val\n",
       "e   Emily   B  0.15\n",
       "f    Jack   C  0.92\n",
       "g  Catlin   B  0.66"
      ]
     },
     "execution_count": 53,
     "metadata": {},
     "output_type": "execute_result"
    }
   ],
   "source": [
    "# wiersze od czwartego do szóstego, kolumna od pierwszej do trzeciej\n",
    "df.iloc[4:7, 0:3]"
   ]
  },
  {
   "cell_type": "code",
   "execution_count": 54,
   "id": "dc90fddd-5f78-4eef-bbed-53e6452a1a4b",
   "metadata": {},
   "outputs": [
    {
     "data": {
      "text/html": [
       "<div>\n",
       "<style scoped>\n",
       "    .dataframe tbody tr th:only-of-type {\n",
       "        vertical-align: middle;\n",
       "    }\n",
       "\n",
       "    .dataframe tbody tr th {\n",
       "        vertical-align: top;\n",
       "    }\n",
       "\n",
       "    .dataframe thead th {\n",
       "        text-align: right;\n",
       "    }\n",
       "</style>\n",
       "<table border=\"1\" class=\"dataframe\">\n",
       "  <thead>\n",
       "    <tr style=\"text-align: right;\">\n",
       "      <th></th>\n",
       "      <th>name</th>\n",
       "      <th>ctg</th>\n",
       "      <th>val</th>\n",
       "      <th>val2</th>\n",
       "    </tr>\n",
       "  </thead>\n",
       "  <tbody>\n",
       "    <tr>\n",
       "      <th>e</th>\n",
       "      <td>Emily</td>\n",
       "      <td>B</td>\n",
       "      <td>0.15</td>\n",
       "      <td>6</td>\n",
       "    </tr>\n",
       "    <tr>\n",
       "      <th>f</th>\n",
       "      <td>Jack</td>\n",
       "      <td>C</td>\n",
       "      <td>0.92</td>\n",
       "      <td>4</td>\n",
       "    </tr>\n",
       "    <tr>\n",
       "      <th>g</th>\n",
       "      <td>Catlin</td>\n",
       "      <td>B</td>\n",
       "      <td>0.66</td>\n",
       "      <td>8</td>\n",
       "    </tr>\n",
       "  </tbody>\n",
       "</table>\n",
       "</div>"
      ],
      "text/plain": [
       "     name ctg   val  val2\n",
       "e   Emily   B  0.15     6\n",
       "f    Jack   C  0.92     4\n",
       "g  Catlin   B  0.66     8"
      ]
     },
     "execution_count": 54,
     "metadata": {},
     "output_type": "execute_result"
    }
   ],
   "source": [
    "# wierze od czwartego do szóstego, wszystkie kolumny\n",
    "df.iloc[4:7]"
   ]
  },
  {
   "cell_type": "markdown",
   "id": "eb939f06-59d6-4d8f-b309-e7052eefce01",
   "metadata": {},
   "source": [
    "##### `loc` - wskazywanie po etykiecie"
   ]
  },
  {
   "cell_type": "markdown",
   "id": "a6954e49-ad0b-4714-896f-93d42e4faf63",
   "metadata": {},
   "source": [
    "Zróbmy dokładnie to samo, ale tym razem wykorzystując etykiety w miejsce pozycji."
   ]
  },
  {
   "cell_type": "code",
   "execution_count": 55,
   "id": "71a3135a-62b6-40a0-9df0-3f7c2496f28d",
   "metadata": {},
   "outputs": [
    {
     "data": {
      "text/plain": [
       "name    Mike\n",
       "ctg        B\n",
       "val      0.7\n",
       "val2       5\n",
       "Name: d, dtype: object"
      ]
     },
     "execution_count": 55,
     "metadata": {},
     "output_type": "execute_result"
    }
   ],
   "source": [
    "# wiersz o etycike 'd' (czwarty wiersz) \n",
    "df.loc['d']"
   ]
  },
  {
   "cell_type": "code",
   "execution_count": 56,
   "id": "32c1d244-2463-4511-aa9f-cd6754ca0887",
   "metadata": {},
   "outputs": [
    {
     "data": {
      "text/html": [
       "<div>\n",
       "<style scoped>\n",
       "    .dataframe tbody tr th:only-of-type {\n",
       "        vertical-align: middle;\n",
       "    }\n",
       "\n",
       "    .dataframe tbody tr th {\n",
       "        vertical-align: top;\n",
       "    }\n",
       "\n",
       "    .dataframe thead th {\n",
       "        text-align: right;\n",
       "    }\n",
       "</style>\n",
       "<table border=\"1\" class=\"dataframe\">\n",
       "  <thead>\n",
       "    <tr style=\"text-align: right;\">\n",
       "      <th></th>\n",
       "      <th>name</th>\n",
       "      <th>ctg</th>\n",
       "      <th>val</th>\n",
       "      <th>val2</th>\n",
       "    </tr>\n",
       "  </thead>\n",
       "  <tbody>\n",
       "    <tr>\n",
       "      <th>d</th>\n",
       "      <td>Mike</td>\n",
       "      <td>B</td>\n",
       "      <td>0.70</td>\n",
       "      <td>5</td>\n",
       "    </tr>\n",
       "    <tr>\n",
       "      <th>e</th>\n",
       "      <td>Emily</td>\n",
       "      <td>B</td>\n",
       "      <td>0.15</td>\n",
       "      <td>6</td>\n",
       "    </tr>\n",
       "    <tr>\n",
       "      <th>f</th>\n",
       "      <td>Jack</td>\n",
       "      <td>C</td>\n",
       "      <td>0.92</td>\n",
       "      <td>4</td>\n",
       "    </tr>\n",
       "  </tbody>\n",
       "</table>\n",
       "</div>"
      ],
      "text/plain": [
       "    name ctg   val  val2\n",
       "d   Mike   B  0.70     5\n",
       "e  Emily   B  0.15     6\n",
       "f   Jack   C  0.92     4"
      ]
     },
     "execution_count": 56,
     "metadata": {},
     "output_type": "execute_result"
    }
   ],
   "source": [
    "# wiersze od 'd' do 'f' (od czwartego do szóstego) UWAGA! tutaj z 'f' podczas gdy przy \n",
    "# wykorzystaniu pozycji przedział jest prawostronnie otwarty.\n",
    "df.loc['d':'f']"
   ]
  },
  {
   "cell_type": "code",
   "execution_count": 57,
   "id": "837931cd-95b4-46b2-944f-2d277e5baad7",
   "metadata": {},
   "outputs": [
    {
     "data": {
      "text/plain": [
       "d     Mike\n",
       "e    Emily\n",
       "f     Jack\n",
       "Name: name, dtype: object"
      ]
     },
     "execution_count": 57,
     "metadata": {},
     "output_type": "execute_result"
    }
   ],
   "source": [
    "# wiersze od 'd' do 'f' (od czwartego do szóstego), kolumna name (pierwsza kolumna)\n",
    "df.loc['d':'f', 'name']"
   ]
  },
  {
   "cell_type": "code",
   "execution_count": 58,
   "id": "3545d26c-b794-4168-b7c4-1811899e6182",
   "metadata": {},
   "outputs": [
    {
     "data": {
      "text/html": [
       "<div>\n",
       "<style scoped>\n",
       "    .dataframe tbody tr th:only-of-type {\n",
       "        vertical-align: middle;\n",
       "    }\n",
       "\n",
       "    .dataframe tbody tr th {\n",
       "        vertical-align: top;\n",
       "    }\n",
       "\n",
       "    .dataframe thead th {\n",
       "        text-align: right;\n",
       "    }\n",
       "</style>\n",
       "<table border=\"1\" class=\"dataframe\">\n",
       "  <thead>\n",
       "    <tr style=\"text-align: right;\">\n",
       "      <th></th>\n",
       "      <th>name</th>\n",
       "      <th>ctg</th>\n",
       "      <th>val</th>\n",
       "    </tr>\n",
       "  </thead>\n",
       "  <tbody>\n",
       "    <tr>\n",
       "      <th>d</th>\n",
       "      <td>Mike</td>\n",
       "      <td>B</td>\n",
       "      <td>0.70</td>\n",
       "    </tr>\n",
       "    <tr>\n",
       "      <th>e</th>\n",
       "      <td>Emily</td>\n",
       "      <td>B</td>\n",
       "      <td>0.15</td>\n",
       "    </tr>\n",
       "    <tr>\n",
       "      <th>f</th>\n",
       "      <td>Jack</td>\n",
       "      <td>C</td>\n",
       "      <td>0.92</td>\n",
       "    </tr>\n",
       "  </tbody>\n",
       "</table>\n",
       "</div>"
      ],
      "text/plain": [
       "    name ctg   val\n",
       "d   Mike   B  0.70\n",
       "e  Emily   B  0.15\n",
       "f   Jack   C  0.92"
      ]
     },
     "execution_count": 58,
     "metadata": {},
     "output_type": "execute_result"
    }
   ],
   "source": [
    "# wiersze od 'd' do 'f', kolumna od name do val (od pierwszej do trzeciej)\n",
    "# UWAGA! Tutaj znów, przy wskazywaniu etykiet przedział jest obustronnie domknięty.\n",
    "df.loc['d':'f', 'name':'val']"
   ]
  },
  {
   "cell_type": "code",
   "execution_count": 59,
   "id": "f5eb16b6-13c3-4cab-942f-4112e83198e7",
   "metadata": {},
   "outputs": [
    {
     "data": {
      "text/html": [
       "<div>\n",
       "<style scoped>\n",
       "    .dataframe tbody tr th:only-of-type {\n",
       "        vertical-align: middle;\n",
       "    }\n",
       "\n",
       "    .dataframe tbody tr th {\n",
       "        vertical-align: top;\n",
       "    }\n",
       "\n",
       "    .dataframe thead th {\n",
       "        text-align: right;\n",
       "    }\n",
       "</style>\n",
       "<table border=\"1\" class=\"dataframe\">\n",
       "  <thead>\n",
       "    <tr style=\"text-align: right;\">\n",
       "      <th></th>\n",
       "      <th>name</th>\n",
       "      <th>ctg</th>\n",
       "      <th>val</th>\n",
       "      <th>val2</th>\n",
       "    </tr>\n",
       "  </thead>\n",
       "  <tbody>\n",
       "    <tr>\n",
       "      <th>d</th>\n",
       "      <td>Mike</td>\n",
       "      <td>B</td>\n",
       "      <td>0.70</td>\n",
       "      <td>5</td>\n",
       "    </tr>\n",
       "    <tr>\n",
       "      <th>e</th>\n",
       "      <td>Emily</td>\n",
       "      <td>B</td>\n",
       "      <td>0.15</td>\n",
       "      <td>6</td>\n",
       "    </tr>\n",
       "    <tr>\n",
       "      <th>f</th>\n",
       "      <td>Jack</td>\n",
       "      <td>C</td>\n",
       "      <td>0.92</td>\n",
       "      <td>4</td>\n",
       "    </tr>\n",
       "  </tbody>\n",
       "</table>\n",
       "</div>"
      ],
      "text/plain": [
       "    name ctg   val  val2\n",
       "d   Mike   B  0.70     5\n",
       "e  Emily   B  0.15     6\n",
       "f   Jack   C  0.92     4"
      ]
     },
     "execution_count": 59,
     "metadata": {},
     "output_type": "execute_result"
    }
   ],
   "source": [
    "# wiersze od 'd' do 'f', wszystkie kolumny\n",
    "df.loc['d':'f']"
   ]
  }
 ],
 "metadata": {
  "kernelspec": {
   "display_name": "base",
   "language": "python",
   "name": "python3"
  },
  "language_info": {
   "codemirror_mode": {
    "name": "ipython",
    "version": 3
   },
   "file_extension": ".py",
   "mimetype": "text/x-python",
   "name": "python",
   "nbconvert_exporter": "python",
   "pygments_lexer": "ipython3",
   "version": "3.11.9"
  }
 },
 "nbformat": 4,
 "nbformat_minor": 5
}
