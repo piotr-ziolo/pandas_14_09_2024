{
 "cells": [
  {
   "cell_type": "markdown",
   "id": "c21714f9-8b93-405a-a71f-51126f22b394",
   "metadata": {},
   "source": [
    "### Metoda `apply`"
   ]
  },
  {
   "cell_type": "markdown",
   "id": "3093b084-349d-48fb-be4d-314b1f3b76a4",
   "metadata": {},
   "source": [
    "Metoda apply jest często używaną metodą, która upraszcza stosowanie dowolnej funkcji na każdym elemencie serii oraz na każdej kolumnie lub wierszu ramki.\n",
    "\n",
    "Bardzo poglądowo mówiąc, możemy powiedzieć, że \"wektoryzuje\" wskazaną przez nas funkcję. Poglądowo, ponieważ nie pociąga to za sobą zwiększenia wydajności obliczeniowej, charakterystycznego dla operacji zwektoryzowanych. Ale sam mechanizm działania wygląda tak, jakbyśmy zastosowali wskazaną funkcję na wszystkich elementach kolekcji. "
   ]
  },
  {
   "cell_type": "markdown",
   "id": "c733eb05-7173-42cb-962b-0a9abef1a506",
   "metadata": {},
   "source": [
    "#### Seria"
   ]
  },
  {
   "cell_type": "markdown",
   "id": "8d85de53-0739-4637-95f0-3faa94f00a24",
   "metadata": {},
   "source": [
    "Stwórzmy przykładową serię zawierającą imiona studentów i ich wzrost w cm."
   ]
  },
  {
   "cell_type": "code",
   "execution_count": 1,
   "id": "4bab00c9-1f1c-4703-bbc4-e98ffe52d20d",
   "metadata": {},
   "outputs": [
    {
     "data": {
      "text/plain": [
       "Vik       180\n",
       "Mehdi     175\n",
       "Bella     168\n",
       "Chriss    190\n",
       "dtype: int64"
      ]
     },
     "execution_count": 1,
     "metadata": {},
     "output_type": "execute_result"
    }
   ],
   "source": [
    "import pandas as pd\n",
    "import numpy as np\n",
    "\n",
    "\n",
    "students = pd.Series(\n",
    "    data=[180, 175, 168, 190],\n",
    "    index=['Vik', 'Mehdi', 'Bella', 'Chriss']\n",
    ")\n",
    "students"
   ]
  },
  {
   "cell_type": "markdown",
   "id": "d62e8a46-7bda-45cc-8794-a44b1f05dc80",
   "metadata": {},
   "source": [
    "Teraz napiszmy funkcję, która przelicza centymetry na stopy."
   ]
  },
  {
   "cell_type": "code",
   "execution_count": 2,
   "id": "98fc3d50-0f2c-4719-9ae8-581c6b31c190",
   "metadata": {},
   "outputs": [],
   "source": [
    "def cm_to_feet(h):\n",
    "    return round(h / 30.48, 2)"
   ]
  },
  {
   "cell_type": "markdown",
   "id": "49703ffb-9bc1-43c3-95df-1e46dab0da75",
   "metadata": {},
   "source": [
    "Sprawdźmy jej działanie."
   ]
  },
  {
   "cell_type": "code",
   "execution_count": 3,
   "id": "9b5a4f60-b965-413a-9c2d-b8a41c02c2cd",
   "metadata": {},
   "outputs": [
    {
     "data": {
      "text/plain": [
       "5.91"
      ]
     },
     "execution_count": 3,
     "metadata": {},
     "output_type": "execute_result"
    }
   ],
   "source": [
    "x = 180\n",
    "\n",
    "cm_to_feet(x)"
   ]
  },
  {
   "cell_type": "markdown",
   "id": "6c8fc75a-faa2-48fb-b2c1-fbb87b4a2d44",
   "metadata": {},
   "source": [
    "Jeżeli spróbujemy teraz zastosować naszą funkcję na serii zadziała, ale tylko dzięki temu, że wszystkie operacje które wykorzystujemy w naszej funkcji ma swoje zwektoryzowane odpowiedniki dla ramki."
   ]
  },
  {
   "cell_type": "code",
   "execution_count": 4,
   "id": "9a598bcf-92ab-4eb7-a4b0-2565143da02a",
   "metadata": {},
   "outputs": [
    {
     "data": {
      "text/plain": [
       "Vik       5.91\n",
       "Mehdi     5.74\n",
       "Bella     5.51\n",
       "Chriss    6.23\n",
       "dtype: float64"
      ]
     },
     "execution_count": 4,
     "metadata": {},
     "output_type": "execute_result"
    }
   ],
   "source": [
    "cm_to_feet(students)"
   ]
  },
  {
   "cell_type": "markdown",
   "id": "8f29bdc0-a8b2-4814-93db-406427d239eb",
   "metadata": {},
   "source": [
    "Wystarczy jednak użyć w naszej funkcji cokolwiek, co nie będzie obsługiwane przez ramkę (a przez float będzie), żeby nasza funkcja przestała działać na ramkach."
   ]
  },
  {
   "cell_type": "code",
   "execution_count": 5,
   "id": "6dbbc845-3a56-4cd1-861d-2df68fda2794",
   "metadata": {},
   "outputs": [],
   "source": [
    "import numpy as np\n",
    "\n",
    "def cm_to_feet(h):\n",
    "    if h != np.nan:\n",
    "        return np.round(h / 30.48, 2)"
   ]
  },
  {
   "cell_type": "code",
   "execution_count": 6,
   "id": "323a503b-b30c-412c-b546-169b397942ef",
   "metadata": {},
   "outputs": [
    {
     "data": {
      "text/plain": [
       "5.91"
      ]
     },
     "execution_count": 6,
     "metadata": {},
     "output_type": "execute_result"
    }
   ],
   "source": [
    "cm_to_feet(x)"
   ]
  },
  {
   "cell_type": "code",
   "execution_count": 7,
   "id": "76f9af22-614d-4d89-8bc3-7a8fa1f60343",
   "metadata": {
    "scrolled": true
   },
   "outputs": [
    {
     "ename": "ValueError",
     "evalue": "The truth value of a Series is ambiguous. Use a.empty, a.bool(), a.item(), a.any() or a.all().",
     "output_type": "error",
     "traceback": [
      "\u001b[1;31m---------------------------------------------------------------------------\u001b[0m",
      "\u001b[1;31mValueError\u001b[0m                                Traceback (most recent call last)",
      "\u001b[1;32m~\\AppData\\Local\\Temp\\ipykernel_28676\\1204165470.py\u001b[0m in \u001b[0;36m?\u001b[1;34m()\u001b[0m\n\u001b[1;32m----> 1\u001b[1;33m \u001b[0mcm_to_feet\u001b[0m\u001b[1;33m(\u001b[0m\u001b[0mstudents\u001b[0m\u001b[1;33m)\u001b[0m\u001b[1;33m\u001b[0m\u001b[1;33m\u001b[0m\u001b[0m\n\u001b[0m",
      "\u001b[1;32m~\\AppData\\Local\\Temp\\ipykernel_28676\\3381355014.py\u001b[0m in \u001b[0;36m?\u001b[1;34m(h)\u001b[0m\n\u001b[0;32m      3\u001b[0m \u001b[1;32mdef\u001b[0m \u001b[0mcm_to_feet\u001b[0m\u001b[1;33m(\u001b[0m\u001b[0mh\u001b[0m\u001b[1;33m)\u001b[0m\u001b[1;33m:\u001b[0m\u001b[1;33m\u001b[0m\u001b[1;33m\u001b[0m\u001b[0m\n\u001b[1;32m----> 4\u001b[1;33m     \u001b[1;32mif\u001b[0m \u001b[0mh\u001b[0m \u001b[1;33m!=\u001b[0m \u001b[0mnp\u001b[0m\u001b[1;33m.\u001b[0m\u001b[0mnan\u001b[0m\u001b[1;33m:\u001b[0m\u001b[1;33m\u001b[0m\u001b[1;33m\u001b[0m\u001b[0m\n\u001b[0m\u001b[0;32m      5\u001b[0m         \u001b[1;32mreturn\u001b[0m \u001b[0mnp\u001b[0m\u001b[1;33m.\u001b[0m\u001b[0mround\u001b[0m\u001b[1;33m(\u001b[0m\u001b[0mh\u001b[0m \u001b[1;33m/\u001b[0m \u001b[1;36m30.48\u001b[0m\u001b[1;33m,\u001b[0m \u001b[1;36m2\u001b[0m\u001b[1;33m)\u001b[0m\u001b[1;33m\u001b[0m\u001b[1;33m\u001b[0m\u001b[0m\n",
      "\u001b[1;32mc:\\ProgramData\\anaconda3\\Lib\\site-packages\\pandas\\core\\generic.py\u001b[0m in \u001b[0;36m?\u001b[1;34m(self)\u001b[0m\n\u001b[0;32m   1575\u001b[0m     \u001b[1;33m@\u001b[0m\u001b[0mfinal\u001b[0m\u001b[1;33m\u001b[0m\u001b[1;33m\u001b[0m\u001b[0m\n\u001b[0;32m   1576\u001b[0m     \u001b[1;32mdef\u001b[0m \u001b[0m__nonzero__\u001b[0m\u001b[1;33m(\u001b[0m\u001b[0mself\u001b[0m\u001b[1;33m)\u001b[0m \u001b[1;33m->\u001b[0m \u001b[0mNoReturn\u001b[0m\u001b[1;33m:\u001b[0m\u001b[1;33m\u001b[0m\u001b[1;33m\u001b[0m\u001b[0m\n\u001b[1;32m-> 1577\u001b[1;33m         raise ValueError(\n\u001b[0m\u001b[0;32m   1578\u001b[0m             \u001b[1;34mf\"The truth value of a {type(self).__name__} is ambiguous. \"\u001b[0m\u001b[1;33m\u001b[0m\u001b[1;33m\u001b[0m\u001b[0m\n\u001b[0;32m   1579\u001b[0m             \u001b[1;34m\"Use a.empty, a.bool(), a.item(), a.any() or a.all().\"\u001b[0m\u001b[1;33m\u001b[0m\u001b[1;33m\u001b[0m\u001b[0m\n\u001b[0;32m   1580\u001b[0m         )\n",
      "\u001b[1;31mValueError\u001b[0m: The truth value of a Series is ambiguous. Use a.empty, a.bool(), a.item(), a.any() or a.all()."
     ]
    }
   ],
   "source": [
    "cm_to_feet(students)"
   ]
  },
  {
   "cell_type": "markdown",
   "id": "cae06577-ae37-41e1-a736-51ad7ed48648",
   "metadata": {},
   "source": [
    "W obecnej postaci nasza funkcja działa na floatach (zgodnie z zamierzeniem), ale nie działa na serii, ponieważ serie nie potrafią porównywać się z `np.nan`."
   ]
  },
  {
   "cell_type": "markdown",
   "id": "2a73b467-2146-4dcb-a51d-c4b81f295122",
   "metadata": {},
   "source": [
    "Gdybyśmy jednak zastosowali naszą funkcję na poszczególnych elementach serii to ten problem by nas nie dotyczył (ponieważ w funkcji będą lądowały poszczególne elementy serii, które są floatami)."
   ]
  },
  {
   "cell_type": "markdown",
   "id": "1fa67c97-b7d9-4e68-bfb2-b113b9c41129",
   "metadata": {},
   "source": [
    "Moglibyśmy to zrobić w pętli iterując po wszystkich elementach serii i przykładając naszę funkcję do każdego z elementów. Albo możemy użyć funkcji `apply`, która zrobi to za nas."
   ]
  },
  {
   "cell_type": "code",
   "execution_count": 8,
   "id": "fac6472b-8d49-4bd4-bd32-52c7b33ad2d2",
   "metadata": {},
   "outputs": [
    {
     "data": {
      "text/plain": [
       "Vik       5.91\n",
       "Mehdi     5.74\n",
       "Bella     5.51\n",
       "Chriss    6.23\n",
       "dtype: float64"
      ]
     },
     "execution_count": 8,
     "metadata": {},
     "output_type": "execute_result"
    }
   ],
   "source": [
    "students.apply(cm_to_feet)"
   ]
  },
  {
   "cell_type": "markdown",
   "id": "5891dfd1-8980-4985-bfd4-b04d5a16cda5",
   "metadata": {},
   "source": [
    "#### Ramka"
   ]
  },
  {
   "cell_type": "markdown",
   "id": "ee4e55e7-4daa-42d1-b317-f833052d5d1e",
   "metadata": {},
   "source": [
    "A jak używać metody `apply` do przetwarzania kolumn i wierszy w ramce ?"
   ]
  },
  {
   "cell_type": "markdown",
   "id": "6c3c0286-0b4d-49a3-9a5b-a0c713a18078",
   "metadata": {},
   "source": [
    "Na potrzeby prezentacji stwórzmy przykładową ramkę zawierającą dane pracowników fikcyjnej firmy."
   ]
  },
  {
   "cell_type": "code",
   "execution_count": 9,
   "id": "1da0e3f2-08c9-4b51-9d3e-5d25d7a98ea2",
   "metadata": {},
   "outputs": [
    {
     "data": {
      "text/html": [
       "<div>\n",
       "<style scoped>\n",
       "    .dataframe tbody tr th:only-of-type {\n",
       "        vertical-align: middle;\n",
       "    }\n",
       "\n",
       "    .dataframe tbody tr th {\n",
       "        vertical-align: top;\n",
       "    }\n",
       "\n",
       "    .dataframe thead th {\n",
       "        text-align: right;\n",
       "    }\n",
       "</style>\n",
       "<table border=\"1\" class=\"dataframe\">\n",
       "  <thead>\n",
       "    <tr style=\"text-align: right;\">\n",
       "      <th></th>\n",
       "      <th>EmployeeName</th>\n",
       "      <th>Department</th>\n",
       "      <th>HireDate</th>\n",
       "      <th>Sex</th>\n",
       "      <th>Birthdate</th>\n",
       "      <th>Weight</th>\n",
       "      <th>Height</th>\n",
       "      <th>Kids</th>\n",
       "    </tr>\n",
       "  </thead>\n",
       "  <tbody>\n",
       "    <tr>\n",
       "      <th>0</th>\n",
       "      <td>Callen Dunkley</td>\n",
       "      <td>Accounting</td>\n",
       "      <td>2010</td>\n",
       "      <td>M</td>\n",
       "      <td>04/09/1982</td>\n",
       "      <td>78</td>\n",
       "      <td>176</td>\n",
       "      <td>2</td>\n",
       "    </tr>\n",
       "    <tr>\n",
       "      <th>1</th>\n",
       "      <td>Sarah Rayner</td>\n",
       "      <td>Engineering</td>\n",
       "      <td>2018</td>\n",
       "      <td>F</td>\n",
       "      <td>14/04/1981</td>\n",
       "      <td>80</td>\n",
       "      <td>160</td>\n",
       "      <td>1</td>\n",
       "    </tr>\n",
       "    <tr>\n",
       "      <th>2</th>\n",
       "      <td>Jeanette Sloan</td>\n",
       "      <td>Engineering</td>\n",
       "      <td>2012</td>\n",
       "      <td>F</td>\n",
       "      <td>06/05/1997</td>\n",
       "      <td>66</td>\n",
       "      <td>169</td>\n",
       "      <td>0</td>\n",
       "    </tr>\n",
       "    <tr>\n",
       "      <th>3</th>\n",
       "      <td>Kaycee Acosta</td>\n",
       "      <td>HR</td>\n",
       "      <td>2014</td>\n",
       "      <td>F</td>\n",
       "      <td>08/01/1986</td>\n",
       "      <td>67</td>\n",
       "      <td>157</td>\n",
       "      <td>1</td>\n",
       "    </tr>\n",
       "    <tr>\n",
       "      <th>4</th>\n",
       "      <td>Henri Conroy</td>\n",
       "      <td>HR</td>\n",
       "      <td>2014</td>\n",
       "      <td>M</td>\n",
       "      <td>10/10/1988</td>\n",
       "      <td>90</td>\n",
       "      <td>185</td>\n",
       "      <td>1</td>\n",
       "    </tr>\n",
       "    <tr>\n",
       "      <th>5</th>\n",
       "      <td>Emma Peralta</td>\n",
       "      <td>HR</td>\n",
       "      <td>2018</td>\n",
       "      <td>F</td>\n",
       "      <td>12/11/1992</td>\n",
       "      <td>57</td>\n",
       "      <td>164</td>\n",
       "      <td>0</td>\n",
       "    </tr>\n",
       "    <tr>\n",
       "      <th>6</th>\n",
       "      <td>Martin Butt</td>\n",
       "      <td>Data Science</td>\n",
       "      <td>2020</td>\n",
       "      <td>M</td>\n",
       "      <td>10/04/1991</td>\n",
       "      <td>115</td>\n",
       "      <td>195</td>\n",
       "      <td>2</td>\n",
       "    </tr>\n",
       "    <tr>\n",
       "      <th>7</th>\n",
       "      <td>Alex Jensen</td>\n",
       "      <td>Data Science</td>\n",
       "      <td>2018</td>\n",
       "      <td>M</td>\n",
       "      <td>16/07/1995</td>\n",
       "      <td>87</td>\n",
       "      <td>180</td>\n",
       "      <td>0</td>\n",
       "    </tr>\n",
       "    <tr>\n",
       "      <th>8</th>\n",
       "      <td>Kim Howarth</td>\n",
       "      <td>Accounting</td>\n",
       "      <td>2020</td>\n",
       "      <td>M</td>\n",
       "      <td>08/10/1992</td>\n",
       "      <td>95</td>\n",
       "      <td>174</td>\n",
       "      <td>3</td>\n",
       "    </tr>\n",
       "    <tr>\n",
       "      <th>9</th>\n",
       "      <td>Jane Burnett</td>\n",
       "      <td>Data Science</td>\n",
       "      <td>2012</td>\n",
       "      <td>F</td>\n",
       "      <td>11/10/1979</td>\n",
       "      <td>57</td>\n",
       "      <td>165</td>\n",
       "      <td>1</td>\n",
       "    </tr>\n",
       "  </tbody>\n",
       "</table>\n",
       "</div>"
      ],
      "text/plain": [
       "     EmployeeName    Department  HireDate Sex   Birthdate  Weight  Height  \\\n",
       "0  Callen Dunkley    Accounting      2010   M  04/09/1982      78     176   \n",
       "1    Sarah Rayner   Engineering      2018   F  14/04/1981      80     160   \n",
       "2  Jeanette Sloan   Engineering      2012   F  06/05/1997      66     169   \n",
       "3   Kaycee Acosta            HR      2014   F  08/01/1986      67     157   \n",
       "4    Henri Conroy            HR      2014   M  10/10/1988      90     185   \n",
       "5    Emma Peralta            HR      2018   F  12/11/1992      57     164   \n",
       "6     Martin Butt  Data Science      2020   M  10/04/1991     115     195   \n",
       "7     Alex Jensen  Data Science      2018   M  16/07/1995      87     180   \n",
       "8     Kim Howarth    Accounting      2020   M  08/10/1992      95     174   \n",
       "9    Jane Burnett  Data Science      2012   F  11/10/1979      57     165   \n",
       "\n",
       "   Kids  \n",
       "0     2  \n",
       "1     1  \n",
       "2     0  \n",
       "3     1  \n",
       "4     1  \n",
       "5     0  \n",
       "6     2  \n",
       "7     0  \n",
       "8     3  \n",
       "9     1  "
      ]
     },
     "execution_count": 9,
     "metadata": {},
     "output_type": "execute_result"
    }
   ],
   "source": [
    "data = pd.DataFrame({\n",
    "    'EmployeeName': ['Callen Dunkley', 'Sarah Rayner', 'Jeanette Sloan', 'Kaycee Acosta', 'Henri Conroy', 'Emma Peralta', 'Martin Butt', 'Alex Jensen', 'Kim Howarth', 'Jane Burnett'],\n",
    "    'Department': ['Accounting', 'Engineering', 'Engineering', 'HR', 'HR', 'HR', 'Data Science', 'Data Science', 'Accounting', 'Data Science'],\n",
    "    'HireDate': [2010, 2018, 2012, 2014, 2014, 2018, 2020, 2018, 2020, 2012],\n",
    "    'Sex': ['M', 'F', 'F', 'F', 'M', 'F', 'M', 'M', 'M', 'F'],\n",
    "    'Birthdate': ['04/09/1982', '14/04/1981', '06/05/1997', '08/01/1986', '10/10/1988', '12/11/1992', '10/04/1991', '16/07/1995', '08/10/1992', '11/10/1979'],\n",
    "    'Weight': [78, 80, 66, 67, 90, 57, 115, 87, 95, 57],\n",
    "    'Height': [176, 160, 169, 157, 185, 164, 195, 180, 174, 165],\n",
    "    'Kids': [2, 1, 0, 1, 1, 0, 2, 0, 3, 1]\n",
    "})\n",
    "data"
   ]
  },
  {
   "cell_type": "markdown",
   "id": "7009760a-9749-4491-9370-d40bb72d5ef1",
   "metadata": {},
   "source": [
    "##### Funkcja `apply` w działaniu na kolumnę ramki."
   ]
  },
  {
   "cell_type": "markdown",
   "id": "2e0a7edc-f494-4f2c-8b5f-2d94f27533a5",
   "metadata": {},
   "source": [
    "Przejdźmy przez kilka scenariuszy"
   ]
  },
  {
   "cell_type": "markdown",
   "id": "fb4d4400-f8f8-46ec-aa9b-f962686f452e",
   "metadata": {},
   "source": [
    "**Scenariusz I**"
   ]
  },
  {
   "cell_type": "markdown",
   "id": "0b431180-a489-4bec-bd21-e2891d37f61c",
   "metadata": {},
   "source": [
    "Załóżmy, że zespół HR chce wysłać zaproszenie e-mail, które zaczyna się od przyjaznego powitania dla wszystkich pracowników (np. Hej, Sarah!). Poprosili nas o utworzenie dwóch kolumn do przechowywania imion i nazwisk pracowników osobno, co ułatwi odwoływanie się do imion pracowników. W tym celu możemy użyć funkcji lambda, która podzieli ciąg na listę po rozdzieleniu go za pomocą określonego separatora."
   ]
  },
  {
   "cell_type": "code",
   "execution_count": 10,
   "id": "bf72b27d-b723-477c-b205-4ac3a13e7a72",
   "metadata": {
    "scrolled": true
   },
   "outputs": [
    {
     "data": {
      "text/plain": [
       "['Ala', 'Kowalska']"
      ]
     },
     "execution_count": 10,
     "metadata": {},
     "output_type": "execute_result"
    }
   ],
   "source": [
    "# Zwróć uwagę! Metoda `apply` jest wykonywana na serii i to seria jest przekazywana\n",
    "# do funkcji wewnętrznej\n",
    "\"Ala Kowalska\".split()"
   ]
  },
  {
   "cell_type": "code",
   "execution_count": 12,
   "id": "a4ba76b3",
   "metadata": {},
   "outputs": [
    {
     "data": {
      "text/plain": [
       "0      Callen\n",
       "1       Sarah\n",
       "2    Jeanette\n",
       "3      Kaycee\n",
       "4       Henri\n",
       "5        Emma\n",
       "6      Martin\n",
       "7        Alex\n",
       "8         Kim\n",
       "9        Jane\n",
       "Name: EmployeeName, dtype: object"
      ]
     },
     "execution_count": 12,
     "metadata": {},
     "output_type": "execute_result"
    }
   ],
   "source": [
    "def get_first_name(fullname):\n",
    "    return fullname.split()[0]\n",
    "\n",
    "def get_last_name(fullname):\n",
    "    return fullname.split()[-1]\n",
    "\n",
    "data['EmployeeName'].apply(get_first_name)"
   ]
  },
  {
   "cell_type": "code",
   "execution_count": 13,
   "id": "e30c3247",
   "metadata": {},
   "outputs": [
    {
     "data": {
      "text/html": [
       "<div>\n",
       "<style scoped>\n",
       "    .dataframe tbody tr th:only-of-type {\n",
       "        vertical-align: middle;\n",
       "    }\n",
       "\n",
       "    .dataframe tbody tr th {\n",
       "        vertical-align: top;\n",
       "    }\n",
       "\n",
       "    .dataframe thead th {\n",
       "        text-align: right;\n",
       "    }\n",
       "</style>\n",
       "<table border=\"1\" class=\"dataframe\">\n",
       "  <thead>\n",
       "    <tr style=\"text-align: right;\">\n",
       "      <th></th>\n",
       "      <th>EmployeeName</th>\n",
       "      <th>Department</th>\n",
       "      <th>HireDate</th>\n",
       "      <th>Sex</th>\n",
       "      <th>Birthdate</th>\n",
       "      <th>Weight</th>\n",
       "      <th>Height</th>\n",
       "      <th>Kids</th>\n",
       "      <th>FirstName</th>\n",
       "      <th>LastName</th>\n",
       "    </tr>\n",
       "  </thead>\n",
       "  <tbody>\n",
       "    <tr>\n",
       "      <th>0</th>\n",
       "      <td>Callen Dunkley</td>\n",
       "      <td>Accounting</td>\n",
       "      <td>2010</td>\n",
       "      <td>M</td>\n",
       "      <td>04/09/1982</td>\n",
       "      <td>78</td>\n",
       "      <td>176</td>\n",
       "      <td>2</td>\n",
       "      <td>Callen</td>\n",
       "      <td>Callen</td>\n",
       "    </tr>\n",
       "    <tr>\n",
       "      <th>1</th>\n",
       "      <td>Sarah Rayner</td>\n",
       "      <td>Engineering</td>\n",
       "      <td>2018</td>\n",
       "      <td>F</td>\n",
       "      <td>14/04/1981</td>\n",
       "      <td>80</td>\n",
       "      <td>160</td>\n",
       "      <td>1</td>\n",
       "      <td>Sarah</td>\n",
       "      <td>Sarah</td>\n",
       "    </tr>\n",
       "    <tr>\n",
       "      <th>2</th>\n",
       "      <td>Jeanette Sloan</td>\n",
       "      <td>Engineering</td>\n",
       "      <td>2012</td>\n",
       "      <td>F</td>\n",
       "      <td>06/05/1997</td>\n",
       "      <td>66</td>\n",
       "      <td>169</td>\n",
       "      <td>0</td>\n",
       "      <td>Jeanette</td>\n",
       "      <td>Jeanette</td>\n",
       "    </tr>\n",
       "    <tr>\n",
       "      <th>3</th>\n",
       "      <td>Kaycee Acosta</td>\n",
       "      <td>HR</td>\n",
       "      <td>2014</td>\n",
       "      <td>F</td>\n",
       "      <td>08/01/1986</td>\n",
       "      <td>67</td>\n",
       "      <td>157</td>\n",
       "      <td>1</td>\n",
       "      <td>Kaycee</td>\n",
       "      <td>Kaycee</td>\n",
       "    </tr>\n",
       "    <tr>\n",
       "      <th>4</th>\n",
       "      <td>Henri Conroy</td>\n",
       "      <td>HR</td>\n",
       "      <td>2014</td>\n",
       "      <td>M</td>\n",
       "      <td>10/10/1988</td>\n",
       "      <td>90</td>\n",
       "      <td>185</td>\n",
       "      <td>1</td>\n",
       "      <td>Henri</td>\n",
       "      <td>Henri</td>\n",
       "    </tr>\n",
       "    <tr>\n",
       "      <th>5</th>\n",
       "      <td>Emma Peralta</td>\n",
       "      <td>HR</td>\n",
       "      <td>2018</td>\n",
       "      <td>F</td>\n",
       "      <td>12/11/1992</td>\n",
       "      <td>57</td>\n",
       "      <td>164</td>\n",
       "      <td>0</td>\n",
       "      <td>Emma</td>\n",
       "      <td>Emma</td>\n",
       "    </tr>\n",
       "    <tr>\n",
       "      <th>6</th>\n",
       "      <td>Martin Butt</td>\n",
       "      <td>Data Science</td>\n",
       "      <td>2020</td>\n",
       "      <td>M</td>\n",
       "      <td>10/04/1991</td>\n",
       "      <td>115</td>\n",
       "      <td>195</td>\n",
       "      <td>2</td>\n",
       "      <td>Martin</td>\n",
       "      <td>Martin</td>\n",
       "    </tr>\n",
       "    <tr>\n",
       "      <th>7</th>\n",
       "      <td>Alex Jensen</td>\n",
       "      <td>Data Science</td>\n",
       "      <td>2018</td>\n",
       "      <td>M</td>\n",
       "      <td>16/07/1995</td>\n",
       "      <td>87</td>\n",
       "      <td>180</td>\n",
       "      <td>0</td>\n",
       "      <td>Alex</td>\n",
       "      <td>Alex</td>\n",
       "    </tr>\n",
       "    <tr>\n",
       "      <th>8</th>\n",
       "      <td>Kim Howarth</td>\n",
       "      <td>Accounting</td>\n",
       "      <td>2020</td>\n",
       "      <td>M</td>\n",
       "      <td>08/10/1992</td>\n",
       "      <td>95</td>\n",
       "      <td>174</td>\n",
       "      <td>3</td>\n",
       "      <td>Kim</td>\n",
       "      <td>Kim</td>\n",
       "    </tr>\n",
       "    <tr>\n",
       "      <th>9</th>\n",
       "      <td>Jane Burnett</td>\n",
       "      <td>Data Science</td>\n",
       "      <td>2012</td>\n",
       "      <td>F</td>\n",
       "      <td>11/10/1979</td>\n",
       "      <td>57</td>\n",
       "      <td>165</td>\n",
       "      <td>1</td>\n",
       "      <td>Jane</td>\n",
       "      <td>Jane</td>\n",
       "    </tr>\n",
       "  </tbody>\n",
       "</table>\n",
       "</div>"
      ],
      "text/plain": [
       "     EmployeeName    Department  HireDate Sex   Birthdate  Weight  Height  \\\n",
       "0  Callen Dunkley    Accounting      2010   M  04/09/1982      78     176   \n",
       "1    Sarah Rayner   Engineering      2018   F  14/04/1981      80     160   \n",
       "2  Jeanette Sloan   Engineering      2012   F  06/05/1997      66     169   \n",
       "3   Kaycee Acosta            HR      2014   F  08/01/1986      67     157   \n",
       "4    Henri Conroy            HR      2014   M  10/10/1988      90     185   \n",
       "5    Emma Peralta            HR      2018   F  12/11/1992      57     164   \n",
       "6     Martin Butt  Data Science      2020   M  10/04/1991     115     195   \n",
       "7     Alex Jensen  Data Science      2018   M  16/07/1995      87     180   \n",
       "8     Kim Howarth    Accounting      2020   M  08/10/1992      95     174   \n",
       "9    Jane Burnett  Data Science      2012   F  11/10/1979      57     165   \n",
       "\n",
       "   Kids FirstName  LastName  \n",
       "0     2    Callen    Callen  \n",
       "1     1     Sarah     Sarah  \n",
       "2     0  Jeanette  Jeanette  \n",
       "3     1    Kaycee    Kaycee  \n",
       "4     1     Henri     Henri  \n",
       "5     0      Emma      Emma  \n",
       "6     2    Martin    Martin  \n",
       "7     0      Alex      Alex  \n",
       "8     3       Kim       Kim  \n",
       "9     1      Jane      Jane  "
      ]
     },
     "execution_count": 13,
     "metadata": {},
     "output_type": "execute_result"
    }
   ],
   "source": [
    "data['FirstName'] = data['EmployeeName'].apply(get_first_name)\n",
    "data['LastName'] = data['EmployeeName'].apply(get_first_name)\n",
    "data"
   ]
  },
  {
   "cell_type": "code",
   "execution_count": 23,
   "id": "7a7ed71a",
   "metadata": {},
   "outputs": [
    {
     "data": {
      "text/plain": [
       "9"
      ]
     },
     "execution_count": 23,
     "metadata": {},
     "output_type": "execute_result"
    }
   ],
   "source": [
    "# funkcja anonimowa\n",
    "\n",
    "# def square(x):\n",
    "#     return x ** 2\n",
    "\n",
    "square = lambda x: x ** 2\n",
    "square(3)"
   ]
  },
  {
   "cell_type": "code",
   "execution_count": 27,
   "id": "0a2ab379",
   "metadata": {},
   "outputs": [
    {
     "data": {
      "text/plain": [
       "0      Callen\n",
       "1       Sarah\n",
       "2    Jeanette\n",
       "3      Kaycee\n",
       "4       Henri\n",
       "5        Emma\n",
       "6      Martin\n",
       "7        Alex\n",
       "8         Kim\n",
       "9        Jane\n",
       "Name: EmployeeName, dtype: object"
      ]
     },
     "execution_count": 27,
     "metadata": {},
     "output_type": "execute_result"
    }
   ],
   "source": [
    "# rozwiazanie z funkcja anonimowa\n",
    "\n",
    "data['EmployeeName'].apply(lambda fullname: fullname.split()[0])"
   ]
  },
  {
   "cell_type": "code",
   "execution_count": 28,
   "id": "b736e24f",
   "metadata": {},
   "outputs": [
    {
     "data": {
      "text/plain": [
       "0    Dunkley\n",
       "1     Rayner\n",
       "2      Sloan\n",
       "3     Acosta\n",
       "4     Conroy\n",
       "5    Peralta\n",
       "6       Butt\n",
       "7     Jensen\n",
       "8    Howarth\n",
       "9    Burnett\n",
       "Name: EmployeeName, dtype: object"
      ]
     },
     "execution_count": 28,
     "metadata": {},
     "output_type": "execute_result"
    }
   ],
   "source": [
    "data['EmployeeName'].apply(lambda fullname: fullname.split()[-1])"
   ]
  },
  {
   "cell_type": "markdown",
   "id": "055c4ac7-6af9-42f3-b424-4d46ae91dfec",
   "metadata": {},
   "source": [
    "**Scenariusz II**"
   ]
  },
  {
   "cell_type": "markdown",
   "id": "5ac35505-ae81-4d84-9824-d0c87b8ace79",
   "metadata": {},
   "source": [
    "Załóżmy teraz, że zespół HR chce znać wiek każdego pracownika oraz średni wiek pracowników, ponieważ chcą ustalić, czy wiek pracownika wpływa na zadowolenie z pracy i zaangażowanie w pracę.\n",
    "\n",
    "Aby to zrobić, pierwszym krokiem jest zdefiniowanie funkcji, która pobiera datę urodzenia pracownika i zwraca jego wiek:"
   ]
  },
  {
   "cell_type": "code",
   "execution_count": 16,
   "id": "2a5818fe-4edf-45b6-ad44-550bdac78e24",
   "metadata": {},
   "outputs": [],
   "source": [
    "from datetime import datetime, date\n",
    "\n",
    "def calculate_age(birthday):\n",
    "    birthday_dt = datetime.strptime(birthday, '%d/%m/%Y')\n",
    "    today = date.today()\n",
    "    return today.year - birthday_dt.year - (today.month < birthday_dt.month)"
   ]
  },
  {
   "cell_type": "code",
   "execution_count": 17,
   "id": "e3539d95-318a-4ac3-a2c5-8d4291424b00",
   "metadata": {},
   "outputs": [
    {
     "data": {
      "text/plain": [
       "42"
      ]
     },
     "execution_count": 17,
     "metadata": {},
     "output_type": "execute_result"
    }
   ],
   "source": [
    "calculate_age('04/09/1982')"
   ]
  },
  {
   "cell_type": "code",
   "execution_count": 18,
   "id": "87ba5629",
   "metadata": {},
   "outputs": [
    {
     "data": {
      "text/plain": [
       "41"
      ]
     },
     "execution_count": 18,
     "metadata": {},
     "output_type": "execute_result"
    }
   ],
   "source": [
    "calculate_age('04/12/1982')"
   ]
  },
  {
   "cell_type": "markdown",
   "id": "982c4b71-b7cb-42c4-8a8e-841eecb5ac72",
   "metadata": {},
   "source": [
    "I teraz możemy zastosować funkcję `calculate_age` na kolumnie `Birthdate` ramki za pomocą metody `apply`."
   ]
  },
  {
   "cell_type": "code",
   "execution_count": 19,
   "id": "5b03a44f-8f78-4c86-bdf5-de08e815475b",
   "metadata": {},
   "outputs": [
    {
     "data": {
      "text/plain": [
       "0    42\n",
       "1    43\n",
       "2    27\n",
       "3    38\n",
       "4    36\n",
       "5    31\n",
       "6    33\n",
       "7    29\n",
       "8    32\n",
       "9    45\n",
       "Name: Birthdate, dtype: int64"
      ]
     },
     "execution_count": 19,
     "metadata": {},
     "output_type": "execute_result"
    }
   ],
   "source": [
    "# Zwróć uwagę! Znów metoda `apply` jest wykonywana na rzecz serii.\n",
    "data['Birthdate'].apply(calculate_age)"
   ]
  },
  {
   "cell_type": "markdown",
   "id": "5ed6713f-aa64-42ff-88d2-01b8b5f7a9b9",
   "metadata": {},
   "source": [
    "Teraz łatwo możemy policzyć średni wiek pracowników."
   ]
  },
  {
   "cell_type": "code",
   "execution_count": 20,
   "id": "b89db6f4-6dd6-49a0-a17a-404d399d53ec",
   "metadata": {},
   "outputs": [
    {
     "data": {
      "text/plain": [
       "35.6"
      ]
     },
     "execution_count": 20,
     "metadata": {},
     "output_type": "execute_result"
    }
   ],
   "source": [
    "data['Birthdate'].apply(calculate_age).mean()"
   ]
  },
  {
   "cell_type": "code",
   "execution_count": 21,
   "id": "3cc7b184",
   "metadata": {},
   "outputs": [
    {
     "data": {
      "text/html": [
       "<div>\n",
       "<style scoped>\n",
       "    .dataframe tbody tr th:only-of-type {\n",
       "        vertical-align: middle;\n",
       "    }\n",
       "\n",
       "    .dataframe tbody tr th {\n",
       "        vertical-align: top;\n",
       "    }\n",
       "\n",
       "    .dataframe thead th {\n",
       "        text-align: right;\n",
       "    }\n",
       "</style>\n",
       "<table border=\"1\" class=\"dataframe\">\n",
       "  <thead>\n",
       "    <tr style=\"text-align: right;\">\n",
       "      <th></th>\n",
       "      <th>EmployeeName</th>\n",
       "      <th>Department</th>\n",
       "      <th>HireDate</th>\n",
       "      <th>Sex</th>\n",
       "      <th>Birthdate</th>\n",
       "      <th>Weight</th>\n",
       "      <th>Height</th>\n",
       "      <th>Kids</th>\n",
       "      <th>FirstName</th>\n",
       "      <th>LastName</th>\n",
       "      <th>Age</th>\n",
       "    </tr>\n",
       "  </thead>\n",
       "  <tbody>\n",
       "    <tr>\n",
       "      <th>0</th>\n",
       "      <td>Callen Dunkley</td>\n",
       "      <td>Accounting</td>\n",
       "      <td>2010</td>\n",
       "      <td>M</td>\n",
       "      <td>04/09/1982</td>\n",
       "      <td>78</td>\n",
       "      <td>176</td>\n",
       "      <td>2</td>\n",
       "      <td>Callen</td>\n",
       "      <td>Callen</td>\n",
       "      <td>42</td>\n",
       "    </tr>\n",
       "    <tr>\n",
       "      <th>1</th>\n",
       "      <td>Sarah Rayner</td>\n",
       "      <td>Engineering</td>\n",
       "      <td>2018</td>\n",
       "      <td>F</td>\n",
       "      <td>14/04/1981</td>\n",
       "      <td>80</td>\n",
       "      <td>160</td>\n",
       "      <td>1</td>\n",
       "      <td>Sarah</td>\n",
       "      <td>Sarah</td>\n",
       "      <td>43</td>\n",
       "    </tr>\n",
       "    <tr>\n",
       "      <th>2</th>\n",
       "      <td>Jeanette Sloan</td>\n",
       "      <td>Engineering</td>\n",
       "      <td>2012</td>\n",
       "      <td>F</td>\n",
       "      <td>06/05/1997</td>\n",
       "      <td>66</td>\n",
       "      <td>169</td>\n",
       "      <td>0</td>\n",
       "      <td>Jeanette</td>\n",
       "      <td>Jeanette</td>\n",
       "      <td>27</td>\n",
       "    </tr>\n",
       "    <tr>\n",
       "      <th>3</th>\n",
       "      <td>Kaycee Acosta</td>\n",
       "      <td>HR</td>\n",
       "      <td>2014</td>\n",
       "      <td>F</td>\n",
       "      <td>08/01/1986</td>\n",
       "      <td>67</td>\n",
       "      <td>157</td>\n",
       "      <td>1</td>\n",
       "      <td>Kaycee</td>\n",
       "      <td>Kaycee</td>\n",
       "      <td>38</td>\n",
       "    </tr>\n",
       "    <tr>\n",
       "      <th>4</th>\n",
       "      <td>Henri Conroy</td>\n",
       "      <td>HR</td>\n",
       "      <td>2014</td>\n",
       "      <td>M</td>\n",
       "      <td>10/10/1988</td>\n",
       "      <td>90</td>\n",
       "      <td>185</td>\n",
       "      <td>1</td>\n",
       "      <td>Henri</td>\n",
       "      <td>Henri</td>\n",
       "      <td>36</td>\n",
       "    </tr>\n",
       "    <tr>\n",
       "      <th>5</th>\n",
       "      <td>Emma Peralta</td>\n",
       "      <td>HR</td>\n",
       "      <td>2018</td>\n",
       "      <td>F</td>\n",
       "      <td>12/11/1992</td>\n",
       "      <td>57</td>\n",
       "      <td>164</td>\n",
       "      <td>0</td>\n",
       "      <td>Emma</td>\n",
       "      <td>Emma</td>\n",
       "      <td>31</td>\n",
       "    </tr>\n",
       "    <tr>\n",
       "      <th>6</th>\n",
       "      <td>Martin Butt</td>\n",
       "      <td>Data Science</td>\n",
       "      <td>2020</td>\n",
       "      <td>M</td>\n",
       "      <td>10/04/1991</td>\n",
       "      <td>115</td>\n",
       "      <td>195</td>\n",
       "      <td>2</td>\n",
       "      <td>Martin</td>\n",
       "      <td>Martin</td>\n",
       "      <td>33</td>\n",
       "    </tr>\n",
       "    <tr>\n",
       "      <th>7</th>\n",
       "      <td>Alex Jensen</td>\n",
       "      <td>Data Science</td>\n",
       "      <td>2018</td>\n",
       "      <td>M</td>\n",
       "      <td>16/07/1995</td>\n",
       "      <td>87</td>\n",
       "      <td>180</td>\n",
       "      <td>0</td>\n",
       "      <td>Alex</td>\n",
       "      <td>Alex</td>\n",
       "      <td>29</td>\n",
       "    </tr>\n",
       "    <tr>\n",
       "      <th>8</th>\n",
       "      <td>Kim Howarth</td>\n",
       "      <td>Accounting</td>\n",
       "      <td>2020</td>\n",
       "      <td>M</td>\n",
       "      <td>08/10/1992</td>\n",
       "      <td>95</td>\n",
       "      <td>174</td>\n",
       "      <td>3</td>\n",
       "      <td>Kim</td>\n",
       "      <td>Kim</td>\n",
       "      <td>32</td>\n",
       "    </tr>\n",
       "    <tr>\n",
       "      <th>9</th>\n",
       "      <td>Jane Burnett</td>\n",
       "      <td>Data Science</td>\n",
       "      <td>2012</td>\n",
       "      <td>F</td>\n",
       "      <td>11/10/1979</td>\n",
       "      <td>57</td>\n",
       "      <td>165</td>\n",
       "      <td>1</td>\n",
       "      <td>Jane</td>\n",
       "      <td>Jane</td>\n",
       "      <td>45</td>\n",
       "    </tr>\n",
       "  </tbody>\n",
       "</table>\n",
       "</div>"
      ],
      "text/plain": [
       "     EmployeeName    Department  HireDate Sex   Birthdate  Weight  Height  \\\n",
       "0  Callen Dunkley    Accounting      2010   M  04/09/1982      78     176   \n",
       "1    Sarah Rayner   Engineering      2018   F  14/04/1981      80     160   \n",
       "2  Jeanette Sloan   Engineering      2012   F  06/05/1997      66     169   \n",
       "3   Kaycee Acosta            HR      2014   F  08/01/1986      67     157   \n",
       "4    Henri Conroy            HR      2014   M  10/10/1988      90     185   \n",
       "5    Emma Peralta            HR      2018   F  12/11/1992      57     164   \n",
       "6     Martin Butt  Data Science      2020   M  10/04/1991     115     195   \n",
       "7     Alex Jensen  Data Science      2018   M  16/07/1995      87     180   \n",
       "8     Kim Howarth    Accounting      2020   M  08/10/1992      95     174   \n",
       "9    Jane Burnett  Data Science      2012   F  11/10/1979      57     165   \n",
       "\n",
       "   Kids FirstName  LastName  Age  \n",
       "0     2    Callen    Callen   42  \n",
       "1     1     Sarah     Sarah   43  \n",
       "2     0  Jeanette  Jeanette   27  \n",
       "3     1    Kaycee    Kaycee   38  \n",
       "4     1     Henri     Henri   36  \n",
       "5     0      Emma      Emma   31  \n",
       "6     2    Martin    Martin   33  \n",
       "7     0      Alex      Alex   29  \n",
       "8     3       Kim       Kim   32  \n",
       "9     1      Jane      Jane   45  "
      ]
     },
     "execution_count": 21,
     "metadata": {},
     "output_type": "execute_result"
    }
   ],
   "source": [
    "data['Age'] = data['Birthdate'].apply(calculate_age)\n",
    "data"
   ]
  },
  {
   "cell_type": "markdown",
   "id": "dd4f0039-f743-4d01-96f3-adba78da7a19",
   "metadata": {},
   "source": [
    "**Scenariusz III**"
   ]
  },
  {
   "cell_type": "markdown",
   "id": "603d7505-dfc6-49e6-8149-513222f98f69",
   "metadata": {},
   "source": [
    "Kierownik HR w firmie bada opcje ubezpieczenia zdrowotnego dla wszystkich pracowników. Potencjalni dostawcy wymagają informacji o pracownikach. Żałóżmy, że kierownik HR poprosił cię o obliczenie wskaźnika masy ciała (BMI) dla każdego pracownika, aby mogła uzyskać oferty od potencjalnych dostawców usług zdrowotnych.\n",
    "\n",
    "Aby wykonać to zadanie, najpierw musimy zdefiniować funkcję, która oblicza wskaźnik masy ciała (BMI). Wzór na BMI to waga w kilogramach podzielona przez wzrost w metrach do kwadratu. Ponieważ wzrost pracowników jest mierzony w centymetrach, musimy podzielić wzrost przez 100, aby uzyskać wzrost w metrach."
   ]
  },
  {
   "cell_type": "code",
   "execution_count": null,
   "id": "6c44ed8b-7a63-44f9-8916-61474c761cc5",
   "metadata": {},
   "outputs": [],
   "source": [
    "..."
   ]
  },
  {
   "cell_type": "markdown",
   "id": "b34ef33e-8bb0-45c0-8a78-d5dece656b77",
   "metadata": {},
   "source": [
    "Zastosujmy naszą funkcję na poszczególnych pracownikach."
   ]
  },
  {
   "cell_type": "code",
   "execution_count": null,
   "id": "1ccf0ea3-8466-4209-a5a2-aba5139b0574",
   "metadata": {},
   "outputs": [],
   "source": [
    "# Zwróć uwagę, tym razem metoda `apply` wykonywana jest na rzecz całej ramki \n",
    "# argument axis=1 powoduje, że do funkcji wewnętrznej przekazywane są kolejne\n",
    "# wiersze ramki, gdyby przekazano axis=0 do funkcji wewnętrznej przekazywane\n",
    "# byłyby kolejne kolumny ramki.\n",
    "# i dlatego to cała ramka przekazywana jest do funkcji wewnętrznej.\n",
    "..."
   ]
  },
  {
   "cell_type": "markdown",
   "id": "8ba381fb-7e6b-4996-8028-39109dc694cd",
   "metadata": {},
   "source": [
    "Funkcja lambda pobiera wartości wagi i wzrostu z każdego wiersza, a następnie stosuje funkcję `calc_bmi`, aby obliczyć dla nich wskaźnik masy ciała (BMI). Argument `axis=1` oznacza, że metoda `apply` iteruje po wierszach ramki."
   ]
  },
  {
   "cell_type": "markdown",
   "id": "b01e6004-4185-4bd3-935b-268e4ac5a4e2",
   "metadata": {},
   "source": [
    "Ostatnim krokiem jest zaklasyfikowanie pracowników według pomiaru BMI. BMI poniżej 18,5 to *Group One*, od 18,5 do 24,9 to *Group Two*, od 25 do 29,9 to *Group Three*, a powyżej 30 to *Group Four*."
   ]
  },
  {
   "cell_type": "code",
   "execution_count": null,
   "id": "baa0b6a1-4b53-45e4-95c1-6fe68f261348",
   "metadata": {},
   "outputs": [],
   "source": [
    "..."
   ]
  },
  {
   "cell_type": "code",
   "execution_count": null,
   "id": "2f38ba70-4b04-4db8-8a52-10443c2154d6",
   "metadata": {},
   "outputs": [],
   "source": [
    "# Zwróć uwagę! Metoda apply jest tutaj stosowana na serii.\n",
    "..."
   ]
  },
  {
   "cell_type": "markdown",
   "id": "82736217-e168-425c-b861-bdbec4496dc1",
   "metadata": {},
   "source": [
    "#### Scenatiusz IV"
   ]
  },
  {
   "cell_type": "markdown",
   "id": "1a0a2aa7-9d9f-4f41-a384-5d393def9a68",
   "metadata": {},
   "source": [
    "Załóżmy, że nowy rok zbliża się wielkimi krokami, a zarząd firmy ogłosił, że pracownicy z ponad dziesięcioletnim doświadczeniem otrzymają dodatkowy bonus. Kierownik HR chce wiedzieć, kto kwalifikuje się do otrzymania bonusu."
   ]
  },
  {
   "cell_type": "code",
   "execution_count": null,
   "id": "1d15fdd8-87df-4447-8b4a-04d356da3364",
   "metadata": {},
   "outputs": [],
   "source": [
    "..."
   ]
  },
  {
   "cell_type": "code",
   "execution_count": null,
   "id": "2f475495-8466-43d7-a740-1219427398e3",
   "metadata": {},
   "outputs": [],
   "source": [
    "..."
   ]
  },
  {
   "cell_type": "markdown",
   "id": "b61d8b1a-c00a-4ec0-8350-19a51a190fdb",
   "metadata": {},
   "source": [
    "Ale tutaj uwaga! Chociaż przykład dobrze prezentuje użycie metody `apply`, to w tym przypadku znacznie bardziej wydajnym obliczeniowo i właściwym podejściem jest zastosowanie zwykłego filtrowania. Ze względów wydajnościowych jeżeli można gdzieś zastąpić metodę apply indeksowaniem/filtrowaniem to należy to zrobić. "
   ]
  },
  {
   "cell_type": "code",
   "execution_count": null,
   "id": "70e38797-678c-4fcf-b74e-67eb3a6395dd",
   "metadata": {},
   "outputs": [],
   "source": [
    "..."
   ]
  }
 ],
 "metadata": {
  "kernelspec": {
   "display_name": "base",
   "language": "python",
   "name": "python3"
  },
  "language_info": {
   "codemirror_mode": {
    "name": "ipython",
    "version": 3
   },
   "file_extension": ".py",
   "mimetype": "text/x-python",
   "name": "python",
   "nbconvert_exporter": "python",
   "pygments_lexer": "ipython3",
   "version": "3.11.9"
  }
 },
 "nbformat": 4,
 "nbformat_minor": 5
}
