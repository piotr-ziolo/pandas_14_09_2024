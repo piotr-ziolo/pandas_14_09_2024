{
 "cells": [
  {
   "cell_type": "markdown",
   "id": "03d44813-d421-4ca3-9aa8-570a03834ac1",
   "metadata": {},
   "source": [
    "### Zadanie 8: Łączenie ramek"
   ]
  },
  {
   "cell_type": "markdown",
   "id": "5fa898ed-ae30-4e33-a90a-d0437780af05",
   "metadata": {},
   "source": [
    "To zadanie ma na celu pomoc w zrozumieniu, jak efektywnie łączyć dane z różnych źródeł i jakie są różnice pomiędzy różnymi typami łączeń."
   ]
  },
  {
   "cell_type": "markdown",
   "id": "41c1dcbe-1211-42c1-b514-d6b9b85d1112",
   "metadata": {},
   "source": [
    "Wyobraź sobie, że pracujesz w dziale sprzedaży firmy, która prowadzi różne kampanie marketingowe. Masz dwa pliki csv: jeden zawiera informacje o sprzedaży ('data/transactions.csv'), a drugi o klientach ('data/clients.csv'). Twoim zadaniem będzie połączenie tych danych, aby uzyskać pełny obraz sprzedaży w kontekście klientów i kampanii."
   ]
  },
  {
   "cell_type": "markdown",
   "id": "e177b4c5-aeef-4eb4-8891-1da7c4a16edc",
   "metadata": {},
   "source": [
    "**1. Wczytaj dane**\n",
    "\n",
    "Wczytaj oba pliki CSV do osobnych ram danych."
   ]
  },
  {
   "cell_type": "code",
   "execution_count": null,
   "id": "ca5ebae5-3fcc-4c3e-812f-753b9018b74a",
   "metadata": {},
   "outputs": [],
   "source": [
    "import pandas as pd"
   ]
  },
  {
   "cell_type": "code",
   "execution_count": null,
   "id": "3af6d3ac-cb57-4195-828e-b27900386bd8",
   "metadata": {},
   "outputs": [],
   "source": [
    "# 1. Wczytaj dane\n",
    "..."
   ]
  },
  {
   "cell_type": "code",
   "execution_count": null,
   "id": "a1e2412a-9454-4923-839d-446f4f0da589",
   "metadata": {},
   "outputs": [],
   "source": [
    "..."
   ]
  },
  {
   "cell_type": "markdown",
   "id": "20c04631-2906-4b70-afc1-647216f222b7",
   "metadata": {},
   "source": [
    "**2. Sprzedaż z klientami, którzy dokonali zakupów**\n",
    "\n",
    "Połącz ramki danych na podstawie id_klienta, aby uzyskać sprzedaż tylko tych klientów, którzy dokonali zakupów."
   ]
  },
  {
   "cell_type": "code",
   "execution_count": null,
   "id": "e51bf4e2-2df3-48a7-af3e-425aa3915ea7",
   "metadata": {},
   "outputs": [],
   "source": [
    "# 2. Sprzedaż z klientami, którzy dokonali zakupów\n",
    "print(\"Sprzedaż z klientami, którzy dokonali zakupów:\")\n",
    "..."
   ]
  },
  {
   "cell_type": "markdown",
   "id": "d14237c7-f92e-450a-8651-e2445a2e80e2",
   "metadata": {},
   "source": [
    "**3. Pełne dane o sprzedaży i klientach**\n",
    "\n",
    "Połącz ramki danych, aby uzyskać wszystkie informacje o sprzedaży i klientach, wypełniając brakujące wartości NaN."
   ]
  },
  {
   "cell_type": "code",
   "execution_count": null,
   "id": "5954abe5-e1fe-474f-bea6-258ed8c5ab25",
   "metadata": {},
   "outputs": [],
   "source": [
    "# 3. Pełne dane o sprzedaży i klientach\n",
    "print(\"\\nPełne dane o sprzedaży i klientach:\")\n",
    "..."
   ]
  },
  {
   "cell_type": "markdown",
   "id": "6dc8ae1c-0692-409f-9350-76f101311efe",
   "metadata": {},
   "source": [
    "**4. Sprzedaż z wszystkich klientów**\n",
    "\n",
    "Połącz ramki danych, aby uzyskać sprzedaż dla wszystkich klientów, nawet tych, którzy nie dokonali żadnych zakupów."
   ]
  },
  {
   "cell_type": "code",
   "execution_count": null,
   "id": "d68466ad-dbe1-4cc6-a48e-51e28cbb8c75",
   "metadata": {},
   "outputs": [],
   "source": [
    "# 4. Sprzedaż z wszystkich klientów\n",
    "print(\"\\nSprzedaż z wszystkich klientów:\")\n",
    "..."
   ]
  },
  {
   "cell_type": "markdown",
   "id": "5ea7432a-13fe-4c9e-bbc5-b4918fa1e51b",
   "metadata": {},
   "source": [
    "**5. Klienci z zakupami**\n",
    "\n",
    "Połącz ramki danych, aby uzyskać listę klientów, którzy dokonali zakupów oraz ich dane."
   ]
  },
  {
   "cell_type": "code",
   "execution_count": null,
   "id": "765af0a0-60e6-4bc2-a86a-fb34d12d6c3e",
   "metadata": {},
   "outputs": [],
   "source": [
    "# 5. Klienci z zakupami\n",
    "print(\"\\nKlienci z zakupami:\")\n",
    "..."
   ]
  },
  {
   "cell_type": "markdown",
   "id": "78bffd6e-018c-4987-bfae-c36d76846eb0",
   "metadata": {},
   "source": [
    "**6. Concat danych sprzedażowych**\n",
    "\n",
    "Dodaj nowe dane sprzedażowe do istniejącej ramki z danymi sprzedaży:\n",
    "\n",
    "<pre><code>additional_data = {\n",
    "    'id_klienta': [7, 8],\n",
    "    'data_sprzedazy': ['2023-01-20', '2023-01-21'],\n",
    "    'sprzedaz': [500, 700]\n",
    "}</code></pre>"
   ]
  },
  {
   "cell_type": "code",
   "execution_count": null,
   "id": "3b71687c-4141-40e7-815d-f10773f2758a",
   "metadata": {},
   "outputs": [],
   "source": [
    "# Dodatkowe dane sprzedażowe\n",
    "additional_data = {\n",
    "    'id_klienta': [7, 8],\n",
    "    'data_sprzedazy': ['2023-01-20', '2023-01-21'],\n",
    "    'sprzedaz': [500, 700]\n",
    "}\n",
    "..."
   ]
  },
  {
   "cell_type": "code",
   "execution_count": null,
   "id": "dd5c908c-196e-4e50-a1bb-a6e645916e22",
   "metadata": {},
   "outputs": [],
   "source": [
    "# Concat sprzedaży\n",
    "print(\"\\nConcat danych sprzedażowych:\")\n",
    "..."
   ]
  }
 ],
 "metadata": {
  "kernelspec": {
   "display_name": "Python 3 (ipykernel)",
   "language": "python",
   "name": "python3"
  },
  "language_info": {
   "codemirror_mode": {
    "name": "ipython",
    "version": 3
   },
   "file_extension": ".py",
   "mimetype": "text/x-python",
   "name": "python",
   "nbconvert_exporter": "python",
   "pygments_lexer": "ipython3",
   "version": "3.12.4"
  }
 },
 "nbformat": 4,
 "nbformat_minor": 5
}
