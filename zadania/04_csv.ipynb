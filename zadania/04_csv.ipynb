{
 "cells": [
  {
   "cell_type": "markdown",
   "id": "502b8ff9-07e5-47f1-8f6f-a9e43b96f561",
   "metadata": {},
   "source": [
    "#### Zadanie IV: Wczytywanie danych z pliku CSV"
   ]
  },
  {
   "cell_type": "markdown",
   "id": "7515e561-d909-4fa0-9fc2-8d68b72feeb1",
   "metadata": {},
   "source": [
    "W tym zadaniu będziemy pracować na danych sprzedażowych. Plik CSV, który wczytacie, zawiera szczegóły zamówień, takie jak produkty, ich ilości oraz ceny. Waszym celem będzie wyselekcjonowanie zamówień o określonych cechach, zastosowanie zniżek oraz sortowanie wyników."
   ]
  },
  {
   "cell_type": "markdown",
   "id": "7fd81028-bfb7-4ff1-8c09-444a4b78110c",
   "metadata": {},
   "source": [
    "**1. Wczytanie danych sprzedażowych**\n",
    "\n",
    "Wczytaj plik CSV znajdujący się w ścieżce `data/sales_data.csv` zawierający informacje o zamówieniach."
   ]
  },
  {
   "cell_type": "code",
   "execution_count": null,
   "id": "80d95964-13b1-4ca3-b1f1-d7016c768de5",
   "metadata": {},
   "outputs": [],
   "source": []
  },
  {
   "cell_type": "markdown",
   "id": "72cb4ab8-2003-4e82-9d66-c94ba49b362a",
   "metadata": {},
   "source": [
    "**2. Filtrowanie zamówień o wysokiej ilości produktów**\n",
    "\n",
    "Wybierz zamówienia, w których ilość zamówionych produktów (quantity) przekracza 2."
   ]
  },
  {
   "cell_type": "code",
   "execution_count": null,
   "id": "7580c812-047c-4dbb-a314-b3713065afe9",
   "metadata": {},
   "outputs": [],
   "source": []
  },
  {
   "cell_type": "markdown",
   "id": "583c06bb-7ee2-4dd2-9f9b-d95a1121a0ad",
   "metadata": {},
   "source": [
    "**3. Obliczanie całkowitej wartości zamówienia**\n",
    "\n",
    "Dodaj nową kolumnę total, w której obliczysz całkowitą wartość zamówienia na podstawie ilości (quantity) i ceny jednostkowej (price)."
   ]
  },
  {
   "cell_type": "code",
   "execution_count": null,
   "id": "dbf059d5-79d2-4838-9a32-d06425b8e83e",
   "metadata": {},
   "outputs": [],
   "source": []
  },
  {
   "cell_type": "markdown",
   "id": "fb394937-50b8-4cfb-a1b0-66f156ae1127",
   "metadata": {},
   "source": [
    "**5. Zapisanie wyników**\n",
    "\n",
    "Na koniec zapisz nową ramkę do pliku csv w ścieżce `data/updated_data.csv`."
   ]
  },
  {
   "cell_type": "code",
   "execution_count": null,
   "id": "f44fd094-e64f-4488-8aec-dac0757cfa41",
   "metadata": {},
   "outputs": [],
   "source": []
  }
 ],
 "metadata": {
  "kernelspec": {
   "display_name": "Python 3 (ipykernel)",
   "language": "python",
   "name": "python3"
  },
  "language_info": {
   "codemirror_mode": {
    "name": "ipython",
    "version": 3
   },
   "file_extension": ".py",
   "mimetype": "text/x-python",
   "name": "python",
   "nbconvert_exporter": "python",
   "pygments_lexer": "ipython3",
   "version": "3.12.4"
  }
 },
 "nbformat": 4,
 "nbformat_minor": 5
}
