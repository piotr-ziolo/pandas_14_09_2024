{
 "cells": [
  {
   "cell_type": "markdown",
   "id": "afd69d58-cc83-487e-be54-0d6420623238",
   "metadata": {},
   "source": [
    "### Zadanie IX: Analiza Sprzedaży Książek\n",
    "\n",
    "W ramach tego zadania stwórz kilka wykresy na podstawie fikcyjnych danych dotyczących sprzedaży książek o różnych kategoriach.\n",
    "\n",
    "Wyobraź sobie, że pracujesz w wydawnictwie, które chce lepiej zrozumieć, które kategorie książek sprzedają się najlepiej. Twoim zadaniem będzie stworzenie wykresów, które pomogą w analizie sprzedaży książek w różnych kategoriach."
   ]
  },
  {
   "cell_type": "markdown",
   "id": "664fddb6-811e-4b4a-94df-bf705a27cf11",
   "metadata": {},
   "source": [
    "**1. Wczytaj dane** \n",
    "\n",
    "Wczytaj dane z pliku `data/book_sales.csv` do ramki."
   ]
  },
  {
   "cell_type": "code",
   "execution_count": null,
   "id": "937d66b8-8347-4792-b9d2-7bff03020e6f",
   "metadata": {},
   "outputs": [],
   "source": [
    "import pandas as pd\n",
    "\n",
    "# Wczytanie danych z pliku CSV\n",
    "..."
   ]
  },
  {
   "cell_type": "markdown",
   "id": "d907758f-a302-416c-ad51-a7e04c5b5ead",
   "metadata": {},
   "source": [
    "**2. Wykres Słupkowy** \n",
    "    \n",
    "Stwórz wykres słupkowy, który pokazuje sprzedaż książek w każdej kategorii."
   ]
  },
  {
   "cell_type": "code",
   "execution_count": null,
   "id": "ed35a7d9-a346-48c8-b3e5-14d46c48ffb5",
   "metadata": {},
   "outputs": [],
   "source": [
    "import matplotlib.pyplot as plt\n",
    "\n",
    "# 2. Wykres Słupkowy\n",
    "..."
   ]
  },
  {
   "cell_type": "markdown",
   "id": "73906dd0-7a1d-4803-b6a7-ee853519631a",
   "metadata": {},
   "source": [
    "**3. Wykres Kołowy** \n",
    "    \n",
    "Stwórz wykres kołowy, który ilustruje procentowy udział sprzedaży poszczególnych kategorii."
   ]
  },
  {
   "cell_type": "code",
   "execution_count": null,
   "id": "117c8c02-fc2f-4274-9755-190321de7341",
   "metadata": {},
   "outputs": [],
   "source": [
    "# 3. Wykres Kołowy\n",
    "..."
   ]
  },
  {
   "cell_type": "markdown",
   "id": "1b1a08d6-5231-4329-a36d-97bee5c43264",
   "metadata": {},
   "source": [
    "**4. Zidentyfikuj Najlepszą Kategorię** \n",
    "    \n",
    "Ustal, która kategoria książek miała najwyższą sprzedaż i wyświetl tę informację na wykresie słupkowym."
   ]
  },
  {
   "cell_type": "code",
   "execution_count": null,
   "id": "c77aedf0-f478-45a2-acf2-7733ccc87c7b",
   "metadata": {},
   "outputs": [],
   "source": [
    "# 4. Zidentyfikuj Najlepszą Kategorię\n",
    "..."
   ]
  }
 ],
 "metadata": {
  "kernelspec": {
   "display_name": "Python 3 (ipykernel)",
   "language": "python",
   "name": "python3"
  },
  "language_info": {
   "codemirror_mode": {
    "name": "ipython",
    "version": 3
   },
   "file_extension": ".py",
   "mimetype": "text/x-python",
   "name": "python",
   "nbconvert_exporter": "python",
   "pygments_lexer": "ipython3",
   "version": "3.12.4"
  }
 },
 "nbformat": 4,
 "nbformat_minor": 5
}
