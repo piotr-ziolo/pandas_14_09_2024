{
 "cells": [
  {
   "cell_type": "markdown",
   "id": "958ccb41-6ea1-44d1-bf14-dfa122861123",
   "metadata": {},
   "source": [
    "#### Zadanie V: Filtrowanie danych"
   ]
  },
  {
   "cell_type": "markdown",
   "id": "50039def-1403-4f87-a301-6bb8f314edbb",
   "metadata": {},
   "source": [
    "W tym zadaniu będziesz miał okazję przećwiczyć różne metody filtrowania danych w Pandas, aby wyodrębnić interesujące informacje z zestawu danych o pracownikach firmy. Każde z podzadań dotyczy innej techniki filtrowania, co pozwoli Ci zyskać szersze umiejętności w pracy z Pandas."
   ]
  },
  {
   "cell_type": "markdown",
   "id": "4d32ca2f-fa7c-4504-a44b-db067340cf43",
   "metadata": {},
   "source": [
    "**0. Wczytanie danych**\n",
    "\n",
    "Wczytaj dane z pliku 'data/employees.csv' i zapoznaj się z nimi wstępnie."
   ]
  },
  {
   "cell_type": "code",
   "execution_count": 2,
   "id": "60430423-d621-4e6a-846b-f84e7d2beff8",
   "metadata": {},
   "outputs": [
    {
     "data": {
      "text/html": [
       "<div>\n",
       "<style scoped>\n",
       "    .dataframe tbody tr th:only-of-type {\n",
       "        vertical-align: middle;\n",
       "    }\n",
       "\n",
       "    .dataframe tbody tr th {\n",
       "        vertical-align: top;\n",
       "    }\n",
       "\n",
       "    .dataframe thead th {\n",
       "        text-align: right;\n",
       "    }\n",
       "</style>\n",
       "<table border=\"1\" class=\"dataframe\">\n",
       "  <thead>\n",
       "    <tr style=\"text-align: right;\">\n",
       "      <th></th>\n",
       "      <th>employee_id</th>\n",
       "      <th>first_name</th>\n",
       "      <th>last_name</th>\n",
       "      <th>department</th>\n",
       "      <th>salary</th>\n",
       "      <th>age</th>\n",
       "      <th>joining_date</th>\n",
       "    </tr>\n",
       "  </thead>\n",
       "  <tbody>\n",
       "    <tr>\n",
       "      <th>0</th>\n",
       "      <td>1</td>\n",
       "      <td>John</td>\n",
       "      <td>Doe</td>\n",
       "      <td>Engineering</td>\n",
       "      <td>70000</td>\n",
       "      <td>28</td>\n",
       "      <td>2020-01-15</td>\n",
       "    </tr>\n",
       "    <tr>\n",
       "      <th>1</th>\n",
       "      <td>2</td>\n",
       "      <td>Jane</td>\n",
       "      <td>Smith</td>\n",
       "      <td>Marketing</td>\n",
       "      <td>60000</td>\n",
       "      <td>34</td>\n",
       "      <td>2019-03-22</td>\n",
       "    </tr>\n",
       "    <tr>\n",
       "      <th>2</th>\n",
       "      <td>3</td>\n",
       "      <td>Bob</td>\n",
       "      <td>Brown</td>\n",
       "      <td>Engineering</td>\n",
       "      <td>80000</td>\n",
       "      <td>45</td>\n",
       "      <td>2018-06-10</td>\n",
       "    </tr>\n",
       "    <tr>\n",
       "      <th>3</th>\n",
       "      <td>4</td>\n",
       "      <td>Alice</td>\n",
       "      <td>Johnson</td>\n",
       "      <td>HR</td>\n",
       "      <td>50000</td>\n",
       "      <td>29</td>\n",
       "      <td>2021-09-05</td>\n",
       "    </tr>\n",
       "    <tr>\n",
       "      <th>4</th>\n",
       "      <td>5</td>\n",
       "      <td>Chris</td>\n",
       "      <td>Davis</td>\n",
       "      <td>Engineering</td>\n",
       "      <td>75000</td>\n",
       "      <td>40</td>\n",
       "      <td>2017-11-30</td>\n",
       "    </tr>\n",
       "    <tr>\n",
       "      <th>5</th>\n",
       "      <td>6</td>\n",
       "      <td>Emily</td>\n",
       "      <td>Wilson</td>\n",
       "      <td>Marketing</td>\n",
       "      <td>65000</td>\n",
       "      <td>36</td>\n",
       "      <td>2019-02-12</td>\n",
       "    </tr>\n",
       "    <tr>\n",
       "      <th>6</th>\n",
       "      <td>7</td>\n",
       "      <td>Michael</td>\n",
       "      <td>Garcia</td>\n",
       "      <td>HR</td>\n",
       "      <td>55000</td>\n",
       "      <td>30</td>\n",
       "      <td>2021-04-18</td>\n",
       "    </tr>\n",
       "    <tr>\n",
       "      <th>7</th>\n",
       "      <td>8</td>\n",
       "      <td>Sarah</td>\n",
       "      <td>Martinez</td>\n",
       "      <td>Engineering</td>\n",
       "      <td>72000</td>\n",
       "      <td>31</td>\n",
       "      <td>2020-05-23</td>\n",
       "    </tr>\n",
       "    <tr>\n",
       "      <th>8</th>\n",
       "      <td>9</td>\n",
       "      <td>David</td>\n",
       "      <td>Anderson</td>\n",
       "      <td>Marketing</td>\n",
       "      <td>58000</td>\n",
       "      <td>50</td>\n",
       "      <td>2016-08-09</td>\n",
       "    </tr>\n",
       "    <tr>\n",
       "      <th>9</th>\n",
       "      <td>10</td>\n",
       "      <td>Linda</td>\n",
       "      <td>Thomas</td>\n",
       "      <td>HR</td>\n",
       "      <td>52000</td>\n",
       "      <td>25</td>\n",
       "      <td>2022-11-14</td>\n",
       "    </tr>\n",
       "  </tbody>\n",
       "</table>\n",
       "</div>"
      ],
      "text/plain": [
       "   employee_id first_name last_name   department  salary  age joining_date\n",
       "0            1       John       Doe  Engineering   70000   28   2020-01-15\n",
       "1            2       Jane     Smith    Marketing   60000   34   2019-03-22\n",
       "2            3        Bob     Brown  Engineering   80000   45   2018-06-10\n",
       "3            4      Alice   Johnson           HR   50000   29   2021-09-05\n",
       "4            5      Chris     Davis  Engineering   75000   40   2017-11-30\n",
       "5            6      Emily    Wilson    Marketing   65000   36   2019-02-12\n",
       "6            7    Michael    Garcia           HR   55000   30   2021-04-18\n",
       "7            8      Sarah  Martinez  Engineering   72000   31   2020-05-23\n",
       "8            9      David  Anderson    Marketing   58000   50   2016-08-09\n",
       "9           10      Linda    Thomas           HR   52000   25   2022-11-14"
      ]
     },
     "execution_count": 2,
     "metadata": {},
     "output_type": "execute_result"
    }
   ],
   "source": [
    "import pandas as pd\n",
    "\n",
    "# Wczytanie danych z pliku CSV\n",
    "df = pd.read_csv('data/employees.csv')\n",
    "df"
   ]
  },
  {
   "cell_type": "markdown",
   "id": "2e09bdf3-7373-4e2a-8389-d2376cd435cd",
   "metadata": {},
   "source": [
    "**1. Wyświetlenie wszystkich pracowników z działu \"Engineering\"**\n",
    "\n",
    "Użyj metody `isin`, aby wybrać wszystkich pracowników z działu \"Engineering\"."
   ]
  },
  {
   "cell_type": "code",
   "execution_count": 6,
   "id": "08dd98d7-33dc-4132-a7c4-2d980e53625b",
   "metadata": {},
   "outputs": [
    {
     "data": {
      "text/plain": [
       "0     True\n",
       "1    False\n",
       "2     True\n",
       "3    False\n",
       "4     True\n",
       "5    False\n",
       "6    False\n",
       "7     True\n",
       "8    False\n",
       "9    False\n",
       "Name: department, dtype: bool"
      ]
     },
     "execution_count": 6,
     "metadata": {},
     "output_type": "execute_result"
    }
   ],
   "source": [
    "# Filtrowanie pracowników z działu Engineering\n",
    "df['department'].isin(['Engineering'])"
   ]
  },
  {
   "cell_type": "code",
   "execution_count": 7,
   "id": "abffe821",
   "metadata": {},
   "outputs": [
    {
     "data": {
      "text/html": [
       "<div>\n",
       "<style scoped>\n",
       "    .dataframe tbody tr th:only-of-type {\n",
       "        vertical-align: middle;\n",
       "    }\n",
       "\n",
       "    .dataframe tbody tr th {\n",
       "        vertical-align: top;\n",
       "    }\n",
       "\n",
       "    .dataframe thead th {\n",
       "        text-align: right;\n",
       "    }\n",
       "</style>\n",
       "<table border=\"1\" class=\"dataframe\">\n",
       "  <thead>\n",
       "    <tr style=\"text-align: right;\">\n",
       "      <th></th>\n",
       "      <th>employee_id</th>\n",
       "      <th>first_name</th>\n",
       "      <th>last_name</th>\n",
       "      <th>department</th>\n",
       "      <th>salary</th>\n",
       "      <th>age</th>\n",
       "      <th>joining_date</th>\n",
       "    </tr>\n",
       "  </thead>\n",
       "  <tbody>\n",
       "    <tr>\n",
       "      <th>0</th>\n",
       "      <td>1</td>\n",
       "      <td>John</td>\n",
       "      <td>Doe</td>\n",
       "      <td>Engineering</td>\n",
       "      <td>70000</td>\n",
       "      <td>28</td>\n",
       "      <td>2020-01-15</td>\n",
       "    </tr>\n",
       "    <tr>\n",
       "      <th>2</th>\n",
       "      <td>3</td>\n",
       "      <td>Bob</td>\n",
       "      <td>Brown</td>\n",
       "      <td>Engineering</td>\n",
       "      <td>80000</td>\n",
       "      <td>45</td>\n",
       "      <td>2018-06-10</td>\n",
       "    </tr>\n",
       "    <tr>\n",
       "      <th>4</th>\n",
       "      <td>5</td>\n",
       "      <td>Chris</td>\n",
       "      <td>Davis</td>\n",
       "      <td>Engineering</td>\n",
       "      <td>75000</td>\n",
       "      <td>40</td>\n",
       "      <td>2017-11-30</td>\n",
       "    </tr>\n",
       "    <tr>\n",
       "      <th>7</th>\n",
       "      <td>8</td>\n",
       "      <td>Sarah</td>\n",
       "      <td>Martinez</td>\n",
       "      <td>Engineering</td>\n",
       "      <td>72000</td>\n",
       "      <td>31</td>\n",
       "      <td>2020-05-23</td>\n",
       "    </tr>\n",
       "  </tbody>\n",
       "</table>\n",
       "</div>"
      ],
      "text/plain": [
       "   employee_id first_name last_name   department  salary  age joining_date\n",
       "0            1       John       Doe  Engineering   70000   28   2020-01-15\n",
       "2            3        Bob     Brown  Engineering   80000   45   2018-06-10\n",
       "4            5      Chris     Davis  Engineering   75000   40   2017-11-30\n",
       "7            8      Sarah  Martinez  Engineering   72000   31   2020-05-23"
      ]
     },
     "execution_count": 7,
     "metadata": {},
     "output_type": "execute_result"
    }
   ],
   "source": [
    "df[df['department'].isin(['Engineering'])]"
   ]
  },
  {
   "cell_type": "markdown",
   "id": "94e3eef6-cb4c-4fbc-be7d-29b4d7e1624d",
   "metadata": {},
   "source": [
    "**2. Pracownicy, których nazwiska zaczynają się na literę \"S\"**\n",
    "\n",
    "Użyj str accessor, aby wyświetlić wszystkich pracowników, których nazwiska zaczynają się na \"S\"."
   ]
  },
  {
   "cell_type": "code",
   "execution_count": 9,
   "id": "d862f41a-34ce-4a1a-8db2-ef2ac0772ac4",
   "metadata": {},
   "outputs": [
    {
     "data": {
      "text/plain": [
       "0    False\n",
       "1     True\n",
       "2    False\n",
       "3    False\n",
       "4    False\n",
       "5    False\n",
       "6    False\n",
       "7    False\n",
       "8    False\n",
       "9    False\n",
       "Name: last_name, dtype: bool"
      ]
     },
     "execution_count": 9,
     "metadata": {},
     "output_type": "execute_result"
    }
   ],
   "source": [
    "# Filtrowanie pracowników, których nazwiska zaczynają się na \"S\"\n",
    "df['last_name'].str.startswith('S')"
   ]
  },
  {
   "cell_type": "code",
   "execution_count": 10,
   "id": "ff4ce2d1",
   "metadata": {},
   "outputs": [
    {
     "data": {
      "text/html": [
       "<div>\n",
       "<style scoped>\n",
       "    .dataframe tbody tr th:only-of-type {\n",
       "        vertical-align: middle;\n",
       "    }\n",
       "\n",
       "    .dataframe tbody tr th {\n",
       "        vertical-align: top;\n",
       "    }\n",
       "\n",
       "    .dataframe thead th {\n",
       "        text-align: right;\n",
       "    }\n",
       "</style>\n",
       "<table border=\"1\" class=\"dataframe\">\n",
       "  <thead>\n",
       "    <tr style=\"text-align: right;\">\n",
       "      <th></th>\n",
       "      <th>employee_id</th>\n",
       "      <th>first_name</th>\n",
       "      <th>last_name</th>\n",
       "      <th>department</th>\n",
       "      <th>salary</th>\n",
       "      <th>age</th>\n",
       "      <th>joining_date</th>\n",
       "    </tr>\n",
       "  </thead>\n",
       "  <tbody>\n",
       "    <tr>\n",
       "      <th>1</th>\n",
       "      <td>2</td>\n",
       "      <td>Jane</td>\n",
       "      <td>Smith</td>\n",
       "      <td>Marketing</td>\n",
       "      <td>60000</td>\n",
       "      <td>34</td>\n",
       "      <td>2019-03-22</td>\n",
       "    </tr>\n",
       "  </tbody>\n",
       "</table>\n",
       "</div>"
      ],
      "text/plain": [
       "   employee_id first_name last_name department  salary  age joining_date\n",
       "1            2       Jane     Smith  Marketing   60000   34   2019-03-22"
      ]
     },
     "execution_count": 10,
     "metadata": {},
     "output_type": "execute_result"
    }
   ],
   "source": [
    "df[df['last_name'].str.startswith('S')]"
   ]
  },
  {
   "cell_type": "markdown",
   "id": "a7bcd1b4-ddb1-4d3c-9843-177ca20a0a1a",
   "metadata": {},
   "source": [
    "**3. Wybór pracowników z wynagrodzeniem większym niż 60,000**\n",
    "\n",
    "Użyj warunku w kwadratowych nawiasach, aby wybrać pracowników, których wynagrodzenie jest wyższe niż 60,000."
   ]
  },
  {
   "cell_type": "code",
   "execution_count": 11,
   "id": "0a36b2ac-2870-43ce-a767-9edb6f9aa844",
   "metadata": {},
   "outputs": [
    {
     "data": {
      "text/plain": [
       "0     True\n",
       "1    False\n",
       "2     True\n",
       "3    False\n",
       "4     True\n",
       "5     True\n",
       "6    False\n",
       "7     True\n",
       "8    False\n",
       "9    False\n",
       "Name: salary, dtype: bool"
      ]
     },
     "execution_count": 11,
     "metadata": {},
     "output_type": "execute_result"
    }
   ],
   "source": [
    "# Filtrowanie pracowników z wynagrodzeniem większym niż 60,000\n",
    "df['salary'] > 60000"
   ]
  },
  {
   "cell_type": "code",
   "execution_count": 12,
   "id": "fe48d30c",
   "metadata": {},
   "outputs": [
    {
     "data": {
      "text/html": [
       "<div>\n",
       "<style scoped>\n",
       "    .dataframe tbody tr th:only-of-type {\n",
       "        vertical-align: middle;\n",
       "    }\n",
       "\n",
       "    .dataframe tbody tr th {\n",
       "        vertical-align: top;\n",
       "    }\n",
       "\n",
       "    .dataframe thead th {\n",
       "        text-align: right;\n",
       "    }\n",
       "</style>\n",
       "<table border=\"1\" class=\"dataframe\">\n",
       "  <thead>\n",
       "    <tr style=\"text-align: right;\">\n",
       "      <th></th>\n",
       "      <th>employee_id</th>\n",
       "      <th>first_name</th>\n",
       "      <th>last_name</th>\n",
       "      <th>department</th>\n",
       "      <th>salary</th>\n",
       "      <th>age</th>\n",
       "      <th>joining_date</th>\n",
       "    </tr>\n",
       "  </thead>\n",
       "  <tbody>\n",
       "    <tr>\n",
       "      <th>0</th>\n",
       "      <td>1</td>\n",
       "      <td>John</td>\n",
       "      <td>Doe</td>\n",
       "      <td>Engineering</td>\n",
       "      <td>70000</td>\n",
       "      <td>28</td>\n",
       "      <td>2020-01-15</td>\n",
       "    </tr>\n",
       "    <tr>\n",
       "      <th>2</th>\n",
       "      <td>3</td>\n",
       "      <td>Bob</td>\n",
       "      <td>Brown</td>\n",
       "      <td>Engineering</td>\n",
       "      <td>80000</td>\n",
       "      <td>45</td>\n",
       "      <td>2018-06-10</td>\n",
       "    </tr>\n",
       "    <tr>\n",
       "      <th>4</th>\n",
       "      <td>5</td>\n",
       "      <td>Chris</td>\n",
       "      <td>Davis</td>\n",
       "      <td>Engineering</td>\n",
       "      <td>75000</td>\n",
       "      <td>40</td>\n",
       "      <td>2017-11-30</td>\n",
       "    </tr>\n",
       "    <tr>\n",
       "      <th>5</th>\n",
       "      <td>6</td>\n",
       "      <td>Emily</td>\n",
       "      <td>Wilson</td>\n",
       "      <td>Marketing</td>\n",
       "      <td>65000</td>\n",
       "      <td>36</td>\n",
       "      <td>2019-02-12</td>\n",
       "    </tr>\n",
       "    <tr>\n",
       "      <th>7</th>\n",
       "      <td>8</td>\n",
       "      <td>Sarah</td>\n",
       "      <td>Martinez</td>\n",
       "      <td>Engineering</td>\n",
       "      <td>72000</td>\n",
       "      <td>31</td>\n",
       "      <td>2020-05-23</td>\n",
       "    </tr>\n",
       "  </tbody>\n",
       "</table>\n",
       "</div>"
      ],
      "text/plain": [
       "   employee_id first_name last_name   department  salary  age joining_date\n",
       "0            1       John       Doe  Engineering   70000   28   2020-01-15\n",
       "2            3        Bob     Brown  Engineering   80000   45   2018-06-10\n",
       "4            5      Chris     Davis  Engineering   75000   40   2017-11-30\n",
       "5            6      Emily    Wilson    Marketing   65000   36   2019-02-12\n",
       "7            8      Sarah  Martinez  Engineering   72000   31   2020-05-23"
      ]
     },
     "execution_count": 12,
     "metadata": {},
     "output_type": "execute_result"
    }
   ],
   "source": [
    "df[df['salary'] > 60000]"
   ]
  },
  {
   "cell_type": "markdown",
   "id": "ba54ad0e-b7d9-439e-9e2c-7f305713664e",
   "metadata": {},
   "source": [
    "**4. Pracownicy, którzy dołączyli do firmy przed 2020 rokiem**\n",
    "\n",
    "Użyj metody `query`, aby wyświetlić pracowników, którzy dołączyli do firmy przed 2020 rokiem."
   ]
  },
  {
   "cell_type": "code",
   "execution_count": 15,
   "id": "66699e45-4233-4570-96ed-bffafd7b84e7",
   "metadata": {},
   "outputs": [
    {
     "data": {
      "text/html": [
       "<div>\n",
       "<style scoped>\n",
       "    .dataframe tbody tr th:only-of-type {\n",
       "        vertical-align: middle;\n",
       "    }\n",
       "\n",
       "    .dataframe tbody tr th {\n",
       "        vertical-align: top;\n",
       "    }\n",
       "\n",
       "    .dataframe thead th {\n",
       "        text-align: right;\n",
       "    }\n",
       "</style>\n",
       "<table border=\"1\" class=\"dataframe\">\n",
       "  <thead>\n",
       "    <tr style=\"text-align: right;\">\n",
       "      <th></th>\n",
       "      <th>employee_id</th>\n",
       "      <th>first_name</th>\n",
       "      <th>last_name</th>\n",
       "      <th>department</th>\n",
       "      <th>salary</th>\n",
       "      <th>age</th>\n",
       "      <th>joining_date</th>\n",
       "    </tr>\n",
       "  </thead>\n",
       "  <tbody>\n",
       "    <tr>\n",
       "      <th>1</th>\n",
       "      <td>2</td>\n",
       "      <td>Jane</td>\n",
       "      <td>Smith</td>\n",
       "      <td>Marketing</td>\n",
       "      <td>60000</td>\n",
       "      <td>34</td>\n",
       "      <td>2019-03-22</td>\n",
       "    </tr>\n",
       "    <tr>\n",
       "      <th>2</th>\n",
       "      <td>3</td>\n",
       "      <td>Bob</td>\n",
       "      <td>Brown</td>\n",
       "      <td>Engineering</td>\n",
       "      <td>80000</td>\n",
       "      <td>45</td>\n",
       "      <td>2018-06-10</td>\n",
       "    </tr>\n",
       "    <tr>\n",
       "      <th>4</th>\n",
       "      <td>5</td>\n",
       "      <td>Chris</td>\n",
       "      <td>Davis</td>\n",
       "      <td>Engineering</td>\n",
       "      <td>75000</td>\n",
       "      <td>40</td>\n",
       "      <td>2017-11-30</td>\n",
       "    </tr>\n",
       "    <tr>\n",
       "      <th>5</th>\n",
       "      <td>6</td>\n",
       "      <td>Emily</td>\n",
       "      <td>Wilson</td>\n",
       "      <td>Marketing</td>\n",
       "      <td>65000</td>\n",
       "      <td>36</td>\n",
       "      <td>2019-02-12</td>\n",
       "    </tr>\n",
       "    <tr>\n",
       "      <th>8</th>\n",
       "      <td>9</td>\n",
       "      <td>David</td>\n",
       "      <td>Anderson</td>\n",
       "      <td>Marketing</td>\n",
       "      <td>58000</td>\n",
       "      <td>50</td>\n",
       "      <td>2016-08-09</td>\n",
       "    </tr>\n",
       "  </tbody>\n",
       "</table>\n",
       "</div>"
      ],
      "text/plain": [
       "   employee_id first_name last_name   department  salary  age joining_date\n",
       "1            2       Jane     Smith    Marketing   60000   34   2019-03-22\n",
       "2            3        Bob     Brown  Engineering   80000   45   2018-06-10\n",
       "4            5      Chris     Davis  Engineering   75000   40   2017-11-30\n",
       "5            6      Emily    Wilson    Marketing   65000   36   2019-02-12\n",
       "8            9      David  Anderson    Marketing   58000   50   2016-08-09"
      ]
     },
     "execution_count": 15,
     "metadata": {},
     "output_type": "execute_result"
    }
   ],
   "source": [
    "# Filtrowanie pracowników, którzy dołączyli przed 2020 rokiem\n",
    "df.query('joining_date < \"2020-01-01\"')"
   ]
  },
  {
   "cell_type": "markdown",
   "id": "141d2de9-f79d-4601-8d2e-5ade2f321bb9",
   "metadata": {},
   "source": [
    "**5. Najwyżej opłacani pracownicy**\n",
    "\n",
    "Użyj metody `nlargest`, aby wybrać trzech najwyżej opłacanych pracowników."
   ]
  },
  {
   "cell_type": "code",
   "execution_count": 16,
   "id": "a1a4eb70-bd80-43cc-bbfa-c9d8c07a1bb1",
   "metadata": {},
   "outputs": [
    {
     "data": {
      "text/html": [
       "<div>\n",
       "<style scoped>\n",
       "    .dataframe tbody tr th:only-of-type {\n",
       "        vertical-align: middle;\n",
       "    }\n",
       "\n",
       "    .dataframe tbody tr th {\n",
       "        vertical-align: top;\n",
       "    }\n",
       "\n",
       "    .dataframe thead th {\n",
       "        text-align: right;\n",
       "    }\n",
       "</style>\n",
       "<table border=\"1\" class=\"dataframe\">\n",
       "  <thead>\n",
       "    <tr style=\"text-align: right;\">\n",
       "      <th></th>\n",
       "      <th>employee_id</th>\n",
       "      <th>first_name</th>\n",
       "      <th>last_name</th>\n",
       "      <th>department</th>\n",
       "      <th>salary</th>\n",
       "      <th>age</th>\n",
       "      <th>joining_date</th>\n",
       "    </tr>\n",
       "  </thead>\n",
       "  <tbody>\n",
       "    <tr>\n",
       "      <th>2</th>\n",
       "      <td>3</td>\n",
       "      <td>Bob</td>\n",
       "      <td>Brown</td>\n",
       "      <td>Engineering</td>\n",
       "      <td>80000</td>\n",
       "      <td>45</td>\n",
       "      <td>2018-06-10</td>\n",
       "    </tr>\n",
       "    <tr>\n",
       "      <th>4</th>\n",
       "      <td>5</td>\n",
       "      <td>Chris</td>\n",
       "      <td>Davis</td>\n",
       "      <td>Engineering</td>\n",
       "      <td>75000</td>\n",
       "      <td>40</td>\n",
       "      <td>2017-11-30</td>\n",
       "    </tr>\n",
       "    <tr>\n",
       "      <th>7</th>\n",
       "      <td>8</td>\n",
       "      <td>Sarah</td>\n",
       "      <td>Martinez</td>\n",
       "      <td>Engineering</td>\n",
       "      <td>72000</td>\n",
       "      <td>31</td>\n",
       "      <td>2020-05-23</td>\n",
       "    </tr>\n",
       "  </tbody>\n",
       "</table>\n",
       "</div>"
      ],
      "text/plain": [
       "   employee_id first_name last_name   department  salary  age joining_date\n",
       "2            3        Bob     Brown  Engineering   80000   45   2018-06-10\n",
       "4            5      Chris     Davis  Engineering   75000   40   2017-11-30\n",
       "7            8      Sarah  Martinez  Engineering   72000   31   2020-05-23"
      ]
     },
     "execution_count": 16,
     "metadata": {},
     "output_type": "execute_result"
    }
   ],
   "source": [
    "# Najwyżej opłacani pracownicy\n",
    "df.nlargest(3, 'salary')"
   ]
  },
  {
   "cell_type": "markdown",
   "id": "6c608948-0701-4a0f-878d-464af632f844",
   "metadata": {},
   "source": [
    "**6. Najniżej opłacani pracownicy**\n",
    "\n",
    "Użyj metody `nsmallest`, aby wybrać dwóch najniżej opłacanych pracowników."
   ]
  },
  {
   "cell_type": "code",
   "execution_count": 17,
   "id": "3cfd71c3-4b09-4cad-8831-91b24d8fc883",
   "metadata": {},
   "outputs": [
    {
     "data": {
      "text/html": [
       "<div>\n",
       "<style scoped>\n",
       "    .dataframe tbody tr th:only-of-type {\n",
       "        vertical-align: middle;\n",
       "    }\n",
       "\n",
       "    .dataframe tbody tr th {\n",
       "        vertical-align: top;\n",
       "    }\n",
       "\n",
       "    .dataframe thead th {\n",
       "        text-align: right;\n",
       "    }\n",
       "</style>\n",
       "<table border=\"1\" class=\"dataframe\">\n",
       "  <thead>\n",
       "    <tr style=\"text-align: right;\">\n",
       "      <th></th>\n",
       "      <th>employee_id</th>\n",
       "      <th>first_name</th>\n",
       "      <th>last_name</th>\n",
       "      <th>department</th>\n",
       "      <th>salary</th>\n",
       "      <th>age</th>\n",
       "      <th>joining_date</th>\n",
       "    </tr>\n",
       "  </thead>\n",
       "  <tbody>\n",
       "    <tr>\n",
       "      <th>2</th>\n",
       "      <td>3</td>\n",
       "      <td>Bob</td>\n",
       "      <td>Brown</td>\n",
       "      <td>Engineering</td>\n",
       "      <td>80000</td>\n",
       "      <td>45</td>\n",
       "      <td>2018-06-10</td>\n",
       "    </tr>\n",
       "    <tr>\n",
       "      <th>4</th>\n",
       "      <td>5</td>\n",
       "      <td>Chris</td>\n",
       "      <td>Davis</td>\n",
       "      <td>Engineering</td>\n",
       "      <td>75000</td>\n",
       "      <td>40</td>\n",
       "      <td>2017-11-30</td>\n",
       "    </tr>\n",
       "  </tbody>\n",
       "</table>\n",
       "</div>"
      ],
      "text/plain": [
       "   employee_id first_name last_name   department  salary  age joining_date\n",
       "2            3        Bob     Brown  Engineering   80000   45   2018-06-10\n",
       "4            5      Chris     Davis  Engineering   75000   40   2017-11-30"
      ]
     },
     "execution_count": 17,
     "metadata": {},
     "output_type": "execute_result"
    }
   ],
   "source": [
    "# Najniżej opłacani pracownicy\n",
    "df.nlargest(2, 'salary')"
   ]
  },
  {
   "cell_type": "markdown",
   "id": "2f82f9c5-b203-4a7f-addf-e58e0833f18e",
   "metadata": {},
   "source": [
    "**7. Wyświetlenie wszystkie dane dla pracowników w wieku między 30 a 40 lat**\n",
    "\n",
    "Użyj loc, aby wybrać pracowników, którzy mają od 30 do 40 lat."
   ]
  },
  {
   "cell_type": "code",
   "execution_count": 19,
   "id": "c2d59895-8307-44fe-a362-36a9e6b233db",
   "metadata": {},
   "outputs": [
    {
     "data": {
      "text/plain": [
       "0    False\n",
       "1     True\n",
       "2    False\n",
       "3    False\n",
       "4     True\n",
       "5     True\n",
       "6     True\n",
       "7     True\n",
       "8    False\n",
       "9    False\n",
       "Name: age, dtype: bool"
      ]
     },
     "execution_count": 19,
     "metadata": {},
     "output_type": "execute_result"
    }
   ],
   "source": [
    "# Filtrowanie pracowników w wieku 30-40 lat\n",
    "(df['age'] >= 30) & (df['age'] <= 40)"
   ]
  },
  {
   "cell_type": "code",
   "execution_count": 20,
   "id": "839389f8",
   "metadata": {},
   "outputs": [
    {
     "data": {
      "text/html": [
       "<div>\n",
       "<style scoped>\n",
       "    .dataframe tbody tr th:only-of-type {\n",
       "        vertical-align: middle;\n",
       "    }\n",
       "\n",
       "    .dataframe tbody tr th {\n",
       "        vertical-align: top;\n",
       "    }\n",
       "\n",
       "    .dataframe thead th {\n",
       "        text-align: right;\n",
       "    }\n",
       "</style>\n",
       "<table border=\"1\" class=\"dataframe\">\n",
       "  <thead>\n",
       "    <tr style=\"text-align: right;\">\n",
       "      <th></th>\n",
       "      <th>employee_id</th>\n",
       "      <th>first_name</th>\n",
       "      <th>last_name</th>\n",
       "      <th>department</th>\n",
       "      <th>salary</th>\n",
       "      <th>age</th>\n",
       "      <th>joining_date</th>\n",
       "    </tr>\n",
       "  </thead>\n",
       "  <tbody>\n",
       "    <tr>\n",
       "      <th>1</th>\n",
       "      <td>2</td>\n",
       "      <td>Jane</td>\n",
       "      <td>Smith</td>\n",
       "      <td>Marketing</td>\n",
       "      <td>60000</td>\n",
       "      <td>34</td>\n",
       "      <td>2019-03-22</td>\n",
       "    </tr>\n",
       "    <tr>\n",
       "      <th>4</th>\n",
       "      <td>5</td>\n",
       "      <td>Chris</td>\n",
       "      <td>Davis</td>\n",
       "      <td>Engineering</td>\n",
       "      <td>75000</td>\n",
       "      <td>40</td>\n",
       "      <td>2017-11-30</td>\n",
       "    </tr>\n",
       "    <tr>\n",
       "      <th>5</th>\n",
       "      <td>6</td>\n",
       "      <td>Emily</td>\n",
       "      <td>Wilson</td>\n",
       "      <td>Marketing</td>\n",
       "      <td>65000</td>\n",
       "      <td>36</td>\n",
       "      <td>2019-02-12</td>\n",
       "    </tr>\n",
       "    <tr>\n",
       "      <th>6</th>\n",
       "      <td>7</td>\n",
       "      <td>Michael</td>\n",
       "      <td>Garcia</td>\n",
       "      <td>HR</td>\n",
       "      <td>55000</td>\n",
       "      <td>30</td>\n",
       "      <td>2021-04-18</td>\n",
       "    </tr>\n",
       "    <tr>\n",
       "      <th>7</th>\n",
       "      <td>8</td>\n",
       "      <td>Sarah</td>\n",
       "      <td>Martinez</td>\n",
       "      <td>Engineering</td>\n",
       "      <td>72000</td>\n",
       "      <td>31</td>\n",
       "      <td>2020-05-23</td>\n",
       "    </tr>\n",
       "  </tbody>\n",
       "</table>\n",
       "</div>"
      ],
      "text/plain": [
       "   employee_id first_name last_name   department  salary  age joining_date\n",
       "1            2       Jane     Smith    Marketing   60000   34   2019-03-22\n",
       "4            5      Chris     Davis  Engineering   75000   40   2017-11-30\n",
       "5            6      Emily    Wilson    Marketing   65000   36   2019-02-12\n",
       "6            7    Michael    Garcia           HR   55000   30   2021-04-18\n",
       "7            8      Sarah  Martinez  Engineering   72000   31   2020-05-23"
      ]
     },
     "execution_count": 20,
     "metadata": {},
     "output_type": "execute_result"
    }
   ],
   "source": [
    "df.loc[(df['age'] >= 30) & (df['age'] <= 40)]"
   ]
  },
  {
   "cell_type": "markdown",
   "id": "ee9075e8-59a3-4d85-92ab-6ae5e10c8a5e",
   "metadata": {},
   "source": [
    "**8. Wybór pracowników na podstawie ich ID**\n",
    "\n",
    "Użyj `iloc`, aby wybrać pracowników o indeksach 1, 3 i 5."
   ]
  },
  {
   "cell_type": "code",
   "execution_count": 21,
   "id": "c503e1c7-b68d-418e-afec-abcbc5b70637",
   "metadata": {},
   "outputs": [
    {
     "data": {
      "text/html": [
       "<div>\n",
       "<style scoped>\n",
       "    .dataframe tbody tr th:only-of-type {\n",
       "        vertical-align: middle;\n",
       "    }\n",
       "\n",
       "    .dataframe tbody tr th {\n",
       "        vertical-align: top;\n",
       "    }\n",
       "\n",
       "    .dataframe thead th {\n",
       "        text-align: right;\n",
       "    }\n",
       "</style>\n",
       "<table border=\"1\" class=\"dataframe\">\n",
       "  <thead>\n",
       "    <tr style=\"text-align: right;\">\n",
       "      <th></th>\n",
       "      <th>employee_id</th>\n",
       "      <th>first_name</th>\n",
       "      <th>last_name</th>\n",
       "      <th>department</th>\n",
       "      <th>salary</th>\n",
       "      <th>age</th>\n",
       "      <th>joining_date</th>\n",
       "    </tr>\n",
       "  </thead>\n",
       "  <tbody>\n",
       "    <tr>\n",
       "      <th>1</th>\n",
       "      <td>2</td>\n",
       "      <td>Jane</td>\n",
       "      <td>Smith</td>\n",
       "      <td>Marketing</td>\n",
       "      <td>60000</td>\n",
       "      <td>34</td>\n",
       "      <td>2019-03-22</td>\n",
       "    </tr>\n",
       "    <tr>\n",
       "      <th>3</th>\n",
       "      <td>4</td>\n",
       "      <td>Alice</td>\n",
       "      <td>Johnson</td>\n",
       "      <td>HR</td>\n",
       "      <td>50000</td>\n",
       "      <td>29</td>\n",
       "      <td>2021-09-05</td>\n",
       "    </tr>\n",
       "    <tr>\n",
       "      <th>5</th>\n",
       "      <td>6</td>\n",
       "      <td>Emily</td>\n",
       "      <td>Wilson</td>\n",
       "      <td>Marketing</td>\n",
       "      <td>65000</td>\n",
       "      <td>36</td>\n",
       "      <td>2019-02-12</td>\n",
       "    </tr>\n",
       "  </tbody>\n",
       "</table>\n",
       "</div>"
      ],
      "text/plain": [
       "   employee_id first_name last_name department  salary  age joining_date\n",
       "1            2       Jane     Smith  Marketing   60000   34   2019-03-22\n",
       "3            4      Alice   Johnson         HR   50000   29   2021-09-05\n",
       "5            6      Emily    Wilson  Marketing   65000   36   2019-02-12"
      ]
     },
     "execution_count": 21,
     "metadata": {},
     "output_type": "execute_result"
    }
   ],
   "source": [
    "# Wybór pracowników o indeksach 1, 3 i 5\n",
    "df.iloc[[1, 3, 5]]"
   ]
  },
  {
   "cell_type": "markdown",
   "id": "cf97e7d9-9f25-465b-b366-93dd08c8da24",
   "metadata": {},
   "source": [
    "**9. Wyświetlenie wszystkich pracowników z działu \"HR\" lub \"Marketing\"**\n",
    "\n",
    "Użyj metody `isin`, aby wyświetlić wszystkich pracowników, którzy są w działach \"HR\" lub \"Marketing\"."
   ]
  },
  {
   "cell_type": "code",
   "execution_count": 22,
   "id": "8bcda3b8-5731-4b03-a160-b364c857e5b3",
   "metadata": {},
   "outputs": [
    {
     "data": {
      "text/html": [
       "<div>\n",
       "<style scoped>\n",
       "    .dataframe tbody tr th:only-of-type {\n",
       "        vertical-align: middle;\n",
       "    }\n",
       "\n",
       "    .dataframe tbody tr th {\n",
       "        vertical-align: top;\n",
       "    }\n",
       "\n",
       "    .dataframe thead th {\n",
       "        text-align: right;\n",
       "    }\n",
       "</style>\n",
       "<table border=\"1\" class=\"dataframe\">\n",
       "  <thead>\n",
       "    <tr style=\"text-align: right;\">\n",
       "      <th></th>\n",
       "      <th>employee_id</th>\n",
       "      <th>first_name</th>\n",
       "      <th>last_name</th>\n",
       "      <th>department</th>\n",
       "      <th>salary</th>\n",
       "      <th>age</th>\n",
       "      <th>joining_date</th>\n",
       "    </tr>\n",
       "  </thead>\n",
       "  <tbody>\n",
       "    <tr>\n",
       "      <th>1</th>\n",
       "      <td>2</td>\n",
       "      <td>Jane</td>\n",
       "      <td>Smith</td>\n",
       "      <td>Marketing</td>\n",
       "      <td>60000</td>\n",
       "      <td>34</td>\n",
       "      <td>2019-03-22</td>\n",
       "    </tr>\n",
       "    <tr>\n",
       "      <th>3</th>\n",
       "      <td>4</td>\n",
       "      <td>Alice</td>\n",
       "      <td>Johnson</td>\n",
       "      <td>HR</td>\n",
       "      <td>50000</td>\n",
       "      <td>29</td>\n",
       "      <td>2021-09-05</td>\n",
       "    </tr>\n",
       "    <tr>\n",
       "      <th>5</th>\n",
       "      <td>6</td>\n",
       "      <td>Emily</td>\n",
       "      <td>Wilson</td>\n",
       "      <td>Marketing</td>\n",
       "      <td>65000</td>\n",
       "      <td>36</td>\n",
       "      <td>2019-02-12</td>\n",
       "    </tr>\n",
       "    <tr>\n",
       "      <th>6</th>\n",
       "      <td>7</td>\n",
       "      <td>Michael</td>\n",
       "      <td>Garcia</td>\n",
       "      <td>HR</td>\n",
       "      <td>55000</td>\n",
       "      <td>30</td>\n",
       "      <td>2021-04-18</td>\n",
       "    </tr>\n",
       "    <tr>\n",
       "      <th>8</th>\n",
       "      <td>9</td>\n",
       "      <td>David</td>\n",
       "      <td>Anderson</td>\n",
       "      <td>Marketing</td>\n",
       "      <td>58000</td>\n",
       "      <td>50</td>\n",
       "      <td>2016-08-09</td>\n",
       "    </tr>\n",
       "    <tr>\n",
       "      <th>9</th>\n",
       "      <td>10</td>\n",
       "      <td>Linda</td>\n",
       "      <td>Thomas</td>\n",
       "      <td>HR</td>\n",
       "      <td>52000</td>\n",
       "      <td>25</td>\n",
       "      <td>2022-11-14</td>\n",
       "    </tr>\n",
       "  </tbody>\n",
       "</table>\n",
       "</div>"
      ],
      "text/plain": [
       "   employee_id first_name last_name department  salary  age joining_date\n",
       "1            2       Jane     Smith  Marketing   60000   34   2019-03-22\n",
       "3            4      Alice   Johnson         HR   50000   29   2021-09-05\n",
       "5            6      Emily    Wilson  Marketing   65000   36   2019-02-12\n",
       "6            7    Michael    Garcia         HR   55000   30   2021-04-18\n",
       "8            9      David  Anderson  Marketing   58000   50   2016-08-09\n",
       "9           10      Linda    Thomas         HR   52000   25   2022-11-14"
      ]
     },
     "execution_count": 22,
     "metadata": {},
     "output_type": "execute_result"
    }
   ],
   "source": [
    "# Filtrowanie pracowników z działu HR lub Marketing\n",
    "df[df['department'].isin(['HR', 'Marketing'])]"
   ]
  },
  {
   "cell_type": "markdown",
   "id": "bfa9188b-e596-4404-9149-f04aabd71a90",
   "metadata": {},
   "source": [
    "**10. Wyświetlenie pracowników z wynagrodzeniem poniżej mediany**\n",
    "\n",
    "Użyj kwadratowych nawiasów i funkcji median, aby znaleźć pracowników zarabiających mniej niż mediana wynagrodzenia."
   ]
  },
  {
   "cell_type": "code",
   "execution_count": 24,
   "id": "892daaa4-a4a0-41af-ba36-89ce65f185f1",
   "metadata": {},
   "outputs": [
    {
     "data": {
      "text/plain": [
       "62500.0"
      ]
     },
     "execution_count": 24,
     "metadata": {},
     "output_type": "execute_result"
    }
   ],
   "source": [
    "# Filtrowanie pracowników zarabiających mniej niż mediana wynagrodzenia\n",
    "df['salary'].median()"
   ]
  },
  {
   "cell_type": "code",
   "execution_count": 25,
   "id": "843b7206",
   "metadata": {},
   "outputs": [
    {
     "data": {
      "text/plain": [
       "0    False\n",
       "1     True\n",
       "2    False\n",
       "3     True\n",
       "4    False\n",
       "5    False\n",
       "6     True\n",
       "7    False\n",
       "8     True\n",
       "9     True\n",
       "Name: salary, dtype: bool"
      ]
     },
     "execution_count": 25,
     "metadata": {},
     "output_type": "execute_result"
    }
   ],
   "source": [
    "df['salary'] < df['salary'].median()"
   ]
  },
  {
   "cell_type": "code",
   "execution_count": 26,
   "id": "c67ee295",
   "metadata": {},
   "outputs": [
    {
     "data": {
      "text/html": [
       "<div>\n",
       "<style scoped>\n",
       "    .dataframe tbody tr th:only-of-type {\n",
       "        vertical-align: middle;\n",
       "    }\n",
       "\n",
       "    .dataframe tbody tr th {\n",
       "        vertical-align: top;\n",
       "    }\n",
       "\n",
       "    .dataframe thead th {\n",
       "        text-align: right;\n",
       "    }\n",
       "</style>\n",
       "<table border=\"1\" class=\"dataframe\">\n",
       "  <thead>\n",
       "    <tr style=\"text-align: right;\">\n",
       "      <th></th>\n",
       "      <th>employee_id</th>\n",
       "      <th>first_name</th>\n",
       "      <th>last_name</th>\n",
       "      <th>department</th>\n",
       "      <th>salary</th>\n",
       "      <th>age</th>\n",
       "      <th>joining_date</th>\n",
       "    </tr>\n",
       "  </thead>\n",
       "  <tbody>\n",
       "    <tr>\n",
       "      <th>1</th>\n",
       "      <td>2</td>\n",
       "      <td>Jane</td>\n",
       "      <td>Smith</td>\n",
       "      <td>Marketing</td>\n",
       "      <td>60000</td>\n",
       "      <td>34</td>\n",
       "      <td>2019-03-22</td>\n",
       "    </tr>\n",
       "    <tr>\n",
       "      <th>3</th>\n",
       "      <td>4</td>\n",
       "      <td>Alice</td>\n",
       "      <td>Johnson</td>\n",
       "      <td>HR</td>\n",
       "      <td>50000</td>\n",
       "      <td>29</td>\n",
       "      <td>2021-09-05</td>\n",
       "    </tr>\n",
       "    <tr>\n",
       "      <th>6</th>\n",
       "      <td>7</td>\n",
       "      <td>Michael</td>\n",
       "      <td>Garcia</td>\n",
       "      <td>HR</td>\n",
       "      <td>55000</td>\n",
       "      <td>30</td>\n",
       "      <td>2021-04-18</td>\n",
       "    </tr>\n",
       "    <tr>\n",
       "      <th>8</th>\n",
       "      <td>9</td>\n",
       "      <td>David</td>\n",
       "      <td>Anderson</td>\n",
       "      <td>Marketing</td>\n",
       "      <td>58000</td>\n",
       "      <td>50</td>\n",
       "      <td>2016-08-09</td>\n",
       "    </tr>\n",
       "    <tr>\n",
       "      <th>9</th>\n",
       "      <td>10</td>\n",
       "      <td>Linda</td>\n",
       "      <td>Thomas</td>\n",
       "      <td>HR</td>\n",
       "      <td>52000</td>\n",
       "      <td>25</td>\n",
       "      <td>2022-11-14</td>\n",
       "    </tr>\n",
       "  </tbody>\n",
       "</table>\n",
       "</div>"
      ],
      "text/plain": [
       "   employee_id first_name last_name department  salary  age joining_date\n",
       "1            2       Jane     Smith  Marketing   60000   34   2019-03-22\n",
       "3            4      Alice   Johnson         HR   50000   29   2021-09-05\n",
       "6            7    Michael    Garcia         HR   55000   30   2021-04-18\n",
       "8            9      David  Anderson  Marketing   58000   50   2016-08-09\n",
       "9           10      Linda    Thomas         HR   52000   25   2022-11-14"
      ]
     },
     "execution_count": 26,
     "metadata": {},
     "output_type": "execute_result"
    }
   ],
   "source": [
    "df[df['salary'] < df['salary'].median()]"
   ]
  },
  {
   "cell_type": "markdown",
   "id": "711795c1-1a4a-4487-8d27-4736660545cc",
   "metadata": {},
   "source": [
    "**11. Pracownicy, którzy nie pracują w dziale \"Marketing\"**\n",
    "\n",
    "Użyj negacji (~) oraz isin, aby wybrać wszystkich pracowników, którzy nie są w dziale \"Marketing\"."
   ]
  },
  {
   "cell_type": "code",
   "execution_count": 27,
   "id": "d35c5a60-947c-456b-b07e-f6a1c4fcaf2e",
   "metadata": {},
   "outputs": [
    {
     "data": {
      "text/html": [
       "<div>\n",
       "<style scoped>\n",
       "    .dataframe tbody tr th:only-of-type {\n",
       "        vertical-align: middle;\n",
       "    }\n",
       "\n",
       "    .dataframe tbody tr th {\n",
       "        vertical-align: top;\n",
       "    }\n",
       "\n",
       "    .dataframe thead th {\n",
       "        text-align: right;\n",
       "    }\n",
       "</style>\n",
       "<table border=\"1\" class=\"dataframe\">\n",
       "  <thead>\n",
       "    <tr style=\"text-align: right;\">\n",
       "      <th></th>\n",
       "      <th>employee_id</th>\n",
       "      <th>first_name</th>\n",
       "      <th>last_name</th>\n",
       "      <th>department</th>\n",
       "      <th>salary</th>\n",
       "      <th>age</th>\n",
       "      <th>joining_date</th>\n",
       "    </tr>\n",
       "  </thead>\n",
       "  <tbody>\n",
       "    <tr>\n",
       "      <th>0</th>\n",
       "      <td>1</td>\n",
       "      <td>John</td>\n",
       "      <td>Doe</td>\n",
       "      <td>Engineering</td>\n",
       "      <td>70000</td>\n",
       "      <td>28</td>\n",
       "      <td>2020-01-15</td>\n",
       "    </tr>\n",
       "    <tr>\n",
       "      <th>2</th>\n",
       "      <td>3</td>\n",
       "      <td>Bob</td>\n",
       "      <td>Brown</td>\n",
       "      <td>Engineering</td>\n",
       "      <td>80000</td>\n",
       "      <td>45</td>\n",
       "      <td>2018-06-10</td>\n",
       "    </tr>\n",
       "    <tr>\n",
       "      <th>3</th>\n",
       "      <td>4</td>\n",
       "      <td>Alice</td>\n",
       "      <td>Johnson</td>\n",
       "      <td>HR</td>\n",
       "      <td>50000</td>\n",
       "      <td>29</td>\n",
       "      <td>2021-09-05</td>\n",
       "    </tr>\n",
       "    <tr>\n",
       "      <th>4</th>\n",
       "      <td>5</td>\n",
       "      <td>Chris</td>\n",
       "      <td>Davis</td>\n",
       "      <td>Engineering</td>\n",
       "      <td>75000</td>\n",
       "      <td>40</td>\n",
       "      <td>2017-11-30</td>\n",
       "    </tr>\n",
       "    <tr>\n",
       "      <th>6</th>\n",
       "      <td>7</td>\n",
       "      <td>Michael</td>\n",
       "      <td>Garcia</td>\n",
       "      <td>HR</td>\n",
       "      <td>55000</td>\n",
       "      <td>30</td>\n",
       "      <td>2021-04-18</td>\n",
       "    </tr>\n",
       "    <tr>\n",
       "      <th>7</th>\n",
       "      <td>8</td>\n",
       "      <td>Sarah</td>\n",
       "      <td>Martinez</td>\n",
       "      <td>Engineering</td>\n",
       "      <td>72000</td>\n",
       "      <td>31</td>\n",
       "      <td>2020-05-23</td>\n",
       "    </tr>\n",
       "    <tr>\n",
       "      <th>9</th>\n",
       "      <td>10</td>\n",
       "      <td>Linda</td>\n",
       "      <td>Thomas</td>\n",
       "      <td>HR</td>\n",
       "      <td>52000</td>\n",
       "      <td>25</td>\n",
       "      <td>2022-11-14</td>\n",
       "    </tr>\n",
       "  </tbody>\n",
       "</table>\n",
       "</div>"
      ],
      "text/plain": [
       "   employee_id first_name last_name   department  salary  age joining_date\n",
       "0            1       John       Doe  Engineering   70000   28   2020-01-15\n",
       "2            3        Bob     Brown  Engineering   80000   45   2018-06-10\n",
       "3            4      Alice   Johnson           HR   50000   29   2021-09-05\n",
       "4            5      Chris     Davis  Engineering   75000   40   2017-11-30\n",
       "6            7    Michael    Garcia           HR   55000   30   2021-04-18\n",
       "7            8      Sarah  Martinez  Engineering   72000   31   2020-05-23\n",
       "9           10      Linda    Thomas           HR   52000   25   2022-11-14"
      ]
     },
     "execution_count": 27,
     "metadata": {},
     "output_type": "execute_result"
    }
   ],
   "source": [
    "# Filtrowanie pracowników, którzy nie są w dziale Marketing\n",
    "df[~(df['department'].isin(['Marketing']))]"
   ]
  },
  {
   "cell_type": "markdown",
   "id": "6bb9cc32-4e7a-4291-8093-28e3b013c0b2",
   "metadata": {},
   "source": [
    "**12. Wybór pierwszych 5 pracowników z wybraną kolumną salary przy użyciu iloc**\n",
    "\n",
    "Użyj `iloc`, aby wybrać pierwsze 5 wierszy oraz tylko kolumnę salary."
   ]
  },
  {
   "cell_type": "code",
   "execution_count": 29,
   "id": "ece7f4b0-5691-41e6-a0ba-9e55f1cef737",
   "metadata": {},
   "outputs": [
    {
     "data": {
      "text/plain": [
       "0    70000\n",
       "1    60000\n",
       "2    80000\n",
       "3    50000\n",
       "4    75000\n",
       "Name: salary, dtype: int64"
      ]
     },
     "execution_count": 29,
     "metadata": {},
     "output_type": "execute_result"
    }
   ],
   "source": [
    "# Wybór pierwszych 5 pracowników oraz kolumny salary przy użyciu `iloc`\n",
    "# first_five_salaries = df.iloc[:5, df.columns.get_loc('salary')]\n",
    "df.iloc[:5, df.columns.get_loc('salary')]"
   ]
  },
  {
   "cell_type": "markdown",
   "id": "de1904db-470c-4e93-bda3-816ff4fe8050",
   "metadata": {},
   "source": [
    "**13. Wybór pierwszych 5 pracowników z wybraną kolumną salary przy użyciu loc**\n",
    "\n",
    "Użyj `loc`, aby wybrać pierwsze 5 wierszy oraz tylko kolumnę salary."
   ]
  },
  {
   "cell_type": "code",
   "execution_count": 30,
   "id": "99776575-25e8-4594-8237-dcc85b512fc8",
   "metadata": {},
   "outputs": [
    {
     "data": {
      "text/plain": [
       "0    70000\n",
       "1    60000\n",
       "2    80000\n",
       "3    50000\n",
       "4    75000\n",
       "Name: salary, dtype: int64"
      ]
     },
     "execution_count": 30,
     "metadata": {},
     "output_type": "execute_result"
    }
   ],
   "source": [
    "# Wybór pierwszych 5 pracowników oraz kolumny salary przy użyciu `loc`\n",
    "df.loc[:4, 'salary']"
   ]
  },
  {
   "cell_type": "markdown",
   "id": "121f48d4-819d-4def-9850-bfbd888b18ed",
   "metadata": {},
   "source": [
    "**14. Wyciąganie wierszy od 2 do 4 (nie wliczając 4) oraz kolumny first_name i salary przy użyciu `iloc`**\n",
    "\n",
    "Użyj `iloc`, aby wyciągnąć wiersze od 2 do 4 oraz wybrane kolumny."
   ]
  },
  {
   "cell_type": "code",
   "execution_count": 34,
   "id": "3b6ade11-01bf-43a2-9ab5-1bc8e0c77101",
   "metadata": {},
   "outputs": [
    {
     "data": {
      "text/html": [
       "<div>\n",
       "<style scoped>\n",
       "    .dataframe tbody tr th:only-of-type {\n",
       "        vertical-align: middle;\n",
       "    }\n",
       "\n",
       "    .dataframe tbody tr th {\n",
       "        vertical-align: top;\n",
       "    }\n",
       "\n",
       "    .dataframe thead th {\n",
       "        text-align: right;\n",
       "    }\n",
       "</style>\n",
       "<table border=\"1\" class=\"dataframe\">\n",
       "  <thead>\n",
       "    <tr style=\"text-align: right;\">\n",
       "      <th></th>\n",
       "      <th>first_name</th>\n",
       "      <th>salary</th>\n",
       "    </tr>\n",
       "  </thead>\n",
       "  <tbody>\n",
       "    <tr>\n",
       "      <th>1</th>\n",
       "      <td>Jane</td>\n",
       "      <td>60000</td>\n",
       "    </tr>\n",
       "    <tr>\n",
       "      <th>2</th>\n",
       "      <td>Bob</td>\n",
       "      <td>80000</td>\n",
       "    </tr>\n",
       "    <tr>\n",
       "      <th>3</th>\n",
       "      <td>Alice</td>\n",
       "      <td>50000</td>\n",
       "    </tr>\n",
       "    <tr>\n",
       "      <th>4</th>\n",
       "      <td>Chris</td>\n",
       "      <td>75000</td>\n",
       "    </tr>\n",
       "  </tbody>\n",
       "</table>\n",
       "</div>"
      ],
      "text/plain": [
       "  first_name  salary\n",
       "1       Jane   60000\n",
       "2        Bob   80000\n",
       "3      Alice   50000\n",
       "4      Chris   75000"
      ]
     },
     "execution_count": 34,
     "metadata": {},
     "output_type": "execute_result"
    }
   ],
   "source": [
    "# Wyciąganie wierszy od 2 do 4 oraz kolumn first_name i salary\n",
    "df.iloc[1:5, [df.columns.get_loc('first_name'), df.columns.get_loc('salary')]]"
   ]
  }
 ],
 "metadata": {
  "kernelspec": {
   "display_name": "base",
   "language": "python",
   "name": "python3"
  },
  "language_info": {
   "codemirror_mode": {
    "name": "ipython",
    "version": 3
   },
   "file_extension": ".py",
   "mimetype": "text/x-python",
   "name": "python",
   "nbconvert_exporter": "python",
   "pygments_lexer": "ipython3",
   "version": "3.11.9"
  }
 },
 "nbformat": 4,
 "nbformat_minor": 5
}
