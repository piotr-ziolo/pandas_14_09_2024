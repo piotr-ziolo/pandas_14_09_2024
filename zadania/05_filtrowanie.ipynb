{
 "cells": [
  {
   "cell_type": "markdown",
   "id": "958ccb41-6ea1-44d1-bf14-dfa122861123",
   "metadata": {},
   "source": [
    "#### Zadanie V: Filtrowanie danych"
   ]
  },
  {
   "cell_type": "markdown",
   "id": "50039def-1403-4f87-a301-6bb8f314edbb",
   "metadata": {},
   "source": [
    "W tym zadaniu będziesz miał okazję przećwiczyć różne metody filtrowania danych w Pandas, aby wyodrębnić interesujące informacje z zestawu danych o pracownikach firmy. Każde z podzadań dotyczy innej techniki filtrowania, co pozwoli Ci zyskać szersze umiejętności w pracy z Pandas."
   ]
  },
  {
   "cell_type": "markdown",
   "id": "4d32ca2f-fa7c-4504-a44b-db067340cf43",
   "metadata": {},
   "source": [
    "**0. Wczytanie danych**\n",
    "\n",
    "Wczytaj dane z pliku 'data/employees.csv' i zapoznaj się z nimi wstępnie."
   ]
  },
  {
   "cell_type": "code",
   "execution_count": null,
   "id": "60430423-d621-4e6a-846b-f84e7d2beff8",
   "metadata": {},
   "outputs": [],
   "source": [
    "import pandas as pd\n",
    "\n",
    "# Wczytanie danych z pliku CSV\n",
    "..."
   ]
  },
  {
   "cell_type": "markdown",
   "id": "2e09bdf3-7373-4e2a-8389-d2376cd435cd",
   "metadata": {},
   "source": [
    "**1. Wyświetlenie wszystkich pracowników z działu \"Engineering\"**\n",
    "\n",
    "Użyj metody `isin`, aby wybrać wszystkich pracowników z działu \"Engineering\"."
   ]
  },
  {
   "cell_type": "code",
   "execution_count": null,
   "id": "08dd98d7-33dc-4132-a7c4-2d980e53625b",
   "metadata": {},
   "outputs": [],
   "source": [
    "# Filtrowanie pracowników z działu Engineering\n",
    "..."
   ]
  },
  {
   "cell_type": "markdown",
   "id": "94e3eef6-cb4c-4fbc-be7d-29b4d7e1624d",
   "metadata": {},
   "source": [
    "**2. Pracownicy, których nazwiska zaczynają się na literę \"S\"**\n",
    "\n",
    "Użyj str accessor, aby wyświetlić wszystkich pracowników, których nazwiska zaczynają się na \"S\"."
   ]
  },
  {
   "cell_type": "code",
   "execution_count": null,
   "id": "d862f41a-34ce-4a1a-8db2-ef2ac0772ac4",
   "metadata": {},
   "outputs": [],
   "source": [
    "# Filtrowanie pracowników, których nazwiska zaczynają się na \"S\"\n",
    "..."
   ]
  },
  {
   "cell_type": "markdown",
   "id": "a7bcd1b4-ddb1-4d3c-9843-177ca20a0a1a",
   "metadata": {},
   "source": [
    "**3. Wybór pracowników z wynagrodzeniem większym niż 60,000**\n",
    "\n",
    "Użyj warunku w kwadratowych nawiasach, aby wybrać pracowników, których wynagrodzenie jest wyższe niż 60,000."
   ]
  },
  {
   "cell_type": "code",
   "execution_count": null,
   "id": "0a36b2ac-2870-43ce-a767-9edb6f9aa844",
   "metadata": {},
   "outputs": [],
   "source": [
    "# Filtrowanie pracowników z wynagrodzeniem większym niż 60,000\n",
    "..."
   ]
  },
  {
   "cell_type": "markdown",
   "id": "ba54ad0e-b7d9-439e-9e2c-7f305713664e",
   "metadata": {},
   "source": [
    "**4. Pracownicy, którzy dołączyli do firmy przed 2020 rokiem**\n",
    "\n",
    "Użyj metody `query`, aby wyświetlić pracowników, którzy dołączyli do firmy przed 2020 rokiem."
   ]
  },
  {
   "cell_type": "code",
   "execution_count": null,
   "id": "66699e45-4233-4570-96ed-bffafd7b84e7",
   "metadata": {},
   "outputs": [],
   "source": [
    "# Filtrowanie pracowników, którzy dołączyli przed 2020 rokiem\n",
    "..."
   ]
  },
  {
   "cell_type": "markdown",
   "id": "141d2de9-f79d-4601-8d2e-5ade2f321bb9",
   "metadata": {},
   "source": [
    "**5. Najwyżej opłacani pracownicy**\n",
    "\n",
    "Użyj metody `nlargest`, aby wybrać trzech najwyżej opłacanych pracowników."
   ]
  },
  {
   "cell_type": "code",
   "execution_count": null,
   "id": "a1a4eb70-bd80-43cc-bbfa-c9d8c07a1bb1",
   "metadata": {},
   "outputs": [],
   "source": [
    "# Najwyżej opłacani pracownicy\n",
    "..."
   ]
  },
  {
   "cell_type": "markdown",
   "id": "6c608948-0701-4a0f-878d-464af632f844",
   "metadata": {},
   "source": [
    "**6. Najniżej opłacani pracownicy**\n",
    "\n",
    "Użyj metody `nsmallest`, aby wybrać dwóch najniżej opłacanych pracowników."
   ]
  },
  {
   "cell_type": "code",
   "execution_count": null,
   "id": "3cfd71c3-4b09-4cad-8831-91b24d8fc883",
   "metadata": {},
   "outputs": [],
   "source": [
    "# Najniżej opłacani pracownicy\n",
    "..."
   ]
  },
  {
   "cell_type": "markdown",
   "id": "2f82f9c5-b203-4a7f-addf-e58e0833f18e",
   "metadata": {},
   "source": [
    "**7. Wyświetlenie wszystkie dane dla pracowników w wieku między 30 a 40 lat**\n",
    "\n",
    "Użyj loc, aby wybrać pracowników, którzy mają od 30 do 40 lat."
   ]
  },
  {
   "cell_type": "code",
   "execution_count": null,
   "id": "c2d59895-8307-44fe-a362-36a9e6b233db",
   "metadata": {},
   "outputs": [],
   "source": [
    "# Filtrowanie pracowników w wieku 30-40 lat\n",
    "..."
   ]
  },
  {
   "cell_type": "markdown",
   "id": "ee9075e8-59a3-4d85-92ab-6ae5e10c8a5e",
   "metadata": {},
   "source": [
    "**8. Wybór pracowników na podstawie ich ID**\n",
    "\n",
    "Użyj `iloc`, aby wybrać pracowników o indeksach 1, 3 i 5."
   ]
  },
  {
   "cell_type": "code",
   "execution_count": null,
   "id": "c503e1c7-b68d-418e-afec-abcbc5b70637",
   "metadata": {},
   "outputs": [],
   "source": [
    "# Wybór pracowników o indeksach 1, 3 i 5\n",
    "..."
   ]
  },
  {
   "cell_type": "markdown",
   "id": "cf97e7d9-9f25-465b-b366-93dd08c8da24",
   "metadata": {},
   "source": [
    "**9. Wyświetlenie wszystkich pracowników z działu \"HR\" lub \"Marketing\"**\n",
    "\n",
    "Użyj metody `isin`, aby wyświetlić wszystkich pracowników, którzy są w działach \"HR\" lub \"Marketing\"."
   ]
  },
  {
   "cell_type": "code",
   "execution_count": null,
   "id": "8bcda3b8-5731-4b03-a160-b364c857e5b3",
   "metadata": {},
   "outputs": [],
   "source": [
    "# Filtrowanie pracowników z działu HR lub Marketing\n",
    "..."
   ]
  },
  {
   "cell_type": "markdown",
   "id": "bfa9188b-e596-4404-9149-f04aabd71a90",
   "metadata": {},
   "source": [
    "**10. Wyświetlenie pracowników z wynagrodzeniem poniżej mediany**\n",
    "\n",
    "Użyj kwadratowych nawiasów i funkcji median, aby znaleźć pracowników zarabiających mniej niż mediana wynagrodzenia."
   ]
  },
  {
   "cell_type": "code",
   "execution_count": null,
   "id": "892daaa4-a4a0-41af-ba36-89ce65f185f1",
   "metadata": {},
   "outputs": [],
   "source": [
    "# Filtrowanie pracowników zarabiających mniej niż mediana wynagrodzenia\n",
    "..."
   ]
  },
  {
   "cell_type": "markdown",
   "id": "711795c1-1a4a-4487-8d27-4736660545cc",
   "metadata": {},
   "source": [
    "**11. Pracownicy, którzy nie pracują w dziale \"Marketing\"**\n",
    "\n",
    "Użyj negacji (~) oraz isin, aby wybrać wszystkich pracowników, którzy nie są w dziale \"Marketing\"."
   ]
  },
  {
   "cell_type": "code",
   "execution_count": null,
   "id": "d35c5a60-947c-456b-b07e-f6a1c4fcaf2e",
   "metadata": {},
   "outputs": [],
   "source": [
    "# Filtrowanie pracowników, którzy nie są w dziale Marketing\n",
    "..."
   ]
  },
  {
   "cell_type": "markdown",
   "id": "6bb9cc32-4e7a-4291-8093-28e3b013c0b2",
   "metadata": {},
   "source": [
    "**12. Wybór pierwszych 5 pracowników z wybraną kolumną salary przy użyciu iloc**\n",
    "\n",
    "Użyj `iloc`, aby wybrać pierwsze 5 wierszy oraz tylko kolumnę salary."
   ]
  },
  {
   "cell_type": "code",
   "execution_count": null,
   "id": "ece7f4b0-5691-41e6-a0ba-9e55f1cef737",
   "metadata": {},
   "outputs": [],
   "source": [
    "# Wybór pierwszych 5 pracowników oraz kolumny salary przy użyciu `iloc`\n",
    "# first_five_salaries = df.iloc[:5, df.columns.get_loc('salary')]\n",
    "..."
   ]
  },
  {
   "cell_type": "markdown",
   "id": "de1904db-470c-4e93-bda3-816ff4fe8050",
   "metadata": {},
   "source": [
    "**13. Wybór pierwszych 5 pracowników z wybraną kolumną salary przy użyciu loc**\n",
    "\n",
    "Użyj `loc`, aby wybrać pierwsze 5 wierszy oraz tylko kolumnę salary."
   ]
  },
  {
   "cell_type": "code",
   "execution_count": null,
   "id": "99776575-25e8-4594-8237-dcc85b512fc8",
   "metadata": {},
   "outputs": [],
   "source": [
    "# Wybór pierwszych 5 pracowników oraz kolumny salary przy użyciu `loc`\n",
    "..."
   ]
  },
  {
   "cell_type": "markdown",
   "id": "121f48d4-819d-4def-9850-bfbd888b18ed",
   "metadata": {},
   "source": [
    "**14. Wyciąganie wierszy od 2 do 4 (nie wliczając 4) oraz kolumny first_name i salary przy użyciu `iloc`**\n",
    "\n",
    "Użyj `iloc`, aby wyciągnąć wiersze od 2 do 4 oraz wybrane kolumny."
   ]
  },
  {
   "cell_type": "code",
   "execution_count": null,
   "id": "3b6ade11-01bf-43a2-9ab5-1bc8e0c77101",
   "metadata": {},
   "outputs": [],
   "source": [
    "# Wyciąganie wierszy od 2 do 4 oraz kolumn first_name i salary\n",
    "..."
   ]
  }
 ],
 "metadata": {
  "kernelspec": {
   "display_name": "Python 3 (ipykernel)",
   "language": "python",
   "name": "python3"
  },
  "language_info": {
   "codemirror_mode": {
    "name": "ipython",
    "version": 3
   },
   "file_extension": ".py",
   "mimetype": "text/x-python",
   "name": "python",
   "nbconvert_exporter": "python",
   "pygments_lexer": "ipython3",
   "version": "3.12.4"
  }
 },
 "nbformat": 4,
 "nbformat_minor": 5
}
