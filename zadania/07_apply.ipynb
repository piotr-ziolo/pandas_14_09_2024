{
 "cells": [
  {
   "cell_type": "markdown",
   "id": "ce158d44-0079-4f7b-a539-ff3d61da4af7",
   "metadata": {},
   "source": [
    "### Zadanie VII: Metoda `apply`"
   ]
  },
  {
   "cell_type": "markdown",
   "id": "9444a6d6-8c27-45e6-994c-a3072ff60e0b",
   "metadata": {},
   "source": [
    "Tym razem skupimy się na wykorzystaniu metody apply, aby przetworzyć dane dotyczące win. Użyjemy zbioru danych o jakości win, który zawiera różne cechy win czerwonych, takie jak kwasowość, zawartość alkoholu i inne. Celem zadania będzie obliczenie jakości wina oraz jego klasyfikacja na podstawie ocen.\n",
    "\n",
    "Zbiór danych o winie można znaleźć pod adresem https://archive.ics.uci.edu/ml/machine-learning-databases/wine-quality/winequality-red.csv"
   ]
  },
  {
   "cell_type": "markdown",
   "id": "89c2d77f-2272-49b6-8ed4-62c129fc0919",
   "metadata": {},
   "source": [
    "**1. Wczytaj dane** \n",
    "\n",
    "Wczytaj dane z pliku CSV i zapoznaj się z pierwszymi pięcioma wierszami (zwróć uwagę na typ separatora w danych)."
   ]
  },
  {
   "cell_type": "code",
   "execution_count": null,
   "id": "805cf8f3-e04a-48e6-b26a-dfecb25a1791",
   "metadata": {},
   "outputs": [],
   "source": [
    "import pandas as pd\n",
    "\n",
    "# 1. Wczytaj dane\n",
    "url = 'https://archive.ics.uci.edu/ml/machine-learning-databases/wine-quality/winequality-red.csv'\n",
    "..."
   ]
  },
  {
   "cell_type": "markdown",
   "id": "c9fb0ef0-b569-4a4b-b14f-bf709de935af",
   "metadata": {},
   "source": [
    "Tłumaczenie nazw kolumn:\n",
    "\n",
    "* fixed acidity - kwasowość stała\n",
    "* volatile acidity - kwasowość lotna\n",
    "* citric acid - kwas cytrynowy\n",
    "* residual sugar - cukier resztkowy\n",
    "* chlorides - chlorki\n",
    "* free sulfur dioxide - wolny dwutlenek siarki\n",
    "* total sulfur dioxide - całkowity dwutlenek siarki\n",
    "* density - gęstość\n",
    "* pH - pH\n",
    "* sulphates - siarczany\n",
    "* alcohol - alkohol\n",
    "* quality - jakość (ocena)"
   ]
  },
  {
   "cell_type": "markdown",
   "id": "8bc7c0a9-b542-46f6-84b0-72defddd901d",
   "metadata": {},
   "source": [
    "**2. Obliczanie jakości wina** \n",
    "    \n",
    "Zdefiniuj funkcję, która oblicza jakość wina na podstawie jego cech. Na przykład, możesz obliczyć jakość jako średnią z dwóch cech: zawartości alkoholu i kwasowości."
   ]
  },
  {
   "cell_type": "code",
   "execution_count": null,
   "id": "4f2cddc2-f109-4c43-9397-404bd05030af",
   "metadata": {},
   "outputs": [],
   "source": [
    "# Obliczanie jakości wina (za pomocą operacji zwektoryzowanych)\n",
    "\n",
    "..."
   ]
  },
  {
   "cell_type": "markdown",
   "id": "4e0b9ff2-b21f-4405-8ef7-5b7e6fc7b32e",
   "metadata": {},
   "source": [
    "**3. Klasyfikacja jakości wina** \n",
    "    \n",
    "Zdefiniuj funkcję, która klasyfikuje wina w kategorie „Niska”, „Średnia” lub „Wysoka” na podstawie obliczonej jakości. Zastosuj tę funkcję na nowej kolumnie."
   ]
  },
  {
   "cell_type": "code",
   "execution_count": null,
   "id": "d72a3ddc-27b0-4ca4-88d2-5fe0b8cdc4be",
   "metadata": {},
   "outputs": [],
   "source": [
    "# Klasyfikacja jakości wina\n",
    "..."
   ]
  },
  {
   "cell_type": "markdown",
   "id": "6e2a3654-712b-4233-94ea-56471b9b5b50",
   "metadata": {},
   "source": [
    "**4. Wyświetlenie wyników** \n",
    "    \n",
    "Wyświetl zaktualizowaną ramkę, aby zobaczyć wyniki swoich obliczeń."
   ]
  },
  {
   "cell_type": "code",
   "execution_count": null,
   "id": "74ed37a4-ae5e-4b63-af6a-0287d66ea1f2",
   "metadata": {},
   "outputs": [],
   "source": [
    "..."
   ]
  }
 ],
 "metadata": {
  "kernelspec": {
   "display_name": "Python 3 (ipykernel)",
   "language": "python",
   "name": "python3"
  },
  "language_info": {
   "codemirror_mode": {
    "name": "ipython",
    "version": 3
   },
   "file_extension": ".py",
   "mimetype": "text/x-python",
   "name": "python",
   "nbconvert_exporter": "python",
   "pygments_lexer": "ipython3",
   "version": "3.12.4"
  }
 },
 "nbformat": 4,
 "nbformat_minor": 5
}
