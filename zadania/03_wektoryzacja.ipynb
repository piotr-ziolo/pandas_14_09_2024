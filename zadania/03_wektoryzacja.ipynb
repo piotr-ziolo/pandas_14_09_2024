{
 "cells": [
  {
   "cell_type": "markdown",
   "id": "513fcc39-4ec6-4c36-bfe7-760631f5ce62",
   "metadata": {},
   "source": [
    "#### Zadanie III: Operacje zwektoryzowane"
   ]
  },
  {
   "cell_type": "markdown",
   "id": "aa4ec463-1eab-44d7-98f7-14620c52f768",
   "metadata": {},
   "source": [
    "W tym zadaniu nauczymy się, jak korzystać z wektoryzacji w Pandas, aby szybko i efektywnie przetwarzać duże zbiory danych. Wektoryzacja to proces, w którym operacje wykonywane są na całych kolumnach danych jednocześnie, bez konieczności używania pętli. "
   ]
  },
  {
   "cell_type": "markdown",
   "id": "bd509d41-4f99-4288-92c0-7c4365e0560a",
   "metadata": {},
   "source": [
    "**1. Wczytanie danych**\n",
    "\n",
    "Stwórz ramkę na podstawie otrzymanych danych."
   ]
  },
  {
   "cell_type": "code",
   "execution_count": null,
   "id": "d9f53c25-c3e6-44ad-8570-cc1350f1c1b5",
   "metadata": {},
   "outputs": [],
   "source": [
    "data = {\n",
    "    'product_id': [1, 2, 3, 4, 5, 6, 7, 8, 9, 10],\n",
    "    'product_name': ['Smartphone', 'Laptop', 'Tablet', 'Smartwatch', 'Headphones', \n",
    "                     'Monitor', 'Keyboard', 'Mouse', 'Webcam', 'Laptop Stand'],\n",
    "    'price': [500, 1200, 300, 200, 50, 300, 40, 25, 80, 35],\n",
    "    'quantity_sold': [150, 85, 220, 50, 500, 120, 340, 410, 180, 130]\n",
    "}"
   ]
  },
  {
   "cell_type": "code",
   "execution_count": null,
   "id": "9e872303-246b-43c9-81b1-2ba7f4dfa7b2",
   "metadata": {},
   "outputs": [],
   "source": [
    "..."
   ]
  },
  {
   "cell_type": "markdown",
   "id": "ab733da5-a207-45d5-9d74-f18ef29a3958",
   "metadata": {},
   "source": [
    "**2. Obliczanie ceny po rabacie**\n",
    "\n",
    "Teraz, dla każdego produktu, oblicz cenę po rabacie 20% i dodaj ją jako nową kolumnę `discounted_price`."
   ]
  },
  {
   "cell_type": "code",
   "execution_count": null,
   "id": "1d0040ed-5d38-4eb9-b25e-026b8f4160f8",
   "metadata": {},
   "outputs": [],
   "source": [
    "# Obliczanie ceny po rabacie 20%\n",
    "\n",
    "..."
   ]
  },
  {
   "cell_type": "markdown",
   "id": "c25e32ea-1ab1-4a77-964e-2207a1549b00",
   "metadata": {},
   "source": [
    "**3. Oszacowanie przychodu**\n",
    "\n",
    "Przychód oblicz jako iloczyn ceny po rabacie i ilości sprzedanych produktów. Wynik umieść w nowej kolumnie `revenue`."
   ]
  },
  {
   "cell_type": "code",
   "execution_count": null,
   "id": "7f5ee4ac-a813-487c-a9cf-23d51b2315b4",
   "metadata": {},
   "outputs": [],
   "source": [
    "# Obliczanie przychodu (discounted_price * quantity_sold)\n",
    "\n",
    "..."
   ]
  },
  {
   "cell_type": "markdown",
   "id": "78c21812-adb7-4edb-b9f1-c09e9ac3513e",
   "metadata": {},
   "source": [
    "**4. Oblicz marżę**\n",
    "\n",
    "Marża to różnica między oryginalną ceną a ceną po rabacie. Obliczy ją i zapisz w nowej kolumnie `margin`."
   ]
  },
  {
   "cell_type": "code",
   "execution_count": null,
   "id": "15d453ea-c174-4eb3-b776-379a4fa7ec86",
   "metadata": {},
   "outputs": [],
   "source": [
    "# Obliczanie marży (price - discounted_price)\n",
    "\n",
    "..."
   ]
  },
  {
   "cell_type": "markdown",
   "id": "e09e8f06-8cf2-467c-b124-57513673ed3a",
   "metadata": {},
   "source": [
    "**5. Filtracja na podstawie marży**\n",
    "\n",
    "Na końcu wybierz te produkty, które mają marżę większą niż 50 jednostek walutowych."
   ]
  },
  {
   "cell_type": "code",
   "execution_count": null,
   "id": "643d50fe-1281-4926-80e7-dc46590a7f57",
   "metadata": {},
   "outputs": [],
   "source": [
    "# Filtrowanie produktów z marżą większą niż 50\n",
    "\n",
    "..."
   ]
  },
  {
   "cell_type": "markdown",
   "id": "8aa87f43-74a2-4992-b36f-a589e658a31a",
   "metadata": {},
   "source": [
    "**6. Obliczanie pierwiastka kwadratowego z liczby sprzedanych produktów**\n",
    "\n",
    "Dodaj nową kolumnę `sqrt_quantity_sold`, która będzie zawierać pierwiastek kwadratowy z liczby sprzedanych produktów dla każdego produktu."
   ]
  },
  {
   "cell_type": "code",
   "execution_count": null,
   "id": "0e3158ec-fc28-4bc8-893c-9082bfc49d90",
   "metadata": {},
   "outputs": [],
   "source": [
    "import numpy as np\n",
    "\n",
    "# Obliczanie pierwiastka kwadratowego z liczby sprzedanych produktów\n",
    "..."
   ]
  }
 ],
 "metadata": {
  "kernelspec": {
   "display_name": "Python 3 (ipykernel)",
   "language": "python",
   "name": "python3"
  },
  "language_info": {
   "codemirror_mode": {
    "name": "ipython",
    "version": 3
   },
   "file_extension": ".py",
   "mimetype": "text/x-python",
   "name": "python",
   "nbconvert_exporter": "python",
   "pygments_lexer": "ipython3",
   "version": "3.12.4"
  }
 },
 "nbformat": 4,
 "nbformat_minor": 5
}
