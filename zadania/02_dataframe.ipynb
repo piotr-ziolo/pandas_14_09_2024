{
 "cells": [
  {
   "cell_type": "markdown",
   "id": "87dc74d5-c188-4c6c-8ee1-130e26075a4e",
   "metadata": {},
   "source": [
    "#### Zadanie II: Tworzenie i modyfikacja obiektów DataFrame"
   ]
  },
  {
   "cell_type": "markdown",
   "id": "6e30a6b9-ee17-48cc-b419-4f8d6f39bff5",
   "metadata": {},
   "source": [
    "**Część 1: Tworzenie obiektu DataFrame**"
   ]
  },
  {
   "attachments": {
    "4d69db8d-66c9-4332-a469-7980158161bb.png": {
     "image/png": "[encoded data removed]"
    }
   },
   "cell_type": "markdown",
   "id": "cc2c1865-d400-42cc-a549-4461c7681d86",
   "metadata": {},
   "source": [
    "Stwórz obiekt DataFrame z następującymi danymi:\n",
    "\n",
    "![image.png](attachment:4d69db8d-66c9-4332-a469-7980158161bb.png)\n",
    "\n",
    "Nazwij tę ramkę danych people."
   ]
  },
  {
   "cell_type": "code",
   "execution_count": null,
   "id": "6d83f6d3-87e0-43de-8687-1ba062babe27",
   "metadata": {},
   "outputs": [],
   "source": []
  },
  {
   "cell_type": "markdown",
   "id": "db8fa81c-91a1-48e8-a233-9d4fb7c61e58",
   "metadata": {},
   "source": [
    "**Część 2: Modyfikacje obiektu DataFrame**"
   ]
  },
  {
   "cell_type": "markdown",
   "id": "89e7a357-ca66-4530-9650-ce9b3ed0f1a5",
   "metadata": {},
   "source": [
    "Dodaj nową kolumnę Zawód z następującymi danymi: [\"Nauczyciel\", \"Inżynier\", \"Student\", \"Programista\"]."
   ]
  },
  {
   "cell_type": "code",
   "execution_count": null,
   "id": "b76bbf2a-0730-471a-9809-ee2044b39a76",
   "metadata": {},
   "outputs": [],
   "source": []
  },
  {
   "cell_type": "markdown",
   "id": "b1875075-b95d-476c-8dde-5ca40af3f26b",
   "metadata": {},
   "source": [
    "Zmień wiek osoby o imieniu \"Kasia\" na 23."
   ]
  },
  {
   "cell_type": "code",
   "execution_count": null,
   "id": "06914f2b-b89a-4266-ad55-7325d225a435",
   "metadata": {},
   "outputs": [],
   "source": []
  },
  {
   "cell_type": "markdown",
   "id": "2c9f6061-9ffc-4395-a02d-d5d52079517e",
   "metadata": {},
   "source": [
    "Usuń kolumnę Zawód."
   ]
  },
  {
   "cell_type": "code",
   "execution_count": null,
   "id": "92de82c6-d311-4d94-9e84-2346f5176714",
   "metadata": {},
   "outputs": [],
   "source": []
  },
  {
   "cell_type": "markdown",
   "id": "d06ea85a-23d1-4728-9b96-27a5213ed833",
   "metadata": {},
   "source": [
    "\\* Utwórz nowy DataFrame zawierający tylko osoby, które mają więcej niż 25 lat."
   ]
  },
  {
   "cell_type": "code",
   "execution_count": null,
   "id": "51475080-2343-4adb-af5e-b89393182b1d",
   "metadata": {},
   "outputs": [],
   "source": []
  }
 ],
 "metadata": {
  "kernelspec": {
   "display_name": "Python 3 (ipykernel)",
   "language": "python",
   "name": "python3"
  },
  "language_info": {
   "codemirror_mode": {
    "name": "ipython",
    "version": 3
   },
   "file_extension": ".py",
   "mimetype": "text/x-python",
   "name": "python",
   "nbconvert_exporter": "python",
   "pygments_lexer": "ipython3",
   "version": "3.12.4"
  }
 },
 "nbformat": 4,
 "nbformat_minor": 5
}
