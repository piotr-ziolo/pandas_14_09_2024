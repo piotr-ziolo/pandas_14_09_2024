{
 "cells": [
  {
   "cell_type": "markdown",
   "id": "b4db33c6-117d-4387-8b48-0af32575013e",
   "metadata": {},
   "source": [
    "### Zadanie X: Analiza cech irysów z użyciem wykresów pudełkowych\n",
    "\n",
    "Wróćmy do zbioru z pomiarami irysów - https://archive.ics.uci.edu/ml/machine-learning-databases/iris/iris.data. Tym razem zadanie będzie polegało na przedstawieniu podstawowych pomiarów dla poszczególnych gatunków irysów na wykresach pudełkowych."
   ]
  },
  {
   "cell_type": "markdown",
   "id": "2da7ac3f-800f-4176-8770-5cbc682179df",
   "metadata": {},
   "source": [
    "**1. Wczytanie danych** \n",
    "\n",
    "Wczytaj zbiór danych z url."
   ]
  },
  {
   "cell_type": "code",
   "execution_count": null,
   "id": "308616fd-5fae-4846-8712-3874dbdcadda",
   "metadata": {},
   "outputs": [],
   "source": [
    "import pandas as pd\n",
    "\n",
    "# Wczytaj dane\n",
    "url = \"https://archive.ics.uci.edu/ml/machine-learning-databases/iris/iris.data\"\n",
    "..."
   ]
  },
  {
   "cell_type": "markdown",
   "id": "391e23a7-f720-428a-8178-7a00fe5c7b9e",
   "metadata": {},
   "source": [
    "**2. Obliczenia statystyczne**\n",
    "\n",
    "Dla każdej cechy (sepal_length, sepal_width, petal_length, petal_width) oblicz:\n",
    "- wartość minimalną\n",
    "- wartość maksymalną\n",
    "- medianę\n",
    "- pierwszy (Q1) i trzeciy kwartyl (Q3)\n",
    "- odchylenie standardowe\n",
    "\n",
    "Oblicz również błędy standardowe dla każdej cechy."
   ]
  },
  {
   "cell_type": "code",
   "execution_count": null,
   "id": "104ad4e5-4e1f-4cbd-980b-d0d74d161cfd",
   "metadata": {},
   "outputs": [],
   "source": [
    "import numpy as np\n",
    "\n",
    "# Funkcja do obliczeń\n",
    "..."
   ]
  },
  {
   "cell_type": "markdown",
   "id": "30474145-3565-443b-8bea-ddb61e570d67",
   "metadata": {},
   "source": [
    "**3. Wykresy pudełkowe** \n",
    "\n",
    "Narysuj wykresy pudełkowe dla każdej cechy, grupując według gatunku. Upewnij się, że na wykresach widoczne są również błędy standardowe."
   ]
  },
  {
   "cell_type": "code",
   "execution_count": null,
   "id": "b608e070-642b-40a5-bd87-b878b424365d",
   "metadata": {},
   "outputs": [],
   "source": [
    "!pip install seaborn"
   ]
  },
  {
   "cell_type": "code",
   "execution_count": null,
   "id": "f1556610-d121-4940-82fd-2214a1595c22",
   "metadata": {},
   "outputs": [],
   "source": [
    "import matplotlib.pyplot as plt\n",
    "import seaborn as sns\n",
    "\n",
    "..."
   ]
  },
  {
   "cell_type": "code",
   "execution_count": null,
   "id": "09e544d3-48c8-4817-962f-b853ee55ab87",
   "metadata": {},
   "outputs": [],
   "source": []
  }
 ],
 "metadata": {
  "kernelspec": {
   "display_name": "Python 3 (ipykernel)",
   "language": "python",
   "name": "python3"
  },
  "language_info": {
   "codemirror_mode": {
    "name": "ipython",
    "version": 3
   },
   "file_extension": ".py",
   "mimetype": "text/x-python",
   "name": "python",
   "nbconvert_exporter": "python",
   "pygments_lexer": "ipython3",
   "version": "3.12.4"
  }
 },
 "nbformat": 4,
 "nbformat_minor": 5
}
