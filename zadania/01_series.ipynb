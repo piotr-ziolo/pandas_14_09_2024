{
 "cells": [
  {
   "cell_type": "markdown",
   "id": "4083dcdd-3dc8-40df-b7ba-8c17f3f4a0e3",
   "metadata": {},
   "source": [
    "#### Zadanie I: Tworzenie i modyfikacja obiektów Series"
   ]
  },
  {
   "cell_type": "markdown",
   "id": "19f29645-663b-476e-b0e4-375da574155c",
   "metadata": {},
   "source": [
    "**Część 1: Tworzenie obiektu Series**\n",
    "\n",
    "Stwórz obiekt Series z następujących danych: \"Jabłko\", \"Banana\", \"Pomarańcza\", \"Truskawka\", \"Winogrono\". Nazwij tę serię fruits."
   ]
  },
  {
   "cell_type": "code",
   "execution_count": 3,
   "id": "5eb2b818-32d1-4d1f-bfda-7131d2e0c0e4",
   "metadata": {},
   "outputs": [
    {
     "data": {
      "text/plain": [
       "0        Jabłko\n",
       "1        Banana\n",
       "2    Pomarańcza\n",
       "3     Truskawka\n",
       "4     Winogrono\n",
       "dtype: object"
      ]
     },
     "execution_count": 3,
     "metadata": {},
     "output_type": "execute_result"
    }
   ],
   "source": [
    "import pandas as pd\n",
    "\n",
    "fruits = pd.Series([\"Jabłko\", \"Banana\", \"Pomarańcza\", \"Truskawka\", \"Winogrono\"])\n",
    "fruits"
   ]
  },
  {
   "cell_type": "markdown",
   "id": "24a725da-b7be-4508-9067-0c21db499041",
   "metadata": {},
   "source": [
    "**Część 2: Modyfikacja obiektu Series**\n",
    "\n",
    "Zmień drugi owoc (Banana) na \"Mango\""
   ]
  },
  {
   "cell_type": "code",
   "execution_count": 4,
   "id": "31a6b31f-e45d-4905-a095-676ec2a410ea",
   "metadata": {},
   "outputs": [
    {
     "data": {
      "text/plain": [
       "0        Jabłko\n",
       "1         Mango\n",
       "2    Pomarańcza\n",
       "3     Truskawka\n",
       "4     Winogrono\n",
       "dtype: object"
      ]
     },
     "execution_count": 4,
     "metadata": {},
     "output_type": "execute_result"
    }
   ],
   "source": [
    "fruits[1] = \"Mango\"\n",
    "fruits"
   ]
  },
  {
   "cell_type": "markdown",
   "id": "637f8cbd-68ee-4e8b-a481-88276c109867",
   "metadata": {},
   "source": [
    "Dodaj \"Kiwi\" jako nowy owoc na końcu serii"
   ]
  },
  {
   "cell_type": "code",
   "execution_count": 11,
   "id": "8eb11ed7-e62a-4281-b41e-6800cd08c572",
   "metadata": {},
   "outputs": [],
   "source": [
    "fruits = pd.concat([fruits, pd.Series([\"Kiwi\"])], ignore_index=True)"
   ]
  },
  {
   "cell_type": "code",
   "execution_count": 12,
   "id": "768a66c9-43c9-4815-a676-5866b0e381f3",
   "metadata": {},
   "outputs": [
    {
     "data": {
      "text/plain": [
       "0        Jabłko\n",
       "1         Mango\n",
       "2    Pomarańcza\n",
       "3     Truskawka\n",
       "4     Winogrono\n",
       "5          Kiwi\n",
       "dtype: object"
      ]
     },
     "execution_count": 12,
     "metadata": {},
     "output_type": "execute_result"
    }
   ],
   "source": [
    "fruits"
   ]
  },
  {
   "cell_type": "code",
   "execution_count": 13,
   "id": "bf0afb89-2f25-4f77-b035-7e6446ab4c04",
   "metadata": {},
   "outputs": [],
   "source": [
    "# alt\n",
    "# fruits[len(fruits)] = \"Kiwi\""
   ]
  },
  {
   "cell_type": "markdown",
   "id": "c3d258da-8cfa-4d70-a6d7-108f1d0c0096",
   "metadata": {},
   "source": [
    "Usuń \"Truskawka\" z serii"
   ]
  },
  {
   "cell_type": "code",
   "execution_count": 16,
   "id": "22cddee1-07d6-43d1-8765-4690307ec74e",
   "metadata": {},
   "outputs": [
    {
     "data": {
      "text/plain": [
       "0        Jabłko\n",
       "1         Mango\n",
       "2    Pomarańcza\n",
       "3     Winogrono\n",
       "4          Kiwi\n",
       "dtype: object"
      ]
     },
     "execution_count": 16,
     "metadata": {},
     "output_type": "execute_result"
    }
   ],
   "source": [
    "index_to_drop = fruits[fruits == \"Truskawka\"].index\n",
    "fruits = fruits.drop(index_to_drop).reset_index(drop=True)\n",
    "fruits"
   ]
  },
  {
   "cell_type": "markdown",
   "id": "91b364e5-5edc-4fbe-84d5-2bd26b318752",
   "metadata": {},
   "source": [
    "Zmień indeksy owoców na numeryczne od 1 do n."
   ]
  },
  {
   "cell_type": "code",
   "execution_count": 17,
   "id": "948056ef-2fbd-4b12-8355-8c8628ce3ad3",
   "metadata": {},
   "outputs": [
    {
     "data": {
      "text/plain": [
       "1        Jabłko\n",
       "2         Mango\n",
       "3    Pomarańcza\n",
       "4     Winogrono\n",
       "5          Kiwi\n",
       "dtype: object"
      ]
     },
     "execution_count": 17,
     "metadata": {},
     "output_type": "execute_result"
    }
   ],
   "source": [
    "fruits.index = range(1, len(fruits) + 1)\n",
    "fruits"
   ]
  }
 ],
 "metadata": {
  "kernelspec": {
   "display_name": "Python 3 (ipykernel)",
   "language": "python",
   "name": "python3"
  },
  "language_info": {
   "codemirror_mode": {
    "name": "ipython",
    "version": 3
   },
   "file_extension": ".py",
   "mimetype": "text/x-python",
   "name": "python",
   "nbconvert_exporter": "python",
   "pygments_lexer": "ipython3",
   "version": "3.12.6"
  }
 },
 "nbformat": 4,
 "nbformat_minor": 5
}
