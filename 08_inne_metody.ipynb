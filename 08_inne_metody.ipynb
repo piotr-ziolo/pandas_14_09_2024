{
 "cells": [
  {
   "cell_type": "markdown",
   "id": "77e3543b-adfe-4668-ac68-fd3a0d210453",
   "metadata": {},
   "source": [
    "### Inne popularne metody ramek"
   ]
  },
  {
   "cell_type": "markdown",
   "id": "3d2a8e34-178b-4bbb-9c42-145537acd07d",
   "metadata": {},
   "source": [
    "#### Metoda info\n",
    "\n",
    "Metoda `info` dostarcza podstawowych informacji o ramce danych, w tym liczby nie-nullowych wartości, typów danych oraz pamięci używanej przez ramkę."
   ]
  },
  {
   "cell_type": "code",
   "execution_count": 1,
   "id": "2e8574eb-a265-4f18-b319-ee37bdb21dbb",
   "metadata": {},
   "outputs": [
    {
     "data": {
      "text/html": [
       "<div>\n",
       "<style scoped>\n",
       "    .dataframe tbody tr th:only-of-type {\n",
       "        vertical-align: middle;\n",
       "    }\n",
       "\n",
       "    .dataframe tbody tr th {\n",
       "        vertical-align: top;\n",
       "    }\n",
       "\n",
       "    .dataframe thead th {\n",
       "        text-align: right;\n",
       "    }\n",
       "</style>\n",
       "<table border=\"1\" class=\"dataframe\">\n",
       "  <thead>\n",
       "    <tr style=\"text-align: right;\">\n",
       "      <th></th>\n",
       "      <th>A</th>\n",
       "      <th>B</th>\n",
       "    </tr>\n",
       "  </thead>\n",
       "  <tbody>\n",
       "    <tr>\n",
       "      <th>0</th>\n",
       "      <td>1.0</td>\n",
       "      <td>foo</td>\n",
       "    </tr>\n",
       "    <tr>\n",
       "      <th>1</th>\n",
       "      <td>2.0</td>\n",
       "      <td>bar</td>\n",
       "    </tr>\n",
       "    <tr>\n",
       "      <th>2</th>\n",
       "      <td>NaN</td>\n",
       "      <td>baz</td>\n",
       "    </tr>\n",
       "  </tbody>\n",
       "</table>\n",
       "</div>"
      ],
      "text/plain": [
       "     A    B\n",
       "0  1.0  foo\n",
       "1  2.0  bar\n",
       "2  NaN  baz"
      ]
     },
     "execution_count": 1,
     "metadata": {},
     "output_type": "execute_result"
    }
   ],
   "source": [
    "import pandas as pd\n",
    "\n",
    "df = pd.DataFrame({\n",
    "    'A': [1, 2, None],\n",
    "    'B': ['foo', 'bar', 'baz']\n",
    "})\n",
    "df"
   ]
  },
  {
   "cell_type": "code",
   "execution_count": 2,
   "id": "5b35a38e-7324-41aa-9cac-db3e174fe800",
   "metadata": {},
   "outputs": [
    {
     "name": "stdout",
     "output_type": "stream",
     "text": [
      "<class 'pandas.core.frame.DataFrame'>\n",
      "RangeIndex: 3 entries, 0 to 2\n",
      "Data columns (total 2 columns):\n",
      " #   Column  Non-Null Count  Dtype  \n",
      "---  ------  --------------  -----  \n",
      " 0   A       2 non-null      float64\n",
      " 1   B       3 non-null      object \n",
      "dtypes: float64(1), object(1)\n",
      "memory usage: 180.0+ bytes\n"
     ]
    }
   ],
   "source": [
    "df.info()"
   ]
  },
  {
   "cell_type": "markdown",
   "id": "b818ec81-4857-407f-8151-7c6f838b8f34",
   "metadata": {},
   "source": [
    "#### Metoda describe\n",
    "\n",
    "Metoda `describe` generuje statystyki opisowe dla kolumn liczbowych (lub kategorycznych, jeśli podano argument). Zawiera takie statystyki jak średnia, odchylenie standardowe, minimum i maksimum."
   ]
  },
  {
   "cell_type": "code",
   "execution_count": 3,
   "id": "ef84f7e3-e46a-4fa2-8dde-58e392905671",
   "metadata": {},
   "outputs": [
    {
     "data": {
      "text/html": [
       "<div>\n",
       "<style scoped>\n",
       "    .dataframe tbody tr th:only-of-type {\n",
       "        vertical-align: middle;\n",
       "    }\n",
       "\n",
       "    .dataframe tbody tr th {\n",
       "        vertical-align: top;\n",
       "    }\n",
       "\n",
       "    .dataframe thead th {\n",
       "        text-align: right;\n",
       "    }\n",
       "</style>\n",
       "<table border=\"1\" class=\"dataframe\">\n",
       "  <thead>\n",
       "    <tr style=\"text-align: right;\">\n",
       "      <th></th>\n",
       "      <th>A</th>\n",
       "    </tr>\n",
       "  </thead>\n",
       "  <tbody>\n",
       "    <tr>\n",
       "      <th>count</th>\n",
       "      <td>2.000000</td>\n",
       "    </tr>\n",
       "    <tr>\n",
       "      <th>mean</th>\n",
       "      <td>1.500000</td>\n",
       "    </tr>\n",
       "    <tr>\n",
       "      <th>std</th>\n",
       "      <td>0.707107</td>\n",
       "    </tr>\n",
       "    <tr>\n",
       "      <th>min</th>\n",
       "      <td>1.000000</td>\n",
       "    </tr>\n",
       "    <tr>\n",
       "      <th>25%</th>\n",
       "      <td>1.250000</td>\n",
       "    </tr>\n",
       "    <tr>\n",
       "      <th>50%</th>\n",
       "      <td>1.500000</td>\n",
       "    </tr>\n",
       "    <tr>\n",
       "      <th>75%</th>\n",
       "      <td>1.750000</td>\n",
       "    </tr>\n",
       "    <tr>\n",
       "      <th>max</th>\n",
       "      <td>2.000000</td>\n",
       "    </tr>\n",
       "  </tbody>\n",
       "</table>\n",
       "</div>"
      ],
      "text/plain": [
       "              A\n",
       "count  2.000000\n",
       "mean   1.500000\n",
       "std    0.707107\n",
       "min    1.000000\n",
       "25%    1.250000\n",
       "50%    1.500000\n",
       "75%    1.750000\n",
       "max    2.000000"
      ]
     },
     "execution_count": 3,
     "metadata": {},
     "output_type": "execute_result"
    }
   ],
   "source": [
    "df.describe()"
   ]
  },
  {
   "cell_type": "markdown",
   "id": "52c8f72e-283c-49b8-a2fc-1d453ee0775e",
   "metadata": {},
   "source": [
    "#### Metoda value_counts\n",
    "\n",
    "Metoda `value_counts` zwraca liczbę wystąpień unikalnych wartości w danej kolumnie/kolumnach. Jest przydatna do analizy kategorycznych danych."
   ]
  },
  {
   "cell_type": "code",
   "execution_count": 4,
   "id": "1d0b1a7f-b6b8-4ba1-bea6-d2d9ed263515",
   "metadata": {},
   "outputs": [
    {
     "data": {
      "text/plain": [
       "A    B  \n",
       "1.0  foo    1\n",
       "2.0  bar    1\n",
       "Name: count, dtype: int64"
      ]
     },
     "execution_count": 4,
     "metadata": {},
     "output_type": "execute_result"
    }
   ],
   "source": [
    "df.value_counts()"
   ]
  },
  {
   "cell_type": "code",
   "execution_count": 5,
   "id": "50619f67",
   "metadata": {},
   "outputs": [
    {
     "data": {
      "text/plain": [
       "A\n",
       "1.0    1\n",
       "2.0    1\n",
       "Name: count, dtype: int64"
      ]
     },
     "execution_count": 5,
     "metadata": {},
     "output_type": "execute_result"
    }
   ],
   "source": [
    "df['A'].value_counts()"
   ]
  },
  {
   "cell_type": "code",
   "execution_count": 6,
   "id": "9e846f60",
   "metadata": {},
   "outputs": [
    {
     "data": {
      "text/plain": [
       "B\n",
       "foo    1\n",
       "bar    1\n",
       "baz    1\n",
       "Name: count, dtype: int64"
      ]
     },
     "execution_count": 6,
     "metadata": {},
     "output_type": "execute_result"
    }
   ],
   "source": [
    "df['B'].value_counts()"
   ]
  },
  {
   "cell_type": "markdown",
   "id": "2a4ae057-7990-49c7-a568-b638f4522b92",
   "metadata": {},
   "source": [
    "#### Sortowanie\n",
    "\n",
    "Ramki można sortować za pomocą metody sort_values(). Można sortować według jednej lub wielu kolumn."
   ]
  },
  {
   "cell_type": "code",
   "execution_count": 7,
   "id": "814d6e8b-f0fd-4297-9f4c-b17038d6432d",
   "metadata": {},
   "outputs": [
    {
     "data": {
      "text/html": [
       "<div>\n",
       "<style scoped>\n",
       "    .dataframe tbody tr th:only-of-type {\n",
       "        vertical-align: middle;\n",
       "    }\n",
       "\n",
       "    .dataframe tbody tr th {\n",
       "        vertical-align: top;\n",
       "    }\n",
       "\n",
       "    .dataframe thead th {\n",
       "        text-align: right;\n",
       "    }\n",
       "</style>\n",
       "<table border=\"1\" class=\"dataframe\">\n",
       "  <thead>\n",
       "    <tr style=\"text-align: right;\">\n",
       "      <th></th>\n",
       "      <th>A</th>\n",
       "      <th>B</th>\n",
       "    </tr>\n",
       "  </thead>\n",
       "  <tbody>\n",
       "    <tr>\n",
       "      <th>1</th>\n",
       "      <td>2.0</td>\n",
       "      <td>bar</td>\n",
       "    </tr>\n",
       "    <tr>\n",
       "      <th>0</th>\n",
       "      <td>1.0</td>\n",
       "      <td>foo</td>\n",
       "    </tr>\n",
       "    <tr>\n",
       "      <th>2</th>\n",
       "      <td>NaN</td>\n",
       "      <td>baz</td>\n",
       "    </tr>\n",
       "  </tbody>\n",
       "</table>\n",
       "</div>"
      ],
      "text/plain": [
       "     A    B\n",
       "1  2.0  bar\n",
       "0  1.0  foo\n",
       "2  NaN  baz"
      ]
     },
     "execution_count": 7,
     "metadata": {},
     "output_type": "execute_result"
    }
   ],
   "source": [
    "df_sorted = df.sort_values(by='A', ascending=False)\n",
    "df_sorted"
   ]
  },
  {
   "cell_type": "markdown",
   "id": "c36cdd14-25cb-4a2a-a195-84fef2ad4a1a",
   "metadata": {},
   "source": [
    "#### replace/map\n",
    "\n",
    "Metoda `replace` pozwala na zamianę określonych wartości w ramce danych, natomiast `map` jest używana do stosowania funkcji lub zamiany wartości na podstawie słownika."
   ]
  },
  {
   "cell_type": "code",
   "execution_count": 8,
   "id": "f07cb4d9-cc30-4fe7-a535-f45bedda446a",
   "metadata": {},
   "outputs": [
    {
     "data": {
      "text/html": [
       "<div>\n",
       "<style scoped>\n",
       "    .dataframe tbody tr th:only-of-type {\n",
       "        vertical-align: middle;\n",
       "    }\n",
       "\n",
       "    .dataframe tbody tr th {\n",
       "        vertical-align: top;\n",
       "    }\n",
       "\n",
       "    .dataframe thead th {\n",
       "        text-align: right;\n",
       "    }\n",
       "</style>\n",
       "<table border=\"1\" class=\"dataframe\">\n",
       "  <thead>\n",
       "    <tr style=\"text-align: right;\">\n",
       "      <th></th>\n",
       "      <th>A</th>\n",
       "      <th>B</th>\n",
       "    </tr>\n",
       "  </thead>\n",
       "  <tbody>\n",
       "    <tr>\n",
       "      <th>0</th>\n",
       "      <td>1.0</td>\n",
       "      <td>qux</td>\n",
       "    </tr>\n",
       "    <tr>\n",
       "      <th>1</th>\n",
       "      <td>2.0</td>\n",
       "      <td>bar</td>\n",
       "    </tr>\n",
       "    <tr>\n",
       "      <th>2</th>\n",
       "      <td>NaN</td>\n",
       "      <td>baz</td>\n",
       "    </tr>\n",
       "  </tbody>\n",
       "</table>\n",
       "</div>"
      ],
      "text/plain": [
       "     A    B\n",
       "0  1.0  qux\n",
       "1  2.0  bar\n",
       "2  NaN  baz"
      ]
     },
     "execution_count": 8,
     "metadata": {},
     "output_type": "execute_result"
    }
   ],
   "source": [
    "df['B'] = df['B'].replace({'foo': 'qux'})\n",
    "df"
   ]
  },
  {
   "cell_type": "code",
   "execution_count": 9,
   "id": "26b5c39e-d9bc-44a5-9ea5-f4ad87864cc4",
   "metadata": {},
   "outputs": [
    {
     "data": {
      "text/html": [
       "<div>\n",
       "<style scoped>\n",
       "    .dataframe tbody tr th:only-of-type {\n",
       "        vertical-align: middle;\n",
       "    }\n",
       "\n",
       "    .dataframe tbody tr th {\n",
       "        vertical-align: top;\n",
       "    }\n",
       "\n",
       "    .dataframe thead th {\n",
       "        text-align: right;\n",
       "    }\n",
       "</style>\n",
       "<table border=\"1\" class=\"dataframe\">\n",
       "  <thead>\n",
       "    <tr style=\"text-align: right;\">\n",
       "      <th></th>\n",
       "      <th>A</th>\n",
       "      <th>B</th>\n",
       "    </tr>\n",
       "  </thead>\n",
       "  <tbody>\n",
       "    <tr>\n",
       "      <th>0</th>\n",
       "      <td>one</td>\n",
       "      <td>qux</td>\n",
       "    </tr>\n",
       "    <tr>\n",
       "      <th>1</th>\n",
       "      <td>two</td>\n",
       "      <td>bar</td>\n",
       "    </tr>\n",
       "    <tr>\n",
       "      <th>2</th>\n",
       "      <td>NaN</td>\n",
       "      <td>baz</td>\n",
       "    </tr>\n",
       "  </tbody>\n",
       "</table>\n",
       "</div>"
      ],
      "text/plain": [
       "     A    B\n",
       "0  one  qux\n",
       "1  two  bar\n",
       "2  NaN  baz"
      ]
     },
     "execution_count": 9,
     "metadata": {},
     "output_type": "execute_result"
    }
   ],
   "source": [
    "df['A'] = df['A'].map({1: 'one', 2: 'two'})\n",
    "df"
   ]
  },
  {
   "cell_type": "markdown",
   "id": "6eadbc00-c504-4f8e-ba34-3b64c3629dc5",
   "metadata": {},
   "source": [
    "#### fillna\n",
    "\n",
    "Metoda `fillna` służy do wypełniania brakujących wartości (NaN) w ramce danych. Możesz wypełniać wartości stałymi lub metodami, takimi jak \"ffill\" (forward fill)."
   ]
  },
  {
   "cell_type": "code",
   "execution_count": 10,
   "id": "2313e554-5a4e-460c-acf8-c08a0962f8be",
   "metadata": {},
   "outputs": [
    {
     "data": {
      "text/html": [
       "<div>\n",
       "<style scoped>\n",
       "    .dataframe tbody tr th:only-of-type {\n",
       "        vertical-align: middle;\n",
       "    }\n",
       "\n",
       "    .dataframe tbody tr th {\n",
       "        vertical-align: top;\n",
       "    }\n",
       "\n",
       "    .dataframe thead th {\n",
       "        text-align: right;\n",
       "    }\n",
       "</style>\n",
       "<table border=\"1\" class=\"dataframe\">\n",
       "  <thead>\n",
       "    <tr style=\"text-align: right;\">\n",
       "      <th></th>\n",
       "      <th>A</th>\n",
       "      <th>B</th>\n",
       "    </tr>\n",
       "  </thead>\n",
       "  <tbody>\n",
       "    <tr>\n",
       "      <th>0</th>\n",
       "      <td>one</td>\n",
       "      <td>qux</td>\n",
       "    </tr>\n",
       "    <tr>\n",
       "      <th>1</th>\n",
       "      <td>two</td>\n",
       "      <td>bar</td>\n",
       "    </tr>\n",
       "    <tr>\n",
       "      <th>2</th>\n",
       "      <td>0</td>\n",
       "      <td>baz</td>\n",
       "    </tr>\n",
       "  </tbody>\n",
       "</table>\n",
       "</div>"
      ],
      "text/plain": [
       "     A    B\n",
       "0  one  qux\n",
       "1  two  bar\n",
       "2    0  baz"
      ]
     },
     "execution_count": 10,
     "metadata": {},
     "output_type": "execute_result"
    }
   ],
   "source": [
    "df['A'] = df['A'].fillna(0)\n",
    "df"
   ]
  },
  {
   "cell_type": "markdown",
   "id": "5ceab78b-7f0c-4bb0-9a9c-dece978a8a0d",
   "metadata": {},
   "source": [
    "#### crosstab\n",
    "\n",
    "Funkcja `crosstab` służy do tworzenia tabel krzyżowych, które pokazują częstość wystąpień kombinacji dwóch lub więcej zmiennych. Tablice krzyżowe pozwalają na badanie relacji między dwiema lub więcej zmiennymi kategorycznymi. Umożliwiają one zrozumienie, jak różne kategorie wpływają na siebie."
   ]
  },
  {
   "cell_type": "markdown",
   "id": "af06b2d5-c835-4be4-8fa3-33c604b255f7",
   "metadata": {},
   "source": [
    "Załóżmy, że mamy dane dotyczące ankiety wśród studentów na temat ich preferecji dotyczących kierunku studiów oraz płci."
   ]
  },
  {
   "attachments": {
    "0773dd1d-c0e4-4b56-ac46-b60e4b0baeea.png": {
     "image/png": "[encoded data removed]"
    }
   },
   "cell_type": "markdown",
   "id": "9ef1d8e0-c502-42cf-9786-e303f41b0003",
   "metadata": {},
   "source": [
    "![image.png](attachment:0773dd1d-c0e4-4b56-ac46-b60e4b0baeea.png)"
   ]
  },
  {
   "cell_type": "code",
   "execution_count": 11,
   "id": "c7af2d90-7daa-4cb4-ab04-8fff630d9105",
   "metadata": {},
   "outputs": [
    {
     "data": {
      "text/html": [
       "<div>\n",
       "<style scoped>\n",
       "    .dataframe tbody tr th:only-of-type {\n",
       "        vertical-align: middle;\n",
       "    }\n",
       "\n",
       "    .dataframe tbody tr th {\n",
       "        vertical-align: top;\n",
       "    }\n",
       "\n",
       "    .dataframe thead th {\n",
       "        text-align: right;\n",
       "    }\n",
       "</style>\n",
       "<table border=\"1\" class=\"dataframe\">\n",
       "  <thead>\n",
       "    <tr style=\"text-align: right;\">\n",
       "      <th></th>\n",
       "      <th>Płeć</th>\n",
       "      <th>Kierunek</th>\n",
       "    </tr>\n",
       "  </thead>\n",
       "  <tbody>\n",
       "    <tr>\n",
       "      <th>0</th>\n",
       "      <td>Mężczyzna</td>\n",
       "      <td>Informatyka</td>\n",
       "    </tr>\n",
       "    <tr>\n",
       "      <th>1</th>\n",
       "      <td>Kobieta</td>\n",
       "      <td>Informatyka</td>\n",
       "    </tr>\n",
       "    <tr>\n",
       "      <th>2</th>\n",
       "      <td>Mężczyzna</td>\n",
       "      <td>Matematyka</td>\n",
       "    </tr>\n",
       "    <tr>\n",
       "      <th>3</th>\n",
       "      <td>Kobieta</td>\n",
       "      <td>Matematyka</td>\n",
       "    </tr>\n",
       "    <tr>\n",
       "      <th>4</th>\n",
       "      <td>Mężczyzna</td>\n",
       "      <td>Biologia</td>\n",
       "    </tr>\n",
       "    <tr>\n",
       "      <th>5</th>\n",
       "      <td>Kobieta</td>\n",
       "      <td>Biologia</td>\n",
       "    </tr>\n",
       "    <tr>\n",
       "      <th>6</th>\n",
       "      <td>Mężczyzna</td>\n",
       "      <td>Fizjoterapia</td>\n",
       "    </tr>\n",
       "    <tr>\n",
       "      <th>7</th>\n",
       "      <td>Kobieta</td>\n",
       "      <td>Fizjoterapia</td>\n",
       "    </tr>\n",
       "  </tbody>\n",
       "</table>\n",
       "</div>"
      ],
      "text/plain": [
       "        Płeć      Kierunek\n",
       "0  Mężczyzna   Informatyka\n",
       "1    Kobieta   Informatyka\n",
       "2  Mężczyzna    Matematyka\n",
       "3    Kobieta    Matematyka\n",
       "4  Mężczyzna      Biologia\n",
       "5    Kobieta      Biologia\n",
       "6  Mężczyzna  Fizjoterapia\n",
       "7    Kobieta  Fizjoterapia"
      ]
     },
     "execution_count": 11,
     "metadata": {},
     "output_type": "execute_result"
    }
   ],
   "source": [
    "# Przykładowe dane\n",
    "data = {\n",
    "    'Płeć': ['Mężczyzna', 'Kobieta', 'Mężczyzna', 'Kobieta', \n",
    "             'Mężczyzna', 'Kobieta', 'Mężczyzna', 'Kobieta'],\n",
    "    'Kierunek': ['Informatyka', 'Informatyka', 'Matematyka', \n",
    "                 'Matematyka', 'Biologia', 'Biologia', \n",
    "                 'Fizjoterapia', 'Fizjoterapia']\n",
    "}\n",
    "\n",
    "df = pd.DataFrame(data)\n",
    "df"
   ]
  },
  {
   "cell_type": "code",
   "execution_count": 12,
   "id": "16f6a807-5312-451d-80c0-8e0c665b2709",
   "metadata": {},
   "outputs": [
    {
     "data": {
      "text/html": [
       "<div>\n",
       "<style scoped>\n",
       "    .dataframe tbody tr th:only-of-type {\n",
       "        vertical-align: middle;\n",
       "    }\n",
       "\n",
       "    .dataframe tbody tr th {\n",
       "        vertical-align: top;\n",
       "    }\n",
       "\n",
       "    .dataframe thead th {\n",
       "        text-align: right;\n",
       "    }\n",
       "</style>\n",
       "<table border=\"1\" class=\"dataframe\">\n",
       "  <thead>\n",
       "    <tr style=\"text-align: right;\">\n",
       "      <th>Kierunek</th>\n",
       "      <th>Biologia</th>\n",
       "      <th>Fizjoterapia</th>\n",
       "      <th>Informatyka</th>\n",
       "      <th>Matematyka</th>\n",
       "    </tr>\n",
       "    <tr>\n",
       "      <th>Płeć</th>\n",
       "      <th></th>\n",
       "      <th></th>\n",
       "      <th></th>\n",
       "      <th></th>\n",
       "    </tr>\n",
       "  </thead>\n",
       "  <tbody>\n",
       "    <tr>\n",
       "      <th>Kobieta</th>\n",
       "      <td>1</td>\n",
       "      <td>1</td>\n",
       "      <td>1</td>\n",
       "      <td>1</td>\n",
       "    </tr>\n",
       "    <tr>\n",
       "      <th>Mężczyzna</th>\n",
       "      <td>1</td>\n",
       "      <td>1</td>\n",
       "      <td>1</td>\n",
       "      <td>1</td>\n",
       "    </tr>\n",
       "  </tbody>\n",
       "</table>\n",
       "</div>"
      ],
      "text/plain": [
       "Kierunek   Biologia  Fizjoterapia  Informatyka  Matematyka\n",
       "Płeć                                                      \n",
       "Kobieta           1             1            1           1\n",
       "Mężczyzna         1             1            1           1"
      ]
     },
     "execution_count": 12,
     "metadata": {},
     "output_type": "execute_result"
    }
   ],
   "source": [
    "# Tworzenie tabeli krzyżowej\n",
    "crosstab = pd.crosstab(df['Płeć'], df['Kierunek'])\n",
    "crosstab"
   ]
  },
  {
   "cell_type": "markdown",
   "id": "574e0c5c-8535-4a50-a4b6-f2ca0c568e0e",
   "metadata": {},
   "source": [
    "Wniosek:\n",
    "\n",
    "Kobiety: 1 wybiera Biologię, 1 Fizjoterapię, 1 Informatykę, 1 Matematyka.\n",
    "\n",
    "Mężczyźni: 1 wybiera Biologię, 1 Fizjoterapię, 2 Informatykę, 1 Matematyka."
   ]
  },
  {
   "cell_type": "markdown",
   "id": "f9c7021d-b1e1-45f8-a0d4-feeba2c25b42",
   "metadata": {},
   "source": [
    "#### cut\n",
    "\n",
    "Funkcja `cut` pozwala na \"binowanie\" danych ciągłych w przedziały. Jest to przydatne, gdy chcesz grupować dane w kategorie."
   ]
  },
  {
   "cell_type": "code",
   "execution_count": 13,
   "id": "8ff2ac76-a5ee-4a05-8e11-8763ccdf940c",
   "metadata": {},
   "outputs": [
    {
     "data": {
      "text/html": [
       "<div>\n",
       "<style scoped>\n",
       "    .dataframe tbody tr th:only-of-type {\n",
       "        vertical-align: middle;\n",
       "    }\n",
       "\n",
       "    .dataframe tbody tr th {\n",
       "        vertical-align: top;\n",
       "    }\n",
       "\n",
       "    .dataframe thead th {\n",
       "        text-align: right;\n",
       "    }\n",
       "</style>\n",
       "<table border=\"1\" class=\"dataframe\">\n",
       "  <thead>\n",
       "    <tr style=\"text-align: right;\">\n",
       "      <th></th>\n",
       "      <th>A</th>\n",
       "      <th>A_bins</th>\n",
       "    </tr>\n",
       "  </thead>\n",
       "  <tbody>\n",
       "    <tr>\n",
       "      <th>0</th>\n",
       "      <td>0.5</td>\n",
       "      <td>low</td>\n",
       "    </tr>\n",
       "    <tr>\n",
       "      <th>1</th>\n",
       "      <td>1.5</td>\n",
       "      <td>medium</td>\n",
       "    </tr>\n",
       "    <tr>\n",
       "      <th>2</th>\n",
       "      <td>2.0</td>\n",
       "      <td>medium</td>\n",
       "    </tr>\n",
       "    <tr>\n",
       "      <th>3</th>\n",
       "      <td>2.5</td>\n",
       "      <td>high</td>\n",
       "    </tr>\n",
       "    <tr>\n",
       "      <th>4</th>\n",
       "      <td>3.0</td>\n",
       "      <td>high</td>\n",
       "    </tr>\n",
       "  </tbody>\n",
       "</table>\n",
       "</div>"
      ],
      "text/plain": [
       "     A  A_bins\n",
       "0  0.5     low\n",
       "1  1.5  medium\n",
       "2  2.0  medium\n",
       "3  2.5    high\n",
       "4  3.0    high"
      ]
     },
     "execution_count": 13,
     "metadata": {},
     "output_type": "execute_result"
    }
   ],
   "source": [
    "# Przykładowe dane z wartościami liczbowymi\n",
    "data = {'A': [0.5, 1.5, 2.0, 2.5, 3.0]}\n",
    "df = pd.DataFrame(data)\n",
    "\n",
    "# Użycie cut() do binowania danych\n",
    "df['A_bins'] = pd.cut(df['A'], bins=[0, 1, 2, 3], labels=['low', 'medium', 'high'])\n",
    "\n",
    "df"
   ]
  }
 ],
 "metadata": {
  "kernelspec": {
   "display_name": "base",
   "language": "python",
   "name": "python3"
  },
  "language_info": {
   "codemirror_mode": {
    "name": "ipython",
    "version": 3
   },
   "file_extension": ".py",
   "mimetype": "text/x-python",
   "name": "python",
   "nbconvert_exporter": "python",
   "pygments_lexer": "ipython3",
   "version": "3.11.9"
  }
 },
 "nbformat": 4,
 "nbformat_minor": 5
}
